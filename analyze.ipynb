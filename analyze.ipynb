{
 "cells": [
  {
   "cell_type": "markdown",
   "metadata": {},
   "source": [
    "# Code"
   ]
  },
  {
   "cell_type": "code",
   "execution_count": null,
   "metadata": {},
   "outputs": [],
   "source": [
    "%pip install pandas matplotlib seaborn"
   ]
  },
  {
   "cell_type": "code",
   "execution_count": null,
   "metadata": {},
   "outputs": [],
   "source": [
    "import pandas as pd\n",
    "import matplotlib.pyplot as plt\n",
    "import seaborn as sns"
   ]
  },
  {
   "cell_type": "code",
   "execution_count": null,
   "metadata": {},
   "outputs": [],
   "source": [
    "def calculate_language_usage():\n",
    "    language_usage = {}\n",
    "\n",
    "    for repo in dataframe.itertuples():\n",
    "        repo_languages = repo.langs_percentage\n",
    "        total_lines = repo.total_lines\n",
    "\n",
    "        for language, percentage in repo_languages.items():\n",
    "            lines = total_lines * (float(percentage.strip('%')) / 100)\n",
    "            language_usage[language] = language_usage.get(language, 0) + lines\n",
    "\n",
    "    total_lines_of_code = sum(language_usage.values())\n",
    "\n",
    "    formatted_languages = sorted(\n",
    "        [(language, f'{(lines / total_lines_of_code):.2%}', int(lines)) for language, lines in language_usage.items()],\n",
    "        key=lambda item: float(item[1].strip('%')),\n",
    "        reverse=True\n",
    "    )\n",
    "\n",
    "    file_path = f\"results/languages_usage.csv\"\n",
    "    dataframeLanguages = pd.DataFrame(formatted_languages, columns=[\"Language\", \"Usage Percentage\", \"Lines\"])\n",
    "    dataframeLanguages.to_csv(file_path, index=False)\n",
    "    return dataframeLanguages"
   ]
  },
  {
   "cell_type": "code",
   "execution_count": null,
   "metadata": {},
   "outputs": [],
   "source": [
    "def generate_statistics():\n",
    "    numeric_metrics = dataframe[METRICS].select_dtypes(include='number')\n",
    "    \n",
    "    statistics = numeric_metrics.describe().transpose()\n",
    "    \n",
    "    statistics['median'] = numeric_metrics.median()\n",
    "    statistics['mode'] = numeric_metrics.mode().iloc[0]\n",
    "    \n",
    "    file_path = f\"results/statistics.csv\"\n",
    "    statistics.to_csv(file_path)\n",
    "    \n",
    "    return statistics"
   ]
  },
  {
   "cell_type": "code",
   "execution_count": null,
   "metadata": {},
   "outputs": [],
   "source": [
    "def plot_metrics_distribution(metricts):\n",
    "    plt.figure(figsize=(16, 12))\n",
    "\n",
    "    for i, metric in enumerate(metricts):\n",
    "        plt.subplot(3, 3, i + 1)\n",
    "        sns.histplot(dataframe[metric], kde=True, bins=30, color='blue', alpha=0.6)\n",
    "        plt.axvline(dataframe[metric].mean(), color='r', linestyle='dashed', linewidth=1, label='Mean')\n",
    "        plt.axvline(dataframe[metric].median(), color='g', linestyle='dashed', linewidth=1, label='Median')\n",
    "        plt.title(f'Distribution of {metric}')\n",
    "        plt.xlabel(metric)\n",
    "        plt.ylabel('Frequency')\n",
    "        plt.legend()\n",
    "\n",
    "    plt.tight_layout()\n",
    "    plt.savefig('results/distribution_metrics.png')\n",
    "    plt.show()"
   ]
  },
  {
   "cell_type": "code",
   "execution_count": null,
   "metadata": {},
   "outputs": [],
   "source": [
    "def plot_metrics_boxplot(metricts):\n",
    "    numeric_metrics = dataframe[metricts].select_dtypes(include='number')\n",
    "    \n",
    "    plt.figure(figsize=(16, 12))\n",
    "    for i, metric in enumerate(numeric_metrics.columns):\n",
    "        plt.subplot(3, 3, i + 1)\n",
    "        sns.boxplot(x=numeric_metrics[metric], color='lightblue')\n",
    "        plt.title(f'Boxplot of {metric}')\n",
    "        plt.xlabel(metric)\n",
    "    \n",
    "    plt.tight_layout()\n",
    "    plt.savefig('results/boxplot_metrics.png')\n",
    "    plt.show()"
   ]
  },
  {
   "cell_type": "code",
   "execution_count": null,
   "metadata": {},
   "outputs": [],
   "source": [
    "def plot_metrics_statistics(metricts):\n",
    "    desc_stats = dataframe[metricts].describe().T[['mean', '50%', 'std']]\n",
    "    desc_stats.columns = ['Mean', 'Median', 'Standard Deviation']\n",
    "    desc_stats.plot(kind='bar', figsize=(12, 6))\n",
    "    plt.title('Descriptive Statistics of Repository Metrics')\n",
    "    plt.ylabel('Values')\n",
    "    plt.xticks(rotation=0)\n",
    "    plt.savefig('results/metrics_statistics.png')\n",
    "    plt.show()"
   ]
  },
  {
   "cell_type": "markdown",
   "metadata": {},
   "source": [
    "# Results"
   ]
  },
  {
   "cell_type": "code",
   "execution_count": null,
   "metadata": {},
   "outputs": [],
   "source": [
    "dataframe = pd.read_csv('results/codesamples_20240806_170657.csv')\n",
    "dataframe"
   ]
  },
  {
   "cell_type": "code",
   "execution_count": null,
   "metadata": {},
   "outputs": [],
   "source": [
    "dataframeLanguages = calculate_language_usage()\n",
    "dataframeLanguages"
   ]
  },
  {
   "cell_type": "code",
   "execution_count": null,
   "metadata": {},
   "outputs": [],
   "source": [
    "dataframe_statistics = generate_statistics()\n",
    "dataframe_statistics"
   ]
  },
  {
   "cell_type": "code",
   "execution_count": null,
   "metadata": {},
   "outputs": [],
   "source": [
    "metricts = [\n",
    "    'size', \n",
    "    'stargazers_count', \n",
    "    'watchers_count', \n",
    "    'forks_count', \n",
    "    'open_issues_count', \n",
    "    'subscribers_count', \n",
    "    'network_count',\n",
    "    'total_lines'\n",
    "]\n",
    "plot_metrics_distribution(metricts)"
   ]
  },
  {
   "cell_type": "code",
   "execution_count": null,
   "metadata": {},
   "outputs": [],
   "source": [
    "metricts = [\n",
    "    'size', \n",
    "    'stargazers_count', \n",
    "    'watchers_count', \n",
    "    'forks_count', \n",
    "    'open_issues_count', \n",
    "    'subscribers_count', \n",
    "    'network_count',\n",
    "    'total_lines'\n",
    "]\n",
    "plot_metrics_boxplot(metricts)"
   ]
  },
  {
   "cell_type": "code",
   "execution_count": null,
   "metadata": {},
   "outputs": [],
   "source": [
    "metricts = [\n",
    "    'stargazers_count', \n",
    "    'watchers_count', \n",
    "    'forks_count', \n",
    "    'open_issues_count', \n",
    "    'subscribers_count', \n",
    "    'network_count',\n",
    "]\n",
    "plot_metrics_statistics(metricts)"
   ]
  }
 ],
 "metadata": {
  "kernelspec": {
   "display_name": "Python 3",
   "language": "python",
   "name": "python3"
  },
  "language_info": {
   "codemirror_mode": {
    "name": "ipython",
    "version": 3
   },
   "file_extension": ".py",
   "mimetype": "text/x-python",
   "name": "python",
   "nbconvert_exporter": "python",
   "pygments_lexer": "ipython3",
   "version": "3.11.0"
  }
 },
 "nbformat": 4,
 "nbformat_minor": 2
}
