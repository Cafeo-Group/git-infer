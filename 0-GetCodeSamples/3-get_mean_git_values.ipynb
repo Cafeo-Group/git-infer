{
 "cells": [
  {
   "cell_type": "code",
   "execution_count": 7,
   "metadata": {},
   "outputs": [],
   "source": [
    "import pandas as pd\n",
    "import numpy as np\n",
    "from datetime import datetime"
   ]
  },
  {
   "cell_type": "code",
   "execution_count": 8,
   "metadata": {},
   "outputs": [
    {
     "name": "stderr",
     "output_type": "stream",
     "text": [
      "C:\\Users\\oheit\\AppData\\Local\\Temp\\ipykernel_28300\\4114117517.py:19: DeprecationWarning: datetime.datetime.utcfromtimestamp() is deprecated and scheduled for removal in a future version. Use timezone-aware objects to represent datetimes in UTC: datetime.datetime.fromtimestamp(timestamp, datetime.UTC).\n",
      "  mean_datetime = datetime.utcfromtimestamp(mean_timestamp).strftime('%Y-%m-%d %H:%M:%S')\n",
      "C:\\Users\\oheit\\AppData\\Local\\Temp\\ipykernel_28300\\4114117517.py:19: DeprecationWarning: datetime.datetime.utcfromtimestamp() is deprecated and scheduled for removal in a future version. Use timezone-aware objects to represent datetimes in UTC: datetime.datetime.fromtimestamp(timestamp, datetime.UTC).\n",
      "  mean_datetime = datetime.utcfromtimestamp(mean_timestamp).strftime('%Y-%m-%d %H:%M:%S')\n"
     ]
    }
   ],
   "source": [
    "samples_data = pd.read_csv(\"codesamples.csv\")\n",
    "dataframe = pd.DataFrame()\n",
    "\n",
    "for column in samples_data:\n",
    "    \n",
    "    if column in ['description', 'full_name', 'main_language', 'langs_percentage', 'framework']:\n",
    "        continue\n",
    "    \n",
    "    if column in ['created_at', 'updated_at']:\n",
    "        samples_data[column] = pd.to_datetime(samples_data[column], errors='coerce')\n",
    "\n",
    "        timestamps = samples_data[column].astype(np.int64) // 10**9  # Convert to seconds\n",
    "        mean_timestamp = timestamps.mean()\n",
    "        mean_datetime = datetime(mean_timestamp).strftime('%Y-%m-%d %H:%M:%S')\n",
    "        \n",
    "        dataframe = pd.concat([dataframe, pd.DataFrame({column: [mean_datetime]})], axis=1)\n",
    "    else:\n",
    "    \n",
    "        total_items_value = 0\n",
    "        for item in samples_data[column]:\n",
    "            total_items_value += int(item)\n",
    "        \n",
    "        mean = total_items_value // len(samples_data[column])\n",
    "        dataframe = pd.concat([dataframe, pd.DataFrame({column: [f'{mean}']})], axis=1)\n",
    "\n",
    "dataframe.to_csv(\"codesamples_mean.csv\", index=False)"
   ]
  }
 ],
 "metadata": {
  "kernelspec": {
   "display_name": "Python 3",
   "language": "python",
   "name": "python3"
  },
  "language_info": {
   "codemirror_mode": {
    "name": "ipython",
    "version": 3
   },
   "file_extension": ".py",
   "mimetype": "text/x-python",
   "name": "python",
   "nbconvert_exporter": "python",
   "pygments_lexer": "ipython3",
   "version": "3.12.4"
  }
 },
 "nbformat": 4,
 "nbformat_minor": 2
}
