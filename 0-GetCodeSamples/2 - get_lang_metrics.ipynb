{
 "cells": [
  {
   "cell_type": "markdown",
   "metadata": {},
   "source": [
    "<div class='alert alert-box alert-info'>\n",
    "    Outputs a <b>.csv</b> file with the percentage of the presence of each programming language based on the repositories from the selected organizations. The data is extracted from the <b>codesamples.csv</b> file.\n",
    "</div> "
   ]
  },
  {
   "cell_type": "code",
   "execution_count": 28,
   "metadata": {},
   "outputs": [],
   "source": [
    "import pandas as pd\n",
    "from ast import literal_eval"
   ]
  },
  {
   "cell_type": "code",
   "execution_count": 29,
   "metadata": {},
   "outputs": [],
   "source": [
    "dataframe = pd.read_csv(\"codesamples.csv\")\n",
    "\n",
    "language_usage = {}\n",
    "for repo in dataframe[\"langs_percentage\"]:\n",
    "    for language, percentage in literal_eval(repo).items():\n",
    "        language_usage[language] = language_usage.get(language, 0) + float(percentage.strip(\"%\"))\n",
    "\n",
    "total_usage = sum(language_usage.values())\n",
    "\n",
    "formatted_languages = sorted(\n",
    "    [(language, f'{percentage / total_usage:.2%}') for language, percentage in language_usage.items()],\n",
    "    key=lambda item: float(item[1].strip('%')),\n",
    "    reverse=True\n",
    ")\n",
    "\n",
    "pd.DataFrame(formatted_languages, columns=[\"Language\", \"Usage Percentage\"]).to_csv(\"languages_usage_from_organizations.csv\", index=False)"
   ]
  }
 ],
 "metadata": {
  "kernelspec": {
   "display_name": "Python 3",
   "language": "python",
   "name": "python3"
  },
  "language_info": {
   "codemirror_mode": {
    "name": "ipython",
    "version": 3
   },
   "file_extension": ".py",
   "mimetype": "text/x-python",
   "name": "python",
   "nbconvert_exporter": "python",
   "pygments_lexer": "ipython3",
   "version": "3.12.4"
  }
 },
 "nbformat": 4,
 "nbformat_minor": 2
}
