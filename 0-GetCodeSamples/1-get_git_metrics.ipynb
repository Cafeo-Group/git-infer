{
 "cells": [
  {
   "cell_type": "markdown",
   "metadata": {},
   "source": [
    "#### Outputs a **.csv** file with metrics on repositories from the following organizations:\n",
    "- googlesamples\n",
    "- aws-samples\n",
    "- Azure-Samples\n",
    "- spring-guides \n",
    "- googlearchive\n",
    "- spring-cloud-samples\n",
    "-spring-io\n",
    "#### The metrics include:\n",
    "- full_name\n",
    "- name\n",
    "- owner\n",
    "- html_url\n",
    "- description\n",
    "- created_at\n",
    "- updated_at\n",
    "- pushed_at\n",
    "- size\n",
    "- language\n",
    "- forks_count\n",
    "- stargazers_count\n",
    "- subscribers_count\n",
    "- watchers_count\n",
    "- network_count\n",
    "- archived\n",
    "- total_lines\n",
    "- langs_percentage\n",
    "<div class=\"alert alert-box alert-info\">\n",
    "    <b>Note:</b> You can change the organizations by modifying the list of organizations in the code cell below.\n",
    "</div>"
   ]
  },
  {
   "cell_type": "code",
   "execution_count": null,
   "metadata": {},
   "outputs": [],
   "source": [
    "ORGANIZATIONS = [\"googlesamples\",\n",
    "                \"aws-samples\",\n",
    "                \"Azure-Samples\",\n",
    "                \"googlearchive\",\n",
    "                \"spring-guides\",\n",
    "                \"spring-cloud-samples\",\n",
    "                \"spring-io\"\n",
    "                 ]\n",
    "\n",
    "EXCLUDED_REPOS = [\n",
    "    \"googlearchive/digits-migration-helper-android\",\n",
    "    \"googlearchive/play-apk-expansion\",\n",
    "    \"googlearchive/tiger\",\n",
    "    \"googlearchive/two-token-sw\",\n",
    "    \"googlearchive/Abelana-Android\",\n",
    "    \"googlearchive/solutions-mobile-backend-starter-java\"\n",
    "]"
   ]
  },
  {
   "cell_type": "code",
   "execution_count": null,
   "metadata": {},
   "outputs": [],
   "source": [
    "%pip install PyGithub python-dotenv pandas tqdm cachetools matplotlib seaborn"
   ]
  },
  {
   "cell_type": "code",
   "execution_count": null,
   "metadata": {},
   "outputs": [],
   "source": [
    "from github import Github\n",
    "import pandas as pd\n",
    "from dotenv import load_dotenv\n",
    "from os import getenv\n",
    "from tqdm import tqdm\n",
    "import matplotlib.pyplot as plt\n",
    "import seaborn as sns\n",
    "import datetime\n",
    "from concurrent.futures import ThreadPoolExecutor, as_completed\n",
    "from cachetools import cached, TTLCache"
   ]
  },
  {
   "cell_type": "code",
   "execution_count": null,
   "metadata": {},
   "outputs": [],
   "source": [
    "load_dotenv()\n",
    "g = Github(getenv('GITHUB_TOKEN'), per_page=100)"
   ]
  },
  {
   "cell_type": "code",
   "execution_count": null,
   "metadata": {},
   "outputs": [],
   "source": [
    "def fetch_organization_repositories(organization_name, language=None):\n",
    "    repo_data = []\n",
    "    organization = g.get_organization(organization_name)\n",
    "    repos = organization.get_repos(\"all\")\n",
    "    total_repos = repos.totalCount\n",
    "\n",
    "    def process_repo(repo):\n",
    "        if repo.full_name in EXCLUDED_REPOS:\n",
    "            return None\n",
    "        if language and repo.language != language:\n",
    "            return None\n",
    "        if organization_name == \"googlearchive\" and not is_valid_googlearchive_repo(repo):\n",
    "            return None\n",
    "        elif organization_name == \"SAP-samples\" and not is_valid_sap_sample_repo(repo):\n",
    "            return None\n",
    "        \n",
    "        repo_languages = repo.get_languages()\n",
    "        total_lines = sum(repo_languages.values())\n",
    "        language_percentages = {lang: f'{(lines/total_lines):.2%}' for lang, lines in repo_languages.items()}\n",
    "        return {\n",
    "        \"full_name\": repo.full_name,\n",
    "        \"name\": repo.name,\n",
    "        \"owner\": repo.owner.login,\n",
    "        \"html_url\": repo.html_url,\n",
    "        \"description\": repo.description, \n",
    "        \"created_at\": repo.created_at,\n",
    "        \"updated_at\": repo.updated_at, \n",
    "        \"pushed_at\": repo.pushed_at,\n",
    "        \"size\": repo.size, \n",
    "        \"language\": repo.language, \n",
    "        \"forks_count\": repo.forks_count,\n",
    "        \"stargazers_count\": repo.stargazers_count, \n",
    "        \"subscribers_count\": repo.subscribers_count,\n",
    "        \"watchers_count\": repo.watchers_count,\n",
    "        \"network_count\": repo.network_count,\n",
    "        \"archived\": repo.archived,\n",
    "        \"total_lines\": total_lines,\n",
    "        \"langs_percentage\": language_percentages\n",
    "        }\n",
    "\n",
    "\n",
    "    with ThreadPoolExecutor() as executor:\n",
    "        futures = [executor.submit(process_repo, repo) for repo in repos]\n",
    "        for future in tqdm(as_completed(futures), total=total_repos, desc=organization_name, unit=\" repos\", ncols=100, bar_format='{l_bar}{bar}| {n_fmt}/{total_fmt} [{elapsed}<{remaining}, {rate_fmt}{postfix}] {percentage:3.0f}%'):\n",
    "            try:\n",
    "                result = future.result()\n",
    "                repo_data.append(result)\n",
    "                    \n",
    "            except Exception as e:\n",
    "                print(f\"Error fetching data for repo: {futures[future].full_name}, error: {e}\")\n",
    "\n",
    "    return pd.DataFrame(repo_data)\n",
    "\n",
    "def is_valid_googlearchive_repo(repo):\n",
    "    if not repo.description:\n",
    "        return False\n",
    "    keywords = [\"example\", \"sample\", \"migrated\"]\n",
    "    return any(keyword in repo.description.lower() for keyword in keywords) or any(keyword in repo.full_name.lower() for keyword in keywords)\n",
    "\n",
    "def is_valid_sap_sample_repo(repo):\n",
    "    if not repo.description:\n",
    "        return False\n",
    "    keywords = [\"cloud\"]\n",
    "    return any(keyword in repo.description.lower() for keyword in keywords) or any(keyword in repo.full_name.lower() for keyword in keywords)"
   ]
  },
  {
   "cell_type": "markdown",
   "metadata": {},
   "source": [
    "<div class='alert alert-box alert-info'>\n",
    "    Below is the code that generates the <b>.csv</b> metrics file.\n",
    "    You can change the language by modifying the <i style='color: red'>language</i> variable in the code cell below.\n",
    "</div>\n",
    "<div class='alert alert-box alert-warning'>\n",
    "    <b>Note:</b> The <i style='color: blue'>language</i> variable is case sensitive and can be <i style='color: blue'>None</i>, if you want to get all the repositories.\n",
    "</div>"
   ]
  },
  {
   "cell_type": "code",
   "execution_count": null,
   "metadata": {},
   "outputs": [],
   "source": [
    "\n",
    "def generate_metrics_csv():\n",
    "    all_repos_data = []\n",
    "    \n",
    "    def fetch_data_for_organization(organization):\n",
    "        print(f'Retrieving repos from {organization}...')\n",
    "        organization_repos_data = fetch_organization_repositories(organization, language=None)\n",
    "        if not organization_repos_data.empty:\n",
    "            return organization_repos_data\n",
    "        else:\n",
    "            return pd.DataFrame()\n",
    "\n",
    "    with ThreadPoolExecutor() as executor:\n",
    "        futures = [executor.submit(fetch_data_for_organization, org) for org in ORGANIZATIONS]\n",
    "        for future in tqdm(as_completed(futures), desc=\"Processing organizations\", unit=\" orgs\"):\n",
    "            org_data = future.result()\n",
    "            if not org_data.empty:\n",
    "                all_repos_data.append(org_data)\n",
    "\n",
    "    all_repos_data_df = pd.concat(all_repos_data, ignore_index=True) if all_repos_data else pd.DataFrame()\n",
    "    timestamp = datetime.datetime.now().strftime(\"%Y%m%d_%H%M%S\")\n",
    "    file_path = f\"results/codesamples_{timestamp}.csv\"\n",
    "    all_repos_data_df.to_csv(file_path, index=False)\n",
    "\n",
    "    return all_repos_data_df"
   ]
  },
  {
   "cell_type": "code",
   "execution_count": null,
   "metadata": {},
   "outputs": [],
   "source": [
    "def calculate_language_usage(dataframe):\n",
    "    language_usage = {}\n",
    "\n",
    "    for repo in dataframe.itertuples():\n",
    "        repo_languages = repo.langs_percentage\n",
    "        total_lines = repo.total_lines\n",
    "\n",
    "        for language, percentage in repo_languages.items():\n",
    "            lines = total_lines * (float(percentage.strip('%')) / 100)\n",
    "            language_usage[language] = language_usage.get(language, 0) + lines\n",
    "\n",
    "    total_lines_of_code = sum(language_usage.values())\n",
    "\n",
    "    formatted_languages = sorted(\n",
    "        [(language, f'{(lines / total_lines_of_code):.2%}', int(lines)) for language, lines in language_usage.items()],\n",
    "        key=lambda item: float(item[1].strip('%')),\n",
    "        reverse=True\n",
    "    )\n",
    "\n",
    "    file_path = f\"results/languages_usage.csv\"\n",
    "    dataframeLanguages = pd.DataFrame(formatted_languages, columns=[\"Language\", \"Usage Percentage\", \"Lines\"])\n",
    "    dataframeLanguages.to_csv(file_path, index=False)\n",
    "    return dataframeLanguages\n"
   ]
  },
  {
   "cell_type": "code",
   "execution_count": null,
   "metadata": {},
   "outputs": [],
   "source": [
    "def generate_statistics(dataframe):\n",
    "    numeric_metrics = dataframe[METRICS].select_dtypes(include='number')\n",
    "    \n",
    "    statistics = numeric_metrics.describe().transpose()\n",
    "    \n",
    "    statistics['median'] = numeric_metrics.median()\n",
    "    statistics['mode'] = numeric_metrics.mode().iloc[0]\n",
    "    \n",
    "    file_path = f\"results/statistics.csv\"\n",
    "    statistics.to_csv(file_path)\n",
    "    \n",
    "    return statistics"
   ]
  },
  {
   "cell_type": "code",
   "execution_count": null,
   "metadata": {},
   "outputs": [],
   "source": [
    "def plot_metrics_distribution(metricts):\n",
    "    plt.figure(figsize=(16, 12))\n",
    "\n",
    "    for i, metric in enumerate(metricts):\n",
    "        plt.subplot(3, 3, i + 1)\n",
    "        sns.histplot(dataframe[metric], kde=True, bins=30, color='blue', alpha=0.6)\n",
    "        plt.axvline(dataframe[metric].mean(), color='r', linestyle='dashed', linewidth=1, label='Mean')\n",
    "        plt.axvline(dataframe[metric].median(), color='g', linestyle='dashed', linewidth=1, label='Median')\n",
    "        plt.title(f'Distribution of {metric}')\n",
    "        plt.xlabel(metric)\n",
    "        plt.ylabel('Frequency')\n",
    "        plt.legend()\n",
    "\n",
    "    plt.tight_layout()\n",
    "    plt.savefig('results/distribution_metrics.png')\n",
    "    plt.show()"
   ]
  },
  {
   "cell_type": "code",
   "execution_count": null,
   "metadata": {},
   "outputs": [],
   "source": [
    "def plot_metrics_boxplot(metricts):\n",
    "    numeric_metrics = dataframe[metricts].select_dtypes(include='number')\n",
    "    \n",
    "    plt.figure(figsize=(16, 12))\n",
    "    for i, metric in enumerate(numeric_metrics.columns):\n",
    "        plt.subplot(3, 3, i + 1)\n",
    "        sns.boxplot(x=numeric_metrics[metric], color='lightblue')\n",
    "        plt.title(f'Boxplot of {metric}')\n",
    "        plt.xlabel(metric)\n",
    "    \n",
    "    plt.tight_layout()\n",
    "    plt.savefig('results/boxplot_metrics.png')\n",
    "    plt.show()"
   ]
  },
  {
   "cell_type": "code",
   "execution_count": null,
   "metadata": {},
   "outputs": [],
   "source": [
    "def plot_metrics_statistics(metricts):\n",
    "    desc_stats = dataframe[metricts].describe().T[['mean', '50%', 'std']]\n",
    "    desc_stats.columns = ['Mean', 'Median', 'Standard Deviation']\n",
    "    desc_stats.plot(kind='bar', figsize=(12, 6))\n",
    "    plt.title('Descriptive Statistics of Repository Metrics')\n",
    "    plt.ylabel('Values')\n",
    "    plt.xticks(rotation=0)\n",
    "    plt.savefig('../results/metrics_statistics.png')\n",
    "    plt.show()"
   ]
  },
  {
   "cell_type": "markdown",
   "metadata": {},
   "source": [
    "<div class='alert alert-box alert-info'>\n",
    "    <h1>Results</h1>\n",
    "    <p>The code cells below will generate a <b>.csv</b> file with the metrics of the repositories from the organizations mentioned above.</p>\n",
    "</div>"
   ]
  },
  {
   "cell_type": "code",
   "execution_count": null,
   "metadata": {},
   "outputs": [],
   "source": [
    "METRICS = [\n",
    "    'size', \n",
    "    'stargazers_count', \n",
    "    'watchers_count', \n",
    "    'forks_count', \n",
    "    'open_issues_count', \n",
    "    'subscribers_count', \n",
    "    'network_count',\n",
    "    'total_lines'\n",
    "]"
   ]
  },
  {
   "cell_type": "code",
   "execution_count": null,
   "metadata": {},
   "outputs": [],
   "source": [
    "dataframe = generate_metrics_csv()\n",
    "dataframe"
   ]
  },
  {
   "cell_type": "code",
   "execution_count": null,
   "metadata": {},
   "outputs": [],
   "source": [
    "dataframeLanguages = calculate_language_usage(dataframe)\n",
    "dataframeLanguages"
   ]
  },
  {
   "cell_type": "code",
   "execution_count": null,
   "metadata": {},
   "outputs": [],
   "source": [
    "dataframe_statistics = generate_statistics(dataframe)\n",
    "dataframe_statistics"
   ]
  },
  {
   "cell_type": "code",
   "execution_count": null,
   "metadata": {},
   "outputs": [],
   "source": [
    "metricts = [\n",
    "    'size', \n",
    "    'stargazers_count', \n",
    "    'watchers_count', \n",
    "    'forks_count', \n",
    "    'open_issues_count', \n",
    "    'subscribers_count', \n",
    "    'network_count',\n",
    "    'total_lines'\n",
    "]\n",
    "plot_metrics_distribution(metricts)"
   ]
  },
  {
   "cell_type": "code",
   "execution_count": null,
   "metadata": {},
   "outputs": [],
   "source": [
    "metricts = [\n",
    "    'size', \n",
    "    'stargazers_count', \n",
    "    'watchers_count', \n",
    "    'forks_count', \n",
    "    'open_issues_count', \n",
    "    'subscribers_count', \n",
    "    'network_count',\n",
    "    'total_lines'\n",
    "]\n",
    "plot_metrics_boxplot(metricts)"
   ]
  },
  {
   "cell_type": "code",
   "execution_count": null,
   "metadata": {},
   "outputs": [],
   "source": [
    "metricts = [\n",
    "    'stargazers_count', \n",
    "    'watchers_count', \n",
    "    'forks_count', \n",
    "    'open_issues_count', \n",
    "    'subscribers_count', \n",
    "    'network_count',\n",
    "]\n",
    "plot_metrics_statistics(metricts)"
   ]
  }
 ],
 "metadata": {
  "kernelspec": {
   "display_name": "Python 3",
   "language": "python",
   "name": "python3"
  },
  "language_info": {
   "codemirror_mode": {
    "name": "ipython",
    "version": 3
   },
   "file_extension": ".py",
   "mimetype": "text/x-python",
   "name": "python",
   "nbconvert_exporter": "python",
   "pygments_lexer": "ipython3",
   "version": "3.12.5"
  }
 },
 "nbformat": 4,
 "nbformat_minor": 2
}
