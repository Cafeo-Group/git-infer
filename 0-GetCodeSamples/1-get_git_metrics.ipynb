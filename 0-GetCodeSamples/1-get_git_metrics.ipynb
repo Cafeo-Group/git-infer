{
 "cells": [
  {
   "cell_type": "markdown",
   "metadata": {},
   "source": [
    "#### Outputs a **.csv** file with metrics on repositories from the following organizations:\n",
    "- googlesamples\n",
    "- aws-samples\n",
    "- Azure-Samples\n",
    "- spring-guides \n",
    "- googlearchive\n",
    "- spring-cloud-samples\n",
    "-spring-io\n",
    "#### The metrics include:\n",
    "- full_name\n",
    "- created_at\n",
    "- description\n",
    "- forks_count\n",
    "- language\n",
    "- open_issues_count\n",
    "- size\n",
    "- stargazers_count\n",
    "- subscribers_count\n",
    "- updated_at\n",
    "- watchers_count\n",
    "- langs_percentage\n",
    "x contibutors count\n",
    "x issues and pull reqs open and closed\n",
    "x accepted pull reqs?\n",
    "x num of commits\n",
    "x num of branches\n",
    "x last and first commit dates in the .csv file\n",
    "x tags\n",
    "<div class=\"alert alert-box alert-info\">\n",
    "    <b>Note:</b> You can change the organizations by modifying the list of organizations in the code cell below.\n",
    "</div>"
   ]
  },
  {
   "cell_type": "code",
   "execution_count": 1,
   "metadata": {},
   "outputs": [],
   "source": [
    "organizations = [\n",
    "                \"googlesamples\", \n",
    "                \"aws-samples\", #6k\n",
    "                \"Azure-Samples\", #2k\n",
    "                \"googlearchive\", #1k\n",
    "                \"spring-guides\",\n",
    "                \"spring-cloud-samples\",\n",
    "                \"spring-io\"\n",
    "                 ]"
   ]
  },
  {
   "cell_type": "code",
   "execution_count": 2,
   "metadata": {},
   "outputs": [
    {
     "name": "stdout",
     "output_type": "stream",
     "text": [
      "Defaulting to user installation because normal site-packages is not writeable\n",
      "Requirement already satisfied: PyGithub in c:\\users\\oheit\\appdata\\local\\packages\\pythonsoftwarefoundation.python.3.12_qbz5n2kfra8p0\\localcache\\local-packages\\python312\\site-packages (2.3.0)\n",
      "Requirement already satisfied: pynacl>=1.4.0 in c:\\users\\oheit\\appdata\\local\\packages\\pythonsoftwarefoundation.python.3.12_qbz5n2kfra8p0\\localcache\\local-packages\\python312\\site-packages (from PyGithub) (1.5.0)\n",
      "Requirement already satisfied: requests>=2.14.0 in c:\\users\\oheit\\appdata\\local\\packages\\pythonsoftwarefoundation.python.3.12_qbz5n2kfra8p0\\localcache\\local-packages\\python312\\site-packages (from PyGithub) (2.32.3)\n",
      "Requirement already satisfied: pyjwt>=2.4.0 in c:\\users\\oheit\\appdata\\local\\packages\\pythonsoftwarefoundation.python.3.12_qbz5n2kfra8p0\\localcache\\local-packages\\python312\\site-packages (from pyjwt[crypto]>=2.4.0->PyGithub) (2.8.0)\n",
      "Requirement already satisfied: typing-extensions>=4.0.0 in c:\\users\\oheit\\appdata\\local\\packages\\pythonsoftwarefoundation.python.3.12_qbz5n2kfra8p0\\localcache\\local-packages\\python312\\site-packages (from PyGithub) (4.12.2)\n",
      "Requirement already satisfied: urllib3>=1.26.0 in c:\\users\\oheit\\appdata\\local\\packages\\pythonsoftwarefoundation.python.3.12_qbz5n2kfra8p0\\localcache\\local-packages\\python312\\site-packages (from PyGithub) (2.2.1)\n",
      "Requirement already satisfied: Deprecated in c:\\users\\oheit\\appdata\\local\\packages\\pythonsoftwarefoundation.python.3.12_qbz5n2kfra8p0\\localcache\\local-packages\\python312\\site-packages (from PyGithub) (1.2.14)\n",
      "Requirement already satisfied: cryptography>=3.4.0 in c:\\users\\oheit\\appdata\\local\\packages\\pythonsoftwarefoundation.python.3.12_qbz5n2kfra8p0\\localcache\\local-packages\\python312\\site-packages (from pyjwt[crypto]>=2.4.0->PyGithub) (42.0.8)\n",
      "Requirement already satisfied: cffi>=1.4.1 in c:\\users\\oheit\\appdata\\local\\packages\\pythonsoftwarefoundation.python.3.12_qbz5n2kfra8p0\\localcache\\local-packages\\python312\\site-packages (from pynacl>=1.4.0->PyGithub) (1.16.0)\n",
      "Requirement already satisfied: charset-normalizer<4,>=2 in c:\\users\\oheit\\appdata\\local\\packages\\pythonsoftwarefoundation.python.3.12_qbz5n2kfra8p0\\localcache\\local-packages\\python312\\site-packages (from requests>=2.14.0->PyGithub) (3.3.2)\n",
      "Requirement already satisfied: idna<4,>=2.5 in c:\\users\\oheit\\appdata\\local\\packages\\pythonsoftwarefoundation.python.3.12_qbz5n2kfra8p0\\localcache\\local-packages\\python312\\site-packages (from requests>=2.14.0->PyGithub) (3.7)\n",
      "Requirement already satisfied: certifi>=2017.4.17 in c:\\users\\oheit\\appdata\\local\\packages\\pythonsoftwarefoundation.python.3.12_qbz5n2kfra8p0\\localcache\\local-packages\\python312\\site-packages (from requests>=2.14.0->PyGithub) (2024.6.2)\n",
      "Requirement already satisfied: wrapt<2,>=1.10 in c:\\users\\oheit\\appdata\\local\\packages\\pythonsoftwarefoundation.python.3.12_qbz5n2kfra8p0\\localcache\\local-packages\\python312\\site-packages (from Deprecated->PyGithub) (1.16.0)\n",
      "Requirement already satisfied: pycparser in c:\\users\\oheit\\appdata\\local\\packages\\pythonsoftwarefoundation.python.3.12_qbz5n2kfra8p0\\localcache\\local-packages\\python312\\site-packages (from cffi>=1.4.1->pynacl>=1.4.0->PyGithub) (2.22)\n",
      "Note: you may need to restart the kernel to use updated packages.\n"
     ]
    },
    {
     "name": "stderr",
     "output_type": "stream",
     "text": [
      "\n",
      "[notice] A new release of pip is available: 24.0 -> 24.2\n",
      "[notice] To update, run: C:\\Users\\oheit\\AppData\\Local\\Microsoft\\WindowsApps\\PythonSoftwareFoundation.Python.3.12_qbz5n2kfra8p0\\python.exe -m pip install --upgrade pip\n"
     ]
    },
    {
     "name": "stdout",
     "output_type": "stream",
     "text": [
      "Note: you may need to restart the kernel to use updated packages.Defaulting to user installation because normal site-packages is not writeable\n",
      "Requirement already satisfied: python-dotenv in c:\\users\\oheit\\appdata\\local\\packages\\pythonsoftwarefoundation.python.3.12_qbz5n2kfra8p0\\localcache\\local-packages\\python312\\site-packages (1.0.1)\n",
      "\n"
     ]
    },
    {
     "name": "stderr",
     "output_type": "stream",
     "text": [
      "\n",
      "[notice] A new release of pip is available: 24.0 -> 24.2\n",
      "[notice] To update, run: C:\\Users\\oheit\\AppData\\Local\\Microsoft\\WindowsApps\\PythonSoftwareFoundation.Python.3.12_qbz5n2kfra8p0\\python.exe -m pip install --upgrade pip\n"
     ]
    },
    {
     "name": "stdout",
     "output_type": "stream",
     "text": [
      "Defaulting to user installation because normal site-packages is not writeable\n",
      "Requirement already satisfied: pandas in c:\\users\\oheit\\appdata\\local\\packages\\pythonsoftwarefoundation.python.3.12_qbz5n2kfra8p0\\localcache\\local-packages\\python312\\site-packages (2.2.2)\n",
      "Requirement already satisfied: numpy>=1.26.0 in c:\\users\\oheit\\appdata\\local\\packages\\pythonsoftwarefoundation.python.3.12_qbz5n2kfra8p0\\localcache\\local-packages\\python312\\site-packages (from pandas) (1.26.4)\n",
      "Requirement already satisfied: python-dateutil>=2.8.2 in c:\\users\\oheit\\appdata\\local\\packages\\pythonsoftwarefoundation.python.3.12_qbz5n2kfra8p0\\localcache\\local-packages\\python312\\site-packages (from pandas) (2.9.0.post0)\n",
      "Requirement already satisfied: pytz>=2020.1 in c:\\users\\oheit\\appdata\\local\\packages\\pythonsoftwarefoundation.python.3.12_qbz5n2kfra8p0\\localcache\\local-packages\\python312\\site-packages (from pandas) (2024.1)\n",
      "Requirement already satisfied: tzdata>=2022.7 in c:\\users\\oheit\\appdata\\local\\packages\\pythonsoftwarefoundation.python.3.12_qbz5n2kfra8p0\\localcache\\local-packages\\python312\\site-packages (from pandas) (2024.1)\n",
      "Requirement already satisfied: six>=1.5 in c:\\users\\oheit\\appdata\\local\\packages\\pythonsoftwarefoundation.python.3.12_qbz5n2kfra8p0\\localcache\\local-packages\\python312\\site-packages (from python-dateutil>=2.8.2->pandas) (1.16.0)\n",
      "Note: you may need to restart the kernel to use updated packages.\n"
     ]
    },
    {
     "name": "stderr",
     "output_type": "stream",
     "text": [
      "\n",
      "[notice] A new release of pip is available: 24.0 -> 24.2\n",
      "[notice] To update, run: C:\\Users\\oheit\\AppData\\Local\\Microsoft\\WindowsApps\\PythonSoftwareFoundation.Python.3.12_qbz5n2kfra8p0\\python.exe -m pip install --upgrade pip\n"
     ]
    },
    {
     "name": "stdout",
     "output_type": "stream",
     "text": [
      "Defaulting to user installation because normal site-packages is not writeable\n",
      "Requirement already satisfied: tqdm in c:\\users\\oheit\\appdata\\local\\packages\\pythonsoftwarefoundation.python.3.12_qbz5n2kfra8p0\\localcache\\local-packages\\python312\\site-packages (4.66.4)\n",
      "Requirement already satisfied: colorama in c:\\users\\oheit\\appdata\\local\\packages\\pythonsoftwarefoundation.python.3.12_qbz5n2kfra8p0\\localcache\\local-packages\\python312\\site-packages (from tqdm) (0.4.6)\n",
      "Note: you may need to restart the kernel to use updated packages.\n"
     ]
    },
    {
     "name": "stderr",
     "output_type": "stream",
     "text": [
      "\n",
      "[notice] A new release of pip is available: 24.0 -> 24.2\n",
      "[notice] To update, run: C:\\Users\\oheit\\AppData\\Local\\Microsoft\\WindowsApps\\PythonSoftwareFoundation.Python.3.12_qbz5n2kfra8p0\\python.exe -m pip install --upgrade pip\n"
     ]
    },
    {
     "name": "stdout",
     "output_type": "stream",
     "text": [
      "Defaulting to user installation because normal site-packages is not writeable\n",
      "Requirement already satisfied: cachetools in c:\\users\\oheit\\appdata\\local\\packages\\pythonsoftwarefoundation.python.3.12_qbz5n2kfra8p0\\localcache\\local-packages\\python312\\site-packages (5.4.0)\n",
      "Note: you may need to restart the kernel to use updated packages.\n"
     ]
    },
    {
     "name": "stderr",
     "output_type": "stream",
     "text": [
      "\n",
      "[notice] A new release of pip is available: 24.0 -> 24.2\n",
      "[notice] To update, run: C:\\Users\\oheit\\AppData\\Local\\Microsoft\\WindowsApps\\PythonSoftwareFoundation.Python.3.12_qbz5n2kfra8p0\\python.exe -m pip install --upgrade pip\n"
     ]
    }
   ],
   "source": [
    "%pip install PyGithub\n",
    "%pip install python-dotenv\n",
    "%pip install pandas\n",
    "%pip install tqdm\n",
    "%pip install cachetools"
   ]
  },
  {
   "cell_type": "code",
   "execution_count": 3,
   "metadata": {},
   "outputs": [],
   "source": [
    "from github import Github\n",
    "import pandas as pd\n",
    "from dotenv import load_dotenv\n",
    "from os import getenv\n",
    "from concurrent.futures import ThreadPoolExecutor, as_completed\n",
    "from tqdm import tqdm\n",
    "from cachetools import cached, TTLCache"
   ]
  },
  {
   "cell_type": "code",
   "execution_count": 4,
   "metadata": {},
   "outputs": [],
   "source": [
    "load_dotenv()\n",
    "g = Github(getenv('GITHUB_TOKEN'))"
   ]
  },
  {
   "cell_type": "code",
   "execution_count": 5,
   "metadata": {},
   "outputs": [],
   "source": [
    "cache = TTLCache(maxsize=100, ttl=300)\n",
    "\n",
    "@cached(cache)\n",
    "def fetch_repo_data(repo):\n",
    "    repo_langs = repo.get_languages()\n",
    "    total_lines = sum(repo_langs.values())\n",
    "    langs_percentage = {lang: f'{(lines/total_lines):.2%}' for lang, lines in repo_langs.items()}\n",
    "\n",
    "    all_issues = list(repo.get_issues(state=\"all\"))\n",
    "    open_issues_count = sum(1 for issue in all_issues if issue.state == \"open\")\n",
    "    closed_issues_count = len(all_issues) - open_issues_count\n",
    "\n",
    "    all_pulls = list(repo.get_pulls(state='all'))\n",
    "    open_pulls_count = sum(1 for pull in all_pulls if pull.state == \"open\")\n",
    "    closed_pulls_count = len(all_pulls) - open_pulls_count\n",
    "    merged_pulls_count = sum(1 for pull in all_pulls if pull.merged)\n",
    "    \n",
    "\n",
    "    commits = list(repo.get_commits())\n",
    "    commits_count = len(commits)\n",
    "    first_commit_date = commits[-1].commit.author.date if commits else None\n",
    "    last_commit_date = commits[0].commit.author.date if commits else None\n",
    "\n",
    "    return {\n",
    "        \"full_name\": repo.full_name, \"description\": repo.description, \"created_at\": repo.created_at,\n",
    "        \"updated_at\": repo.updated_at, \"size\": repo.size, \"main_language\": repo.language, \"forks_count\": repo.forks_count,\n",
    "        \"issues_count\": len(all_issues), \"closed_issues_count\": closed_issues_count, \"open_issues_count\": open_issues_count,\n",
    "        \"total_issues_count\": closed_issues_count + open_issues_count, \"closed_pulls_count\": closed_pulls_count,\n",
    "        \"open_pulls_count\": open_pulls_count, \"total_pulls_count\": closed_pulls_count + open_pulls_count,\n",
    "        \"merged_pulls_count\": merged_pulls_count, \"commits_count\": commits_count, \"first_commit_date\": first_commit_date,\n",
    "        \"last_commit_date\": last_commit_date, \"branches_count\": repo.get_branches().totalCount,\n",
    "        \"stargazers_count\": repo.stargazers_count, \"subscribers_count\": repo.subscribers_count,\n",
    "        \"watchers_count\": repo.watchers_count, \"contributors_count\": repo.get_contributors().totalCount,\n",
    "        \"langs_percentage\": langs_percentage\n",
    "    }"
   ]
  },
  {
   "cell_type": "code",
   "execution_count": 6,
   "metadata": {},
   "outputs": [],
   "source": [
    "def get_org_repos(organization_name, language=None):\n",
    "    data_list = []\n",
    "    non_samples = [\n",
    "        \"googlearchive/digits-migration-helper-android\", \"googlearchive/play-apk-expansion\",\n",
    "        \"googlearchive/tiger\", \"googlearchive/two-token-sw\", \"googlearchive/Abelana-Android\",\n",
    "        \"googlearchive/solutions-mobile-backend-starter-java\"\n",
    "    ]\n",
    "    organization = g.get_organization(organization_name)\n",
    "    repos = [repo for repo in organization.get_repos() if repo.full_name not in non_samples and not repo.private and not repo.archived]\n",
    "    total_repos = len(repos)\n",
    "\n",
    "    def filter_repo(repo):\n",
    "        if language and repo.language != language:\n",
    "            return False\n",
    "        # if repo.full_name in non_samples or repo.private or repo.archived:\n",
    "        #     return False\n",
    "        if organization_name == \"googlearchive\":\n",
    "            if repo.description and any(keyword in repo.description.lower() for keyword in [\"example\", \"sample\", \"migrated\"]):\n",
    "                return False\n",
    "        elif organization_name == \"SAP-samples\":\n",
    "            if repo.description and \"cloud\" not in repo.description.lower():\n",
    "                return False\n",
    "        return True\n",
    "\n",
    "    with ThreadPoolExecutor(max_workers=10) as executor:\n",
    "        future_to_repo = {executor.submit(fetch_repo_data, repo): repo for repo in repos if filter_repo(repo)}\n",
    "        for future in tqdm(as_completed(future_to_repo), total=total_repos, desc=organization_name, unit=\" repos\", ncols=100, bar_format='{l_bar}{bar}| {n_fmt}/{total_fmt} [{elapsed}<{remaining}, {rate_fmt}{postfix}] {percentage:3.0f}%'):\n",
    "            try:\n",
    "                data = future.result()\n",
    "                data[\"framework\"] = organization_name\n",
    "                data_list.append(data)\n",
    "            except Exception as e:\n",
    "                print(f\"Error fetching data for repo: {future_to_repo[future].full_name}, error: {e}\")\n",
    "\n",
    "    return pd.DataFrame(data_list)"
   ]
  },
  {
   "cell_type": "markdown",
   "metadata": {},
   "source": [
    "<div class='alert alert-box alert-info'>\n",
    "    Below is the code that generates the <b>.csv</b> file.\n",
    "    You can change the language by modifying the <i style='color: red'>language</i> variable in the code cell below.\n",
    "</div>\n",
    "<div class='alert alert-box alert-warning'>\n",
    "    <b>Note:</b> The <i style='color: blue'>language</i> variable is case sensitive and can be <i style='color: blue'>None</i>, if you want to get all the repositories.\n",
    "</div>"
   ]
  },
  {
   "cell_type": "code",
   "execution_count": 7,
   "metadata": {},
   "outputs": [
    {
     "name": "stdout",
     "output_type": "stream",
     "text": [
      "Retrieving repos from \u001b[95mspring-guides \u001b[0mso that their GitHub data is processed...\n"
     ]
    },
    {
     "name": "stderr",
     "output_type": "stream",
     "text": [
      "spring-guides:  68%|██████████████████████████▎            | 50/74 [02:51<00:50,  2.11s/ repos]  68%Request GET /repositories/116418294/commits?page=5 failed with 403: Forbidden\n",
      "Setting next backoff to 1785.318329s\n",
      "Request GET /repos/spring-guides/tut-spring-security-and-angular-js/pulls/233 failed with 403: Forbidden\n",
      "Setting next backoff to 1785.2643s\n",
      "Request GET /repos/spring-guides/tut-spring-boot-kotlin/issues?state=all failed with 403: Forbidden\n",
      "Setting next backoff to 1785.138206s\n",
      "Request GET /repos/spring-guides/gs-crud-with-vaadin/pulls/55 failed with 403: Forbidden\n",
      "Setting next backoff to 1785.132027s\n",
      "Request GET /repos/spring-guides/gs-vault-config/pulls/3 failed with 403: Forbidden\n",
      "Setting next backoff to 1784.888953s\n",
      "Request GET /repositories/11772159/commits?page=5 failed with 403: Forbidden\n",
      "Setting next backoff to 1784.876378s\n",
      "Request GET /repos/spring-guides/gs-gateway/pulls?state=all failed with 403: Forbidden\n",
      "Setting next backoff to 1784.82183s\n",
      "Request GET /repositories/116420698/commits?page=5 failed with 403: Forbidden\n",
      "Setting next backoff to 1784.817623s\n",
      "Request GET /repos/spring-guides/gs-spring-boot-for-azure/pulls/30 failed with 403: Forbidden\n",
      "Setting next backoff to 1784.675109s\n",
      "Request GET /repos/spring-guides/gs-spring-data-reactive-redis/pulls/5 failed with 403: Forbidden\n",
      "Setting next backoff to 1784.649019s\n",
      "spring-guides: 100%|███████████████████████████████████████| 74/74 [39:57<00:00, 32.40s/ repos] 100%\n"
     ]
    },
    {
     "name": "stdout",
     "output_type": "stream",
     "text": [
      "\u001b[92mData from \u001b[95mspring-guides \u001b[92mwas processed successfully!\u001b[0m\n",
      "Retrieving repos from \u001b[95mspring-cloud-samples \u001b[0mso that their GitHub data is processed...\n"
     ]
    },
    {
     "name": "stderr",
     "output_type": "stream",
     "text": [
      "spring-cloud-samples: 100%|████████████████████████████████| 29/29 [05:32<00:00, 11.45s/ repos] 100%"
     ]
    },
    {
     "name": "stdout",
     "output_type": "stream",
     "text": [
      "\u001b[92mData from \u001b[95mspring-cloud-samples \u001b[92mwas processed successfully!\u001b[0m\n"
     ]
    },
    {
     "name": "stderr",
     "output_type": "stream",
     "text": [
      "\n"
     ]
    }
   ],
   "source": [
    "dataframe = pd.DataFrame()\n",
    "language = None\n",
    "for organization in organizations:\n",
    "    print(f'Retrieving repos from {\"\\033[95m\"}{organization} {\"\\033[0m\"}so that their GitHub data is processed...')\n",
    "    dataframe = pd.concat([dataframe, get_org_repos(organization, language)])\n",
    "    print(f'{\"\\033[92m\"}Data from {\"\\033[95m\"}{organization} {\"\\033[92m\"}was processed successfully!{\"\\033[0m\"}')\n",
    "dataframe.to_csv(\"codesamples_spring.csv\", index=False)"
   ]
  }
 ],
 "metadata": {
  "kernelspec": {
   "display_name": "Python 3",
   "language": "python",
   "name": "python3"
  },
  "language_info": {
   "codemirror_mode": {
    "name": "ipython",
    "version": 3
   },
   "file_extension": ".py",
   "mimetype": "text/x-python",
   "name": "python",
   "nbconvert_exporter": "python",
   "pygments_lexer": "ipython3",
   "version": "3.12.4"
  }
 },
 "nbformat": 4,
 "nbformat_minor": 2
}
