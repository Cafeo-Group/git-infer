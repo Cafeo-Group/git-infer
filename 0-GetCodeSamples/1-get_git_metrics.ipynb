{
 "cells": [
  {
   "cell_type": "markdown",
   "metadata": {},
   "source": [
    "#### Outputs a **.csv** file with metrics on repositories from the following organizations:\n",
    "- googlesamples\n",
    "- aws-samples\n",
    "- Azure-Samples\n",
    "- spring-guides \n",
    "- googlearchive\n",
    "- spring-cloud-samples\n",
    "-spring-io\n",
    "#### The metrics include:\n",
    "- full_name\n",
    "- created_at\n",
    "- description\n",
    "- forks_count\n",
    "- language\n",
    "- open_issues_count\n",
    "- size\n",
    "- stargazers_count\n",
    "- subscribers_count\n",
    "- updated_at\n",
    "- watchers_count\n",
    "- langs_percentage\n",
    "- contibutors count\n",
    "- issues and pull reqs open and closed\n",
    "- accepted pull reqs?\n",
    "- num of commits\n",
    "- num of branches\n",
    "- last and first commit dates in the .csv file\n",
    "- tags\n",
    "<div class=\"alert alert-box alert-info\">\n",
    "    <b>Note:</b> You can change the organizations by modifying the list of organizations in the code cell below.\n",
    "</div>"
   ]
  },
  {
   "cell_type": "code",
   "execution_count": null,
   "metadata": {},
   "outputs": [],
   "source": [
    "organizations = [\n",
    "                \"googlesamples\", \n",
    "                \"aws-samples\",\n",
    "                \"Azure-Samples\",\n",
    "                \"googlearchive\",\n",
    "                \"spring-guides\",\n",
    "                \"spring-cloud-samples\",\n",
    "                \"spring-io\"\n",
    "                 ]"
   ]
  },
  {
   "cell_type": "code",
   "execution_count": null,
   "metadata": {},
   "outputs": [],
   "source": [
    "%pip install PyGithub\n",
    "%pip install python-dotenv\n",
    "%pip install pandas\n",
    "%pip install tqdm\n",
    "%pip install cachetools"
   ]
  },
  {
   "cell_type": "code",
   "execution_count": null,
   "metadata": {},
   "outputs": [],
   "source": [
    "from github import Github\n",
    "import pandas as pd\n",
    "from dotenv import load_dotenv\n",
    "from os import getenv\n",
    "from concurrent.futures import ThreadPoolExecutor, as_completed\n",
    "from tqdm import tqdm\n",
    "from cachetools import cached, TTLCache"
   ]
  },
  {
   "cell_type": "code",
   "execution_count": null,
   "metadata": {},
   "outputs": [],
   "source": [
    "load_dotenv()\n",
    "g = Github(getenv('GITHUB_TOKEN'))"
   ]
  },
  {
   "cell_type": "code",
   "execution_count": null,
   "metadata": {},
   "outputs": [],
   "source": [
    "cache = TTLCache(maxsize=100, ttl=300)\n",
    "\n",
    "@cached(cache)\n",
    "def fetch_repo_data(repo):\n",
    "    repo_langs = repo.get_languages()\n",
    "    total_lines = sum(repo_langs.values())\n",
    "    langs_percentage = {lang: f'{(lines/total_lines):.2%}' for lang, lines in repo_langs.items()}\n",
    "\n",
    "    return {\n",
    "        \"full_name\": repo.full_name, \"description\": repo.description, \"created_at\": repo.created_at,\n",
    "        \"updated_at\": repo.updated_at, \"size\": repo.size, \"main_language\": repo.language, \"forks_count\": repo.forks_count,\n",
    "        \"stargazers_count\": repo.stargazers_count, \"subscribers_count\": repo.subscribers_count,\n",
    "        \"watchers_count\": repo.watchers_count,\n",
    "        \"langs_percentage\": langs_percentage\n",
    "    }"
   ]
  },
  {
   "cell_type": "code",
   "execution_count": null,
   "metadata": {},
   "outputs": [],
   "source": [
    "def get_org_repos(organization_name, language=None):\n",
    "    data_list = []\n",
    "    non_samples = [\n",
    "        \"googlearchive/digits-migration-helper-android\", \"googlearchive/play-apk-expansion\",\n",
    "        \"googlearchive/tiger\", \"googlearchive/two-token-sw\", \"googlearchive/Abelana-Android\",\n",
    "        \"googlearchive/solutions-mobile-backend-starter-java\"\n",
    "    ]\n",
    "    organization = g.get_organization(organization_name)\n",
    "    repos = [repo for repo in organization.get_repos() if repo.full_name not in non_samples and not repo.private and not repo.archived]\n",
    "    total_repos = len(repos)\n",
    "\n",
    "    def filter_repo(repo):\n",
    "        if language and repo.language != language:\n",
    "            return False\n",
    "        if organization_name == \"googlearchive\":\n",
    "            if repo.description and any(keyword in repo.description.lower() for keyword in [\"example\", \"sample\", \"migrated\"]):\n",
    "                return False\n",
    "        elif organization_name == \"SAP-samples\":\n",
    "            if repo.description and \"cloud\" not in repo.description.lower():\n",
    "                return False\n",
    "        return True\n",
    "\n",
    "    with ThreadPoolExecutor(max_workers=10) as executor:\n",
    "        future_to_repo = {executor.submit(fetch_repo_data, repo): repo for repo in repos if filter_repo(repo)}\n",
    "        for future in tqdm(as_completed(future_to_repo), total=total_repos, desc=organization_name, unit=\" repos\", ncols=100, bar_format='{l_bar}{bar}| {n_fmt}/{total_fmt} [{elapsed}<{remaining}, {rate_fmt}{postfix}] {percentage:3.0f}%'):\n",
    "            try:\n",
    "                data = future.result()\n",
    "                data[\"framework\"] = organization_name\n",
    "                data_list.append(data)\n",
    "            except Exception as e:\n",
    "                print(f\"Error fetching data for repo: {future_to_repo[future].full_name}, error: {e}\")\n",
    "\n",
    "    return pd.DataFrame(data_list)"
   ]
  },
  {
   "cell_type": "markdown",
   "metadata": {},
   "source": [
    "<div class='alert alert-box alert-info'>\n",
    "    Below is the code that generates the <b>.csv</b> file.\n",
    "    You can change the language by modifying the <i style='color: red'>language</i> variable in the code cell below.\n",
    "</div>\n",
    "<div class='alert alert-box alert-warning'>\n",
    "    <b>Note:</b> The <i style='color: blue'>language</i> variable is case sensitive and can be <i style='color: blue'>None</i>, if you want to get all the repositories.\n",
    "</div>"
   ]
  },
  {
   "cell_type": "code",
   "execution_count": null,
   "metadata": {},
   "outputs": [],
   "source": [
    "dataframe = pd.DataFrame()\n",
    "language = None\n",
    "for organization in organizations:\n",
    "    print(f'Retrieving repos from {\"\\033[95m\"}{organization} {\"\\033[0m\"}so that their GitHub data is processed...')\n",
    "    dataframe = pd.concat([dataframe, get_org_repos(organization, language)])\n",
    "    print(f'{\"\\033[92m\"}Data from {\"\\033[95m\"}{organization} {\"\\033[92m\"}was processed successfully!{\"\\033[0m\"}')\n",
    "dataframe.to_csv(\"codesamples.csv\", index=False)"
   ]
  }
 ],
 "metadata": {
  "kernelspec": {
   "display_name": "Python 3",
   "language": "python",
   "name": "python3"
  },
  "language_info": {
   "codemirror_mode": {
    "name": "ipython",
    "version": 3
   },
   "file_extension": ".py",
   "mimetype": "text/x-python",
   "name": "python",
   "nbconvert_exporter": "python",
   "pygments_lexer": "ipython3",
   "version": "3.12.5"
  }
 },
 "nbformat": 4,
 "nbformat_minor": 2
}
