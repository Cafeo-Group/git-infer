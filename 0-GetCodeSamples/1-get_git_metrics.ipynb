{
 "cells": [
  {
   "cell_type": "markdown",
   "metadata": {},
   "source": [
    "#### Outputs a **.csv** file with metrics on repositories from the following organizations:\n",
    "- googlesamples\n",
    "- aws-samples\n",
    "- Azure-Samples\n",
    "- spring-guides \n",
    "- googlearchive\n",
    "- spring-cloud-samples\n",
    "#### The metrics include:\n",
    "- full_name\n",
    "- created_at\n",
    "- description\n",
    "- description\n",
    "- forks_count\n",
    "- language\n",
    "- open_issues_count\n",
    "- size\n",
    "- stargazers_count\n",
    "- subscribers_count\n",
    "- updated_at\n",
    "- watchers_count\n",
    "- langs_percentage\n",
    "<div class=\"alert alert-box alert-info\">\n",
    "    <b>Note:</b> You can change the organizations by modifying the list of organizations in the code cell below.\n",
    "</div>"
   ]
  },
  {
   "cell_type": "code",
   "execution_count": 1,
   "metadata": {},
   "outputs": [],
   "source": [
    "organizations = [\"googlesamples\", #\"aws-samples\", \"Azure-Samples\", \"spring-guides\", \"googlearchive\", \"spring-cloud-samples\"\n",
    "                 ]"
   ]
  },
  {
   "cell_type": "code",
   "execution_count": 2,
   "metadata": {},
   "outputs": [
    {
     "name": "stdout",
     "output_type": "stream",
     "text": [
      "Defaulting to user installation because normal site-packages is not writeable\n",
      "Requirement already satisfied: PyGithub in c:\\users\\oheit\\appdata\\local\\packages\\pythonsoftwarefoundation.python.3.12_qbz5n2kfra8p0\\localcache\\local-packages\\python312\\site-packages (2.3.0)\n",
      "Requirement already satisfied: pynacl>=1.4.0 in c:\\users\\oheit\\appdata\\local\\packages\\pythonsoftwarefoundation.python.3.12_qbz5n2kfra8p0\\localcache\\local-packages\\python312\\site-packages (from PyGithub) (1.5.0)\n",
      "Requirement already satisfied: requests>=2.14.0 in c:\\users\\oheit\\appdata\\local\\packages\\pythonsoftwarefoundation.python.3.12_qbz5n2kfra8p0\\localcache\\local-packages\\python312\\site-packages (from PyGithub) (2.32.3)\n",
      "Requirement already satisfied: pyjwt>=2.4.0 in c:\\users\\oheit\\appdata\\local\\packages\\pythonsoftwarefoundation.python.3.12_qbz5n2kfra8p0\\localcache\\local-packages\\python312\\site-packages (from pyjwt[crypto]>=2.4.0->PyGithub) (2.8.0)\n",
      "Requirement already satisfied: typing-extensions>=4.0.0 in c:\\users\\oheit\\appdata\\local\\packages\\pythonsoftwarefoundation.python.3.12_qbz5n2kfra8p0\\localcache\\local-packages\\python312\\site-packages (from PyGithub) (4.12.2)\n",
      "Requirement already satisfied: urllib3>=1.26.0 in c:\\users\\oheit\\appdata\\local\\packages\\pythonsoftwarefoundation.python.3.12_qbz5n2kfra8p0\\localcache\\local-packages\\python312\\site-packages (from PyGithub) (2.2.1)\n",
      "Requirement already satisfied: Deprecated in c:\\users\\oheit\\appdata\\local\\packages\\pythonsoftwarefoundation.python.3.12_qbz5n2kfra8p0\\localcache\\local-packages\\python312\\site-packages (from PyGithub) (1.2.14)\n",
      "Requirement already satisfied: cryptography>=3.4.0 in c:\\users\\oheit\\appdata\\local\\packages\\pythonsoftwarefoundation.python.3.12_qbz5n2kfra8p0\\localcache\\local-packages\\python312\\site-packages (from pyjwt[crypto]>=2.4.0->PyGithub) (42.0.8)\n",
      "Requirement already satisfied: cffi>=1.4.1 in c:\\users\\oheit\\appdata\\local\\packages\\pythonsoftwarefoundation.python.3.12_qbz5n2kfra8p0\\localcache\\local-packages\\python312\\site-packages (from pynacl>=1.4.0->PyGithub) (1.16.0)\n",
      "Requirement already satisfied: charset-normalizer<4,>=2 in c:\\users\\oheit\\appdata\\local\\packages\\pythonsoftwarefoundation.python.3.12_qbz5n2kfra8p0\\localcache\\local-packages\\python312\\site-packages (from requests>=2.14.0->PyGithub) (3.3.2)\n",
      "Requirement already satisfied: idna<4,>=2.5 in c:\\users\\oheit\\appdata\\local\\packages\\pythonsoftwarefoundation.python.3.12_qbz5n2kfra8p0\\localcache\\local-packages\\python312\\site-packages (from requests>=2.14.0->PyGithub) (3.7)\n",
      "Requirement already satisfied: certifi>=2017.4.17 in c:\\users\\oheit\\appdata\\local\\packages\\pythonsoftwarefoundation.python.3.12_qbz5n2kfra8p0\\localcache\\local-packages\\python312\\site-packages (from requests>=2.14.0->PyGithub) (2024.6.2)\n",
      "Requirement already satisfied: wrapt<2,>=1.10 in c:\\users\\oheit\\appdata\\local\\packages\\pythonsoftwarefoundation.python.3.12_qbz5n2kfra8p0\\localcache\\local-packages\\python312\\site-packages (from Deprecated->PyGithub) (1.16.0)\n",
      "Requirement already satisfied: pycparser in c:\\users\\oheit\\appdata\\local\\packages\\pythonsoftwarefoundation.python.3.12_qbz5n2kfra8p0\\localcache\\local-packages\\python312\\site-packages (from cffi>=1.4.1->pynacl>=1.4.0->PyGithub) (2.22)\n",
      "Note: you may need to restart the kernel to use updated packages.\n"
     ]
    },
    {
     "name": "stderr",
     "output_type": "stream",
     "text": [
      "\n",
      "[notice] A new release of pip is available: 24.0 -> 24.2\n",
      "[notice] To update, run: C:\\Users\\oheit\\AppData\\Local\\Microsoft\\WindowsApps\\PythonSoftwareFoundation.Python.3.12_qbz5n2kfra8p0\\python.exe -m pip install --upgrade pip\n"
     ]
    },
    {
     "name": "stdout",
     "output_type": "stream",
     "text": [
      "Defaulting to user installation because normal site-packages is not writeable\n",
      "Requirement already satisfied: python-dotenv in c:\\users\\oheit\\appdata\\local\\packages\\pythonsoftwarefoundation.python.3.12_qbz5n2kfra8p0\\localcache\\local-packages\\python312\\site-packages (1.0.1)\n",
      "Note: you may need to restart the kernel to use updated packages.\n"
     ]
    },
    {
     "name": "stderr",
     "output_type": "stream",
     "text": [
      "\n",
      "[notice] A new release of pip is available: 24.0 -> 24.2\n",
      "[notice] To update, run: C:\\Users\\oheit\\AppData\\Local\\Microsoft\\WindowsApps\\PythonSoftwareFoundation.Python.3.12_qbz5n2kfra8p0\\python.exe -m pip install --upgrade pip\n"
     ]
    }
   ],
   "source": [
    "%pip install PyGithub\n",
    "%pip install python-dotenv"
   ]
  },
  {
   "cell_type": "code",
   "execution_count": 3,
   "metadata": {},
   "outputs": [],
   "source": [
    "from github import Github\n",
    "import pandas as pd\n",
    "from dotenv import load_dotenv\n",
    "from os import getenv\n",
    "from concurrent.futures import ThreadPoolExecutor, as_completed\n",
    "from tqdm import tqdm"
   ]
  },
  {
   "cell_type": "code",
   "execution_count": 4,
   "metadata": {},
   "outputs": [],
   "source": [
    "load_dotenv()\n",
    "g = Github(getenv('GITHUB_TOKEN'))"
   ]
  },
  {
   "cell_type": "code",
   "execution_count": 5,
   "metadata": {},
   "outputs": [],
   "source": [
    "def get_org_repos(organization_name, language=None):\n",
    "    non_samples = [\"googlearchive/digits-migration-helper-android\", \"googlearchive/play-apk-expansion\", \"googlearchive/tiger\", \"googlearchive/two-token-sw\", \"googlearchive/Abelana-Android\", \"googlearchive/solutions-mobile-backend-starter-java\"]\n",
    "    organization = g.get_organization(organization_name)\n",
    "    repos = organization.get_repos(\"all\")\n",
    "    total_repos = len(list(repos))\n",
    "    dataframe = pd.DataFrame(columns=[\"full_name\", \"created_at\", \"description\", \"forks_count\", \"language\", \"open_issues_count\", \"size\", \"stargazers_count\", \"subscribers_count\", \"updated_at\", \"watchers_count\", \"langs_percentage\"])\n",
    "    for repo in tqdm(repos, desc=organization_name, unit=\" repos\", ncols=100, total=total_repos, bar_format='{l_bar}{bar}| {n_fmt}/{total_fmt} [{elapsed}<{remaining}, {rate_fmt}{postfix}] {percentage:3.0f}%'):\n",
    "        if repo.full_name in non_samples:\n",
    "            continue\n",
    "        \n",
    "        if (language == None or repo.language == language):\n",
    "            if (organization_name == \"googlearchive\"):\n",
    "                if (not repo.description == None and not (\"example\" in repo.description.lower() or \"sample\" in repo.description.lower() or \"example\" in repo.full_name.lower() or \"sample\" in repo.full_name.lower() or \"migrated\" in repo.description.lower())):\n",
    "                    continue\n",
    "            elif (organization_name == \"SAP-samples\"):\n",
    "                if (not repo.description == None and not (\"cloud\" in repo.description.lower() or \"cloud\" in repo.full_name.lower())):\n",
    "                    continue\n",
    "        else:\n",
    "            continue\n",
    "        \n",
    "        repo_langs = repo.get_languages()\n",
    "        total_lines = sum(repo_langs.values())\n",
    "        langs_percentage = {lang: f'{(lines/total_lines):.2%}' for lang, lines in repo_langs.items()}\n",
    "        dataframe = pd.concat([dataframe, pd.DataFrame(data={\"framework\": [organization_name],\"full_name\": [repo.full_name], \"created_at\": [repo.created_at], \"description\": [repo.description], \"forks_count\": [repo.forks_count], \"language\": [repo.language], \"open_issues_count\": [repo.open_issues_count], \"size\": [repo.size], \"stargazers_count\": [repo.stargazers_count], \"subscribers_count\": [repo.subscribers_count], \"updated_at\": [repo.updated_at], \"watchers_count\": [repo.watchers_count], \"langs_percentage\": [langs_percentage]})], ignore_index=True)\n",
    "        # print(g.get_rate_limit())\n",
    "    return dataframe"
   ]
  },
  {
   "cell_type": "markdown",
   "metadata": {},
   "source": [
    "<div class='alert alert-box alert-info'>\n",
    "    Below is the code that generates the <b>.csv</b> file.\n",
    "    You can change the language by modifying the <i style='color: red'>language</i> variable in the code cell below.\n",
    "</div>\n",
    "<div class='alert alert-box alert-warning'>\n",
    "    <b>Note:</b> The <i style='color: blue'>language</i> variable is case sensitive and can be <i style='color: blue'>None</i>, if you want to get all the repositories.\n",
    "</div>"
   ]
  },
  {
   "cell_type": "code",
   "execution_count": 6,
   "metadata": {},
   "outputs": [
    {
     "name": "stdout",
     "output_type": "stream",
     "text": [
      "Retrieving repos from googlesamples so that their github data is taken...\n"
     ]
    },
    {
     "name": "stderr",
     "output_type": "stream",
     "text": [
      "googlesamples:   0%|                                                | 0/71 [00:00<?, ? repos/s]   0%C:\\Users\\oheit\\AppData\\Local\\Temp\\ipykernel_13644\\3657389058.py:24: FutureWarning: The behavior of DataFrame concatenation with empty or all-NA entries is deprecated. In a future version, this will no longer exclude empty or all-NA columns when determining the result dtypes. To retain the old behavior, exclude the relevant entries before the concat operation.\n",
      "  dataframe = pd.concat([dataframe, pd.DataFrame(data={\"framework\": [organization_name],\"full_name\": [repo.full_name], \"created_at\": [repo.created_at], \"description\": [repo.description], \"forks_count\": [repo.forks_count], \"language\": [repo.language], \"open_issues_count\": [repo.open_issues_count], \"size\": [repo.size], \"stargazers_count\": [repo.stargazers_count], \"subscribers_count\": [repo.subscribers_count], \"updated_at\": [repo.updated_at], \"watchers_count\": [repo.watchers_count], \"langs_percentage\": [langs_percentage]})], ignore_index=True)\n",
      "googlesamples: 100%|███████████████████████████████████████| 71/71 [01:21<00:00,  1.15s/ repos] 100%"
     ]
    },
    {
     "name": "stdout",
     "output_type": "stream",
     "text": [
      "done with googlesamples\n"
     ]
    },
    {
     "name": "stderr",
     "output_type": "stream",
     "text": [
      "\n"
     ]
    }
   ],
   "source": [
    "dataframe = pd.DataFrame()\n",
    "language = None\n",
    "for organization in organizations:\n",
    "    print(f'Retrieving repos from {organization} so that their github data is taken...')\n",
    "    dataframe = pd.concat([dataframe, get_org_repos(organization, language)])\n",
    "    print(f'done with {organization}')\n",
    "dataframe.to_csv(\"codesamples.csv\", index=False)"
   ]
  },
  {
   "cell_type": "code",
   "execution_count": 7,
   "metadata": {},
   "outputs": [],
   "source": [
    "language_usage = {}\n",
    "for repo in dataframe[\"langs_percentage\"]:\n",
    "    for language, percentage in repo.items():\n",
    "        language_usage[language] = language_usage.get(language, 0) + float(percentage.strip(\"%\"))\n",
    "\n",
    "total_usage = sum(language_usage.values())\n",
    "\n",
    "formatted_languages = sorted(\n",
    "    [(language, f'{percentage / total_usage:.2%}') for language, percentage in language_usage.items()],\n",
    "    key=lambda item: float(item[1].strip('%')),\n",
    "    reverse=True\n",
    ")\n",
    "\n",
    "pd.DataFrame(formatted_languages, columns=[\"Language\", \"Usage Percentage\"]).to_csv(\"languages_usage_from_organizations.csv\", index=False)"
   ]
  }
 ],
 "metadata": {
  "kernelspec": {
   "display_name": "Python 3",
   "language": "python",
   "name": "python3"
  },
  "language_info": {
   "codemirror_mode": {
    "name": "ipython",
    "version": 3
   },
   "file_extension": ".py",
   "mimetype": "text/x-python",
   "name": "python",
   "nbconvert_exporter": "python",
   "pygments_lexer": "ipython3",
   "version": "3.12.4"
  }
 },
 "nbformat": 4,
 "nbformat_minor": 2
}
