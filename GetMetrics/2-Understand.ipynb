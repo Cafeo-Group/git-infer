{
 "cells": [
  {
   "attachments": {},
   "cell_type": "markdown",
   "metadata": {},
   "source": [
    "### In this script we will extract metrics for each commit. For that you need to download and install Understand Tool, available here https://scitools.com/trial-download-3/. You need to install in 'SANER2022-CodeSamples/2-ExtractingMetrics/understand'. To run you will need license to Understand, student get free in https://scitools.com/non-commercial-license/."
   ]
  },
  {
   "cell_type": "code",
   "execution_count": 1,
   "metadata": {},
   "outputs": [
    {
     "name": "stdout",
     "output_type": "stream",
     "text": [
      "Collecting GitPython\n",
      "  Downloading GitPython-3.1.43-py3-none-any.whl (207 kB)\n",
      "     -------------------------------------- 207.3/207.3 kB 2.5 MB/s eta 0:00:00\n",
      "Collecting gitdb<5,>=4.0.1\n",
      "  Downloading gitdb-4.0.11-py3-none-any.whl (62 kB)\n",
      "     -------------------------------------- 62.7/62.7 kB 833.0 kB/s eta 0:00:00\n",
      "Collecting smmap<6,>=3.0.1\n",
      "  Downloading smmap-5.0.1-py3-none-any.whl (24 kB)\n",
      "Installing collected packages: smmap, gitdb, GitPython\n",
      "Successfully installed GitPython-3.1.43 gitdb-4.0.11 smmap-5.0.1\n",
      "Note: you may need to restart the kernel to use updated packages.\n"
     ]
    },
    {
     "name": "stderr",
     "output_type": "stream",
     "text": [
      "\n",
      "[notice] A new release of pip available: 22.2.1 -> 24.1\n",
      "[notice] To update, run: python.exe -m pip install --upgrade pip\n"
     ]
    }
   ],
   "source": [
    "pip install GitPython"
   ]
  },
  {
   "cell_type": "code",
   "execution_count": 2,
   "metadata": {},
   "outputs": [
    {
     "name": "stdout",
     "output_type": "stream",
     "text": [
      "Note: you may need to restart the kernel to use updated packages.Collecting JPype1\n",
      "  Downloading JPype1-1.5.0-cp310-cp310-win_amd64.whl (351 kB)\n",
      "     -------------------------------------- 351.5/351.5 kB 1.1 MB/s eta 0:00:00\n",
      "Requirement already satisfied: packaging in c:\\users\\atilio\\appdata\\roaming\\python\\python310\\site-packages (from JPype1) (23.2)\n",
      "Installing collected packages: JPype1\n",
      "Successfully installed JPype1-1.5.0\n",
      "\n"
     ]
    },
    {
     "name": "stderr",
     "output_type": "stream",
     "text": [
      "\n",
      "[notice] A new release of pip available: 22.2.1 -> 24.1\n",
      "[notice] To update, run: python.exe -m pip install --upgrade pip\n"
     ]
    }
   ],
   "source": [
    "pip install JPype1"
   ]
  },
  {
   "cell_type": "code",
   "execution_count": 19,
   "metadata": {},
   "outputs": [],
   "source": [
    "def printStatus(index, size):\n",
    "    print(\"{0}% Completed samples\".format((index / size) * 100))"
   ]
  },
  {
   "cell_type": "code",
   "execution_count": 1,
   "metadata": {},
   "outputs": [],
   "source": [
    "from git import Repo\n",
    "import pandas as pd\n",
    "import numpy as np\n",
    "import os\n",
    "import fnmatch\n",
    "from statistics import mean\n",
    "import shutil"
   ]
  },
  {
   "cell_type": "code",
   "execution_count": 2,
   "metadata": {},
   "outputs": [],
   "source": [
    "def getCommitsFrom(project):\n",
    "    projectPath = \"repositories/\"+project\n",
    "    repository = Repo(projectPath)\n",
    "    try:\n",
    "        repository.git.checkout(\"main\", \"-f\")\n",
    "    except:\n",
    "        repository.git.checkout(\"master\", \"-f\")\n",
    "    iterCommits = repository.iter_commits()\n",
    "    commits = []\n",
    "    for c in iterCommits:\n",
    "        commits.append(c)\n",
    "    return commits"
   ]
  },
  {
   "cell_type": "code",
   "execution_count": 5,
   "metadata": {},
   "outputs": [],
   "source": [
    "def checkoutTo(project, sha):\n",
    "    projectPath = \"repositories/\" + project\n",
    "    repository = Repo(projectPath)\n",
    "    repository.git.checkout(sha, \"-f\")"
   ]
  },
  {
   "cell_type": "code",
   "execution_count": 6,
   "metadata": {},
   "outputs": [],
   "source": [
    "def extractMetricsWithUnderstand(owner, project):\n",
    "    understandPath = \"understand\\\\SciTools\\\\bin\\\\pc-win64\\\\und\"\n",
    "    os.system('cmd /c \"{0} create -languages java {1}\"'.format(understandPath, project))\n",
    "    os.system('cmd /c \"{0} add {1} {2}\"'.format(understandPath, \"repositories/\"+owner+\"/\"+project, project))\n",
    "    os.system('cmd /c \"{0} settings -metrics all {1}\"'.format(understandPath, project))\n",
    "    os.system('cmd /c \"{0} settings -metricsOutputFile {1}.csv {1}\"'.format(understandPath, project))\n",
    "    os.system('cmd /c \"{0} -quiet analyze {1}\"'.format(understandPath, project))\n",
    "    os.system('cmd /c \"{0} metrics {1}\"'.format(understandPath, project))"
   ]
  },
  {
   "cell_type": "code",
   "execution_count": 3,
   "metadata": {},
   "outputs": [],
   "source": [
    "def method_level_metrics(dataframe, owner, project):\n",
    "    dataframe = dataframe[dataframe[\"Kind\"].str.contains(\"Method\")]\n",
    "    dataframe[\"sample\"] = owner+\"/\"+project\n",
    "    dataframe = dataframe.groupby(\"sample\").mean()\n",
    "    return dataframe"
   ]
  },
  {
   "cell_type": "code",
   "execution_count": 4,
   "metadata": {},
   "outputs": [],
   "source": [
    "def class_level_metrics(dataframe, owner, project):\n",
    "    dataframe = dataframe[dataframe[\"Kind\"].str.contains(\"Class\")]\n",
    "    dataframe[\"sample\"] = owner+\"/\"+project\n",
    "    dataframe = dataframe.groupby(\"sample\").mean()\n",
    "    return dataframe"
   ]
  },
  {
   "cell_type": "code",
   "execution_count": 5,
   "metadata": {},
   "outputs": [],
   "source": [
    "def project_level_metrics(dataframe, owner, project):\n",
    "    numberJavaFiles = 0 if dataframe.empty else dataframe[\"Kind\"].value_counts()[\"File\"]\n",
    "    dataframe = dataframe[dataframe[\"Kind\"] == \"Package\"]\n",
    "    packages = len(dataframe)\n",
    "    dataframe.drop(dataframe.columns.difference(['CountDeclClass']), 1, inplace=True)\n",
    "    dataframe[\"sample\"] = owner+\"/\"+project\n",
    "    dataframe = dataframe.groupby(\"sample\").sum()\n",
    "    dataframe[\"numberJavaFiles\"] = numberJavaFiles\n",
    "    dataframe[\"packages\"] = packages\n",
    "    return dataframe"
   ]
  },
  {
   "cell_type": "code",
   "execution_count": 6,
   "metadata": {},
   "outputs": [],
   "source": [
    "def readMetricsFromCsv(project):\n",
    "    dtype = {'Kind': str, 'Name': str, 'AvgCyclomatic': np.float64, 'AvgCyclomaticModified': np.float64,'AvgCyclomaticStrict': np.float64, 'AvgEssential': np.float64, 'AvgLine': np.float64, 'AvgLineBlank': np.float64,'AvgLineCode': np.float64, 'AvgLineComment': np.float64, 'CountClassBase': np.float64, 'CountClassCoupled': np.float64,'CountClassCoupledModified': np.float64, 'CountClassDerived': np.float64, 'CountDeclClass': np.float64,'CountDeclClassMethod': np.float64, 'CountDeclClassVariable': np.float64,'CountDeclExecutableUnit': np.float64, 'CountDeclFile': np.float64, 'CountDeclFunction': np.float64,'CountDeclInstanceMethod': np.float64, 'CountDeclInstanceVariable': np.float64,'CountDeclMethod': np.float64, 'CountDeclMethodAll': np.float64, 'CountDeclMethodDefault': np.float64,'CountDeclMethodPrivate': np.float64, 'CountDeclMethodProtected': np.float64,'CountDeclMethodPublic': np.float64, 'CountInput': np.float64,'CountLine': np.float64, 'CountLineBlank': np.float64,'CountLineCode': np.float64, 'CountLineCodeDecl': np.float64, 'CountLineCodeExe': np.float64,'CountLineComment': np.float64, 'CountOutput': np.float64, 'CountPath': np.float64, 'CountPathLog': np.float64,'CountSemicolon': np.float64, 'CountStmt': np.float64, 'CountStmtDecl': np.float64, 'CountStmtExe': np.float64,'Cyclomatic': np.float64, 'CyclomaticModified': np.float64, 'CyclomaticStrict': np.float64, 'Essential': np.float64, 'Knots': np.float64, 'MaxCyclomatic': np.float64, 'MaxCyclomaticModified': np.float64,'MaxCyclomaticStrict': np.float64, 'MaxEssential': np.float64,'MaxEssentialKnots': np.float64,'MaxInheritanceTree': np.float64, 'MaxNesting': np.float64, 'MinEssentialKnots': np.float64,'PercentLackOfCohesion': np.float64, 'PercentLackOfCohesionModified': np.float64,'RatioCommentToCode': np.float64, 'SumCyclomatic': np.float64, 'SumCyclomaticModified': np.float64,'SumCyclomaticStrict': np.float64, 'SumEssential': np.float64}\n",
    "    dataframe = pd.read_csv(project+\".csv\", dtype=dtype)\n",
    "    return dataframe"
   ]
  },
  {
   "cell_type": "code",
   "execution_count": 7,
   "metadata": {},
   "outputs": [],
   "source": [
    "def getUnderstandMetrics(owner, project):\n",
    "    extractMetricsWithUnderstand(owner, project)\n",
    "    \n",
    "    dataframe = readMetricsFromCsv(project)\n",
    "    \n",
    "    method_level = method_level_metrics(dataframe.copy(), owner, project)\n",
    "    method_level[\"level\"] = \"method\"\n",
    "    method_level.set_index(\"level\")\n",
    "\n",
    "    \n",
    "    class_level = class_level_metrics(dataframe.copy(), owner, project)\n",
    "    class_level[\"level\"] = \"class\"\n",
    "    class_level.set_index(\"level\")    \n",
    "    \n",
    "    project_level = project_level_metrics(dataframe.copy(), owner, project)\n",
    "    project_level[\"level\"] = \"project\"\n",
    "    project_level.set_index(\"level\")\n",
    "    \n",
    "    return pd.concat([method_level, class_level, project_level], axis=0)"
   ]
  },
  {
   "cell_type": "code",
   "execution_count": 8,
   "metadata": {},
   "outputs": [],
   "source": [
    "def findPaths(pattern, path):\n",
    "    result = []\n",
    "    for root, dirs, files in os.walk(path):\n",
    "        if '.git' in root:\n",
    "            continue\n",
    "        for name in files:\n",
    "            if fnmatch.fnmatch(name, pattern):\n",
    "                result.append(os.path.join(root, name))\n",
    "    return result"
   ]
  },
  {
   "cell_type": "code",
   "execution_count": 9,
   "metadata": {},
   "outputs": [],
   "source": [
    "def getMetrics(commit, owner, project):\n",
    "    metrics = getUnderstandMetrics(owner, project)\n",
    "    metrics[\"commitSha\"] = commit.hexsha\n",
    "    metrics[\"commitDate\"] = commit.authored_datetime\n",
    "    return metrics"
   ]
  },
  {
   "cell_type": "code",
   "execution_count": 10,
   "metadata": {},
   "outputs": [],
   "source": [
    "def deleteUnusedFiles(sample):\n",
    "    os.remove(sample + \".csv\")\n",
    "    shutil.rmtree(sample + \".und\")"
   ]
  },
  {
   "cell_type": "code",
   "execution_count": 11,
   "metadata": {},
   "outputs": [],
   "source": [
    "def createDirectoryIfNotExists(dirName):\n",
    "    if not os.path.exists(dirName):\n",
    "            os.makedirs(dirName)"
   ]
  },
  {
   "cell_type": "code",
   "execution_count": 12,
   "metadata": {},
   "outputs": [],
   "source": [
    "def replaceSamplePathForWindowsLike(sample):\n",
    "    return sample.replace(\"/\", \"\\\\\")"
   ]
  },
  {
   "cell_type": "code",
   "execution_count": 13,
   "metadata": {},
   "outputs": [],
   "source": [
    "def extractMetricsByCommit(sample, commit):\n",
    "    owner, project = sample.split(\"\\\\\")\n",
    "    checkoutTo(sample, commit.hexsha)\n",
    "    print(\"commit ======= \" + commit.hexsha)\n",
    "    metrics = getMetrics(commit, owner, project)\n",
    "    return metrics"
   ]
  },
  {
   "cell_type": "code",
   "execution_count": 14,
   "metadata": {},
   "outputs": [],
   "source": [
    "def extractMetricsForAllCommits(commits, sample):\n",
    "    allCommits = pd.DataFrame()\n",
    "    for index, commit in enumerate(commits):\n",
    "        metrics = extractMetricsByCommit(sample, commit)\n",
    "        allCommits = allCommits.append(metrics, ignore_index=True)\n",
    "        print(\"{0}% of commits completed from sample {1}\".format((index/len(commits) * 100), sample))\n",
    "        allCommits.to_csv(\"metrics\\\\\"+sample+\".csv\", index=False)\n",
    "    return allCommits"
   ]
  },
  {
   "cell_type": "code",
   "execution_count": 15,
   "metadata": {},
   "outputs": [],
   "source": [
    "exclude = []\n",
    "def metricsByCommit(samples):\n",
    "    for index, sample in enumerate(samples):\n",
    "        if (sample in exclude):\n",
    "            continue\n",
    "        print(sample)\n",
    "        sample = replaceSamplePathForWindowsLike(sample)\n",
    "        \n",
    "        printStatus(index+1, len(samples))\n",
    "        \n",
    "        createDirectoryIfNotExists(\"metrics\")\n",
    "        \n",
    "        commits = getCommitsFrom(sample)\n",
    "        commits.reverse()\n",
    "        \n",
    "        owner, project = sample.split(\"\\\\\")\n",
    "        \n",
    "        createDirectoryIfNotExists(\"metrics\\\\\"+owner)\n",
    "        \n",
    "        allCommits = extractMetricsForAllCommits(commits, sample)\n",
    "        \n",
    "        deleteUnusedFiles(project)\n",
    "        \n",
    "        allCommits.to_csv(\"metrics\\\\\"+sample+\".csv\", index=False)"
   ]
  },
  {
   "cell_type": "code",
   "execution_count": 16,
   "metadata": {},
   "outputs": [],
   "source": [
    "samples = pd.read_csv(\"sampleQuestions.csv\")"
   ]
  },
  {
   "cell_type": "code",
   "execution_count": 17,
   "metadata": {},
   "outputs": [],
   "source": [
    "samples[\"full_name\"] = samples[\"framework\"] + \"/\" +samples[\"path\"]"
   ]
  },
  {
   "cell_type": "code",
   "execution_count": 20,
   "metadata": {
    "scrolled": false
   },
   "outputs": [
    {
     "name": "stdout",
     "output_type": "stream",
     "text": [
      "github.com/android-test\n",
      "2.127659574468085% Completed samples\n"
     ]
    },
    {
     "ename": "NoSuchPathError",
     "evalue": "c:\\Users\\Atilio\\Downloads\\repositories\\github.com\\android-test",
     "output_type": "error",
     "traceback": [
      "\u001b[1;31m---------------------------------------------------------------------------\u001b[0m",
      "\u001b[1;31mNoSuchPathError\u001b[0m                           Traceback (most recent call last)",
      "Cell \u001b[1;32mIn[20], line 1\u001b[0m\n\u001b[1;32m----> 1\u001b[0m metricsByCommit(samples[\u001b[39m\"\u001b[39;49m\u001b[39mfull_name\u001b[39;49m\u001b[39m\"\u001b[39;49m]\u001b[39m.\u001b[39;49munique())\n",
      "Cell \u001b[1;32mIn[15], line 13\u001b[0m, in \u001b[0;36mmetricsByCommit\u001b[1;34m(samples)\u001b[0m\n\u001b[0;32m      9\u001b[0m printStatus(index\u001b[39m+\u001b[39m\u001b[39m1\u001b[39m, \u001b[39mlen\u001b[39m(samples))\n\u001b[0;32m     11\u001b[0m createDirectoryIfNotExists(\u001b[39m\"\u001b[39m\u001b[39mmetrics\u001b[39m\u001b[39m\"\u001b[39m)\n\u001b[1;32m---> 13\u001b[0m commits \u001b[39m=\u001b[39m getCommitsFrom(sample)\n\u001b[0;32m     14\u001b[0m commits\u001b[39m.\u001b[39mreverse()\n\u001b[0;32m     16\u001b[0m owner, project \u001b[39m=\u001b[39m sample\u001b[39m.\u001b[39msplit(\u001b[39m\"\u001b[39m\u001b[39m\\\\\u001b[39;00m\u001b[39m\"\u001b[39m)\n",
      "Cell \u001b[1;32mIn[2], line 3\u001b[0m, in \u001b[0;36mgetCommitsFrom\u001b[1;34m(project)\u001b[0m\n\u001b[0;32m      1\u001b[0m \u001b[39mdef\u001b[39;00m \u001b[39mgetCommitsFrom\u001b[39m(project):\n\u001b[0;32m      2\u001b[0m     projectPath \u001b[39m=\u001b[39m \u001b[39m\"\u001b[39m\u001b[39mrepositories/\u001b[39m\u001b[39m\"\u001b[39m\u001b[39m+\u001b[39mproject\n\u001b[1;32m----> 3\u001b[0m     repository \u001b[39m=\u001b[39m Repo(projectPath)\n\u001b[0;32m      4\u001b[0m     \u001b[39mtry\u001b[39;00m:\n\u001b[0;32m      5\u001b[0m         repository\u001b[39m.\u001b[39mgit\u001b[39m.\u001b[39mcheckout(\u001b[39m\"\u001b[39m\u001b[39mmain\u001b[39m\u001b[39m\"\u001b[39m, \u001b[39m\"\u001b[39m\u001b[39m-f\u001b[39m\u001b[39m\"\u001b[39m)\n",
      "File \u001b[1;32mc:\\Users\\Atilio\\AppData\\Local\\Programs\\Python\\Python310\\lib\\site-packages\\git\\repo\\base.py:236\u001b[0m, in \u001b[0;36mRepo.__init__\u001b[1;34m(self, path, odbt, search_parent_directories, expand_vars)\u001b[0m\n\u001b[0;32m    234\u001b[0m \u001b[39mif\u001b[39;00m epath \u001b[39mis\u001b[39;00m \u001b[39mnot\u001b[39;00m \u001b[39mNone\u001b[39;00m:\n\u001b[0;32m    235\u001b[0m     \u001b[39mif\u001b[39;00m \u001b[39mnot\u001b[39;00m os\u001b[39m.\u001b[39mpath\u001b[39m.\u001b[39mexists(epath):\n\u001b[1;32m--> 236\u001b[0m         \u001b[39mraise\u001b[39;00m NoSuchPathError(epath)\n\u001b[0;32m    238\u001b[0m \u001b[39m# Walk up the path to find the `.git` dir.\u001b[39;00m\n\u001b[0;32m    239\u001b[0m curpath \u001b[39m=\u001b[39m epath\n",
      "\u001b[1;31mNoSuchPathError\u001b[0m: c:\\Users\\Atilio\\Downloads\\repositories\\github.com\\android-test"
     ]
    }
   ],
   "source": [
    "metricsByCommit(samples[\"full_name\"].unique())"
   ]
  }
 ],
 "metadata": {
  "kernelspec": {
   "display_name": "Python 3",
   "language": "python",
   "name": "python3"
  },
  "language_info": {
   "codemirror_mode": {
    "name": "ipython",
    "version": 3
   },
   "file_extension": ".py",
   "mimetype": "text/x-python",
   "name": "python",
   "nbconvert_exporter": "python",
   "pygments_lexer": "ipython3",
   "version": "3.10.6"
  }
 },
 "nbformat": 4,
 "nbformat_minor": 4
}
