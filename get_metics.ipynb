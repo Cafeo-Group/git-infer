{
 "cells": [
  {
   "cell_type": "code",
   "execution_count": 154,
   "metadata": {},
   "outputs": [
    {
     "name": "stdout",
     "output_type": "stream",
     "text": [
      "Defaulting to user installation because normal site-packages is not writeable\n",
      "Requirement already satisfied: PyGithub in /home/rafael/.local/lib/python3.11/site-packages (2.3.0)\n",
      "Requirement already satisfied: python-dotenv in /usr/lib/python3/dist-packages (0.19.2)\n",
      "Requirement already satisfied: pandas in /home/rafael/.local/lib/python3.11/site-packages (2.2.2)\n",
      "Requirement already satisfied: tqdm in /home/rafael/.local/lib/python3.11/site-packages (4.66.4)\n",
      "Requirement already satisfied: matplotlib in /home/rafael/.local/lib/python3.11/site-packages (3.9.1)\n",
      "Requirement already satisfied: seaborn in /home/rafael/.local/lib/python3.11/site-packages (0.13.2)\n",
      "Requirement already satisfied: typing-extensions>=4.0.0 in /home/rafael/.local/lib/python3.11/site-packages (from PyGithub) (4.12.2)\n",
      "Requirement already satisfied: requests>=2.14.0 in /usr/lib/python3/dist-packages (from PyGithub) (2.25.1)\n",
      "Requirement already satisfied: Deprecated in /home/rafael/.local/lib/python3.11/site-packages (from PyGithub) (1.2.14)\n",
      "Requirement already satisfied: urllib3>=1.26.0 in /usr/lib/python3/dist-packages (from PyGithub) (1.26.5)\n",
      "Requirement already satisfied: pyjwt[crypto]>=2.4.0 in /home/rafael/.local/lib/python3.11/site-packages (from PyGithub) (2.9.0)\n",
      "Requirement already satisfied: pynacl>=1.4.0 in /home/rafael/.local/lib/python3.11/site-packages (from PyGithub) (1.5.0)\n",
      "Requirement already satisfied: pytz>=2020.1 in /home/rafael/.local/lib/python3.11/site-packages (from pandas) (2024.1)\n",
      "Requirement already satisfied: python-dateutil>=2.8.2 in /home/rafael/.local/lib/python3.11/site-packages (from pandas) (2.9.0.post0)\n",
      "Requirement already satisfied: numpy>=1.23.2 in /home/rafael/.local/lib/python3.11/site-packages (from pandas) (2.0.1)\n",
      "Requirement already satisfied: tzdata>=2022.7 in /home/rafael/.local/lib/python3.11/site-packages (from pandas) (2024.1)\n",
      "Requirement already satisfied: contourpy>=1.0.1 in /home/rafael/.local/lib/python3.11/site-packages (from matplotlib) (1.2.1)\n",
      "Requirement already satisfied: cycler>=0.10 in /home/rafael/.local/lib/python3.11/site-packages (from matplotlib) (0.12.1)\n",
      "Requirement already satisfied: pyparsing>=2.3.1 in /usr/lib/python3/dist-packages (from matplotlib) (2.4.7)\n",
      "Requirement already satisfied: kiwisolver>=1.3.1 in /home/rafael/.local/lib/python3.11/site-packages (from matplotlib) (1.4.5)\n",
      "Requirement already satisfied: fonttools>=4.22.0 in /home/rafael/.local/lib/python3.11/site-packages (from matplotlib) (4.53.1)\n",
      "Requirement already satisfied: packaging>=20.0 in /home/rafael/.local/lib/python3.11/site-packages (from matplotlib) (24.1)\n",
      "Requirement already satisfied: pillow>=8 in /home/rafael/.local/lib/python3.11/site-packages (from matplotlib) (10.4.0)\n",
      "Requirement already satisfied: cryptography>=3.4.0 in /usr/lib/python3/dist-packages (from pyjwt[crypto]>=2.4.0->PyGithub) (3.4.8)\n",
      "Requirement already satisfied: cffi>=1.4.1 in /home/rafael/.local/lib/python3.11/site-packages (from pynacl>=1.4.0->PyGithub) (1.16.0)\n",
      "Requirement already satisfied: six>=1.5 in /usr/lib/python3/dist-packages (from python-dateutil>=2.8.2->pandas) (1.16.0)\n",
      "Requirement already satisfied: wrapt<2,>=1.10 in /home/rafael/.local/lib/python3.11/site-packages (from Deprecated->PyGithub) (1.16.0)\n",
      "Requirement already satisfied: pycparser in /home/rafael/.local/lib/python3.11/site-packages (from cffi>=1.4.1->pynacl>=1.4.0->PyGithub) (2.22)\n",
      "Note: you may need to restart the kernel to use updated packages.\n"
     ]
    }
   ],
   "source": [
    "%pip install PyGithub python-dotenv pandas tqdm matplotlib seaborn"
   ]
  },
  {
   "cell_type": "code",
   "execution_count": 155,
   "metadata": {},
   "outputs": [],
   "source": [
    "from github import Github\n",
    "import pandas as pd\n",
    "from dotenv import load_dotenv\n",
    "from os import getenv\n",
    "from tqdm import tqdm\n"
   ]
  },
  {
   "cell_type": "code",
   "execution_count": 156,
   "metadata": {},
   "outputs": [],
   "source": [
    "# ORGANIZATIONS = [\"googlesamples\", \"aws-samples\", \"Azure-Samples\", \"spring-guides\", \"googlearchive\", \"spring-cloud-samples\"]\n",
    "ORGANIZATIONS = [\"googlesamples\"]\n",
    "EXCLUDED_REPOS = [\n",
    "    \"googlearchive/digits-migration-helper-android\",\n",
    "    \"googlearchive/play-apk-expansion\",\n",
    "    \"googlearchive/tiger\",\n",
    "    \"googlearchive/two-token-sw\",\n",
    "    \"googlearchive/Abelana-Android\",\n",
    "    \"googlearchive/solutions-mobile-backend-starter-java\"\n",
    "]"
   ]
  },
  {
   "cell_type": "code",
   "execution_count": 157,
   "metadata": {},
   "outputs": [],
   "source": [
    "load_dotenv()\n",
    "github_client = Github(getenv('GITHUB_TOKEN'))"
   ]
  },
  {
   "cell_type": "code",
   "execution_count": 158,
   "metadata": {},
   "outputs": [],
   "source": [
    "def fetch_organization_repositories(organization_name, language=None):\n",
    "    organization = github_client.get_organization(organization_name)\n",
    "    repositories = organization.get_repos(\"all\")\n",
    "    total_repositories = repositories.totalCount\n",
    "    repo_data = []\n",
    "\n",
    "    conut = 0\n",
    "\n",
    "    for repo in tqdm(repositories, desc=organization_name, unit=\" repos\", total=total_repositories, ncols=100):\n",
    "        if repo.full_name in EXCLUDED_REPOS:\n",
    "            continue\n",
    "\n",
    "        # if language and repo.language != language:\n",
    "        #     continue\n",
    "\n",
    "        if organization_name == \"googlearchive\" and not is_valid_googlearchive_repo(repo):\n",
    "            continue\n",
    "        elif organization_name == \"SAP-samples\" and not is_valid_sap_sample_repo(repo):\n",
    "            continue\n",
    "\n",
    "        repo_languages = repo.get_languages()\n",
    "        total_lines = sum(repo_languages.values())\n",
    "        language_percentages = {lang: f'{(lines/total_lines):.2%}' for lang, lines in repo_languages.items()}\n",
    "        repo_data.append({\n",
    "            \"full_name\": repo.full_name,\n",
    "            \"name\": repo.name,\n",
    "            \"owner\": repo.owner.login,\n",
    "            \"html_url\": repo.html_url,\n",
    "            \"description\": repo.description,\n",
    "            \"language\": repo.language,\n",
    "            \"created_at\": repo.created_at,\n",
    "            \"updated_at\": repo.updated_at,\n",
    "            \"pushed_at\": repo.pushed_at,\n",
    "            \"size\": repo.size,\n",
    "            \"stargazers_count\": repo.stargazers_count,\n",
    "            \"watchers_count\": repo.watchers_count,\n",
    "            \"forks_count\": repo.forks_count,\n",
    "            \"open_issues_count\": repo.open_issues_count,\n",
    "            \"subscribers_count\": repo.subscribers_count,\n",
    "            \"network_count\": repo.network_count,\n",
    "            \"archived\": repo.archived,\n",
    "            \"total_lines\": total_lines,\n",
    "            \"langs_percentage\": language_percentages\n",
    "        })\n",
    "        conut += 1\n",
    "        \n",
    "        # if conut == 3:\n",
    "        #     break\n",
    "\n",
    "    return pd.DataFrame(repo_data)\n",
    "\n",
    "def is_valid_googlearchive_repo(repo):\n",
    "    if not repo.description:\n",
    "        return False\n",
    "    keywords = [\"example\", \"sample\", \"migrated\"]\n",
    "    return any(keyword in repo.description.lower() for keyword in keywords) or any(keyword in repo.full_name.lower() for keyword in keywords)\n",
    "\n",
    "def is_valid_sap_sample_repo(repo):\n",
    "    if not repo.description:\n",
    "        return False\n",
    "    keywords = [\"cloud\"]\n",
    "    return any(keyword in repo.description.lower() for keyword in keywords) or any(keyword in repo.full_name.lower() for keyword in keywords)\n"
   ]
  },
  {
   "cell_type": "code",
   "execution_count": 159,
   "metadata": {},
   "outputs": [],
   "source": [
    "def generate_metrics_csv():\n",
    "    all_repos_data = pd.DataFrame()\n",
    "    language_filter = None\n",
    "\n",
    "    for organization in ORGANIZATIONS:\n",
    "        print(f'Retrieving repos from {organization}...')\n",
    "        organization_repos_data = fetch_organization_repositories(organization, language_filter)\n",
    "        all_repos_data = pd.concat([all_repos_data, organization_repos_data], ignore_index=True)\n",
    "        print(f'Done with {organization}')\n",
    "\n",
    "    file_path = f\"results/codesamples.csv\"\n",
    "\n",
    "    all_repos_data.to_csv(file_path, index=False)\n",
    "\n",
    "    return all_repos_data"
   ]
  },
  {
   "cell_type": "code",
   "execution_count": 160,
   "metadata": {},
   "outputs": [],
   "source": [
    "def calculate_language_usage(dataframe):\n",
    "    language_usage = {}\n",
    "\n",
    "    for repo in dataframe.itertuples():\n",
    "        repo_languages = repo.langs_percentage\n",
    "        total_lines = repo.total_lines\n",
    "\n",
    "        for language, percentage in repo_languages.items():\n",
    "            lines = total_lines * (float(percentage.strip('%')) / 100)\n",
    "            language_usage[language] = language_usage.get(language, 0) + lines\n",
    "\n",
    "    total_lines_of_code = sum(language_usage.values())\n",
    "\n",
    "    formatted_languages = sorted(\n",
    "        [(language, f'{(lines / total_lines_of_code):.2%}', int(lines)) for language, lines in language_usage.items()],\n",
    "        key=lambda item: float(item[1].strip('%')),\n",
    "        reverse=True\n",
    "    )\n",
    "\n",
    "    file_path = f\"results/languages_usage.csv\"\n",
    "    dataframeLanguages = pd.DataFrame(formatted_languages, columns=[\"Language\", \"Usage Percentage\", \"Lines\"])\n",
    "    dataframeLanguages.to_csv(file_path, index=False)\n",
    "    return dataframeLanguages\n"
   ]
  },
  {
   "cell_type": "markdown",
   "metadata": {},
   "source": [
    "# Results"
   ]
  },
  {
   "cell_type": "code",
   "execution_count": 161,
   "metadata": {},
   "outputs": [
    {
     "name": "stdout",
     "output_type": "stream",
     "text": [
      "Retrieving repos from googlesamples...\n"
     ]
    },
    {
     "name": "stderr",
     "output_type": "stream",
     "text": [
      "googlesamples:  15%|██████▊                                     | 11/71 [00:13<01:12,  1.21s/ repos]\n"
     ]
    },
    {
     "ename": "KeyboardInterrupt",
     "evalue": "",
     "output_type": "error",
     "traceback": [
      "\u001b[0;31m---------------------------------------------------------------------------\u001b[0m",
      "\u001b[0;31mKeyboardInterrupt\u001b[0m                         Traceback (most recent call last)",
      "Cell \u001b[0;32mIn[161], line 1\u001b[0m\n\u001b[0;32m----> 1\u001b[0m dataframe \u001b[38;5;241m=\u001b[39m \u001b[43mgenerate_metrics_csv\u001b[49m\u001b[43m(\u001b[49m\u001b[43m)\u001b[49m\n\u001b[1;32m      2\u001b[0m dataframe\n",
      "Cell \u001b[0;32mIn[159], line 7\u001b[0m, in \u001b[0;36mgenerate_metrics_csv\u001b[0;34m()\u001b[0m\n\u001b[1;32m      5\u001b[0m \u001b[38;5;28;01mfor\u001b[39;00m organization \u001b[38;5;129;01min\u001b[39;00m ORGANIZATIONS:\n\u001b[1;32m      6\u001b[0m     \u001b[38;5;28mprint\u001b[39m(\u001b[38;5;124mf\u001b[39m\u001b[38;5;124m'\u001b[39m\u001b[38;5;124mRetrieving repos from \u001b[39m\u001b[38;5;132;01m{\u001b[39;00morganization\u001b[38;5;132;01m}\u001b[39;00m\u001b[38;5;124m...\u001b[39m\u001b[38;5;124m'\u001b[39m)\n\u001b[0;32m----> 7\u001b[0m     organization_repos_data \u001b[38;5;241m=\u001b[39m \u001b[43mfetch_organization_repositories\u001b[49m\u001b[43m(\u001b[49m\u001b[43morganization\u001b[49m\u001b[43m,\u001b[49m\u001b[43m \u001b[49m\u001b[43mlanguage_filter\u001b[49m\u001b[43m)\u001b[49m\n\u001b[1;32m      8\u001b[0m     all_repos_data \u001b[38;5;241m=\u001b[39m pd\u001b[38;5;241m.\u001b[39mconcat([all_repos_data, organization_repos_data], ignore_index\u001b[38;5;241m=\u001b[39m\u001b[38;5;28;01mTrue\u001b[39;00m)\n\u001b[1;32m      9\u001b[0m     \u001b[38;5;28mprint\u001b[39m(\u001b[38;5;124mf\u001b[39m\u001b[38;5;124m'\u001b[39m\u001b[38;5;124mDone with \u001b[39m\u001b[38;5;132;01m{\u001b[39;00morganization\u001b[38;5;132;01m}\u001b[39;00m\u001b[38;5;124m'\u001b[39m)\n",
      "Cell \u001b[0;32mIn[158], line 21\u001b[0m, in \u001b[0;36mfetch_organization_repositories\u001b[0;34m(organization_name, language)\u001b[0m\n\u001b[1;32m     18\u001b[0m \u001b[38;5;28;01melif\u001b[39;00m organization_name \u001b[38;5;241m==\u001b[39m \u001b[38;5;124m\"\u001b[39m\u001b[38;5;124mSAP-samples\u001b[39m\u001b[38;5;124m\"\u001b[39m \u001b[38;5;129;01mand\u001b[39;00m \u001b[38;5;129;01mnot\u001b[39;00m is_valid_sap_sample_repo(repo):\n\u001b[1;32m     19\u001b[0m     \u001b[38;5;28;01mcontinue\u001b[39;00m\n\u001b[0;32m---> 21\u001b[0m repo_languages \u001b[38;5;241m=\u001b[39m \u001b[43mrepo\u001b[49m\u001b[38;5;241;43m.\u001b[39;49m\u001b[43mget_languages\u001b[49m\u001b[43m(\u001b[49m\u001b[43m)\u001b[49m\n\u001b[1;32m     22\u001b[0m total_lines \u001b[38;5;241m=\u001b[39m \u001b[38;5;28msum\u001b[39m(repo_languages\u001b[38;5;241m.\u001b[39mvalues())\n\u001b[1;32m     23\u001b[0m language_percentages \u001b[38;5;241m=\u001b[39m {lang: \u001b[38;5;124mf\u001b[39m\u001b[38;5;124m'\u001b[39m\u001b[38;5;132;01m{\u001b[39;00m(lines\u001b[38;5;241m/\u001b[39mtotal_lines)\u001b[38;5;132;01m:\u001b[39;00m\u001b[38;5;124m.2%\u001b[39m\u001b[38;5;132;01m}\u001b[39;00m\u001b[38;5;124m'\u001b[39m \u001b[38;5;28;01mfor\u001b[39;00m lang, lines \u001b[38;5;129;01min\u001b[39;00m repo_languages\u001b[38;5;241m.\u001b[39mitems()}\n",
      "File \u001b[0;32m~/.local/lib/python3.11/site-packages/github/Repository.py:2973\u001b[0m, in \u001b[0;36mRepository.get_languages\u001b[0;34m(self)\u001b[0m\n\u001b[1;32m   2968\u001b[0m \u001b[38;5;28;01mdef\u001b[39;00m \u001b[38;5;21mget_languages\u001b[39m(\u001b[38;5;28mself\u001b[39m) \u001b[38;5;241m-\u001b[39m\u001b[38;5;241m>\u001b[39m \u001b[38;5;28mdict\u001b[39m[\u001b[38;5;28mstr\u001b[39m, \u001b[38;5;28mint\u001b[39m]:\n\u001b[1;32m   2969\u001b[0m \u001b[38;5;250m    \u001b[39m\u001b[38;5;124;03m\"\"\"\u001b[39;00m\n\u001b[1;32m   2970\u001b[0m \u001b[38;5;124;03m    :calls: `GET /repos/{owner}/{repo}/languages <https://docs.github.com/en/rest/reference/repos>`_\u001b[39;00m\n\u001b[1;32m   2971\u001b[0m \u001b[38;5;124;03m    :rtype: dict of string to integer\u001b[39;00m\n\u001b[1;32m   2972\u001b[0m \u001b[38;5;124;03m    \"\"\"\u001b[39;00m\n\u001b[0;32m-> 2973\u001b[0m     headers, data \u001b[38;5;241m=\u001b[39m \u001b[38;5;28;43mself\u001b[39;49m\u001b[38;5;241;43m.\u001b[39;49m\u001b[43m_requester\u001b[49m\u001b[38;5;241;43m.\u001b[39;49m\u001b[43mrequestJsonAndCheck\u001b[49m\u001b[43m(\u001b[49m\u001b[38;5;124;43m\"\u001b[39;49m\u001b[38;5;124;43mGET\u001b[39;49m\u001b[38;5;124;43m\"\u001b[39;49m\u001b[43m,\u001b[49m\u001b[43m \u001b[49m\u001b[38;5;124;43mf\u001b[39;49m\u001b[38;5;124;43m\"\u001b[39;49m\u001b[38;5;132;43;01m{\u001b[39;49;00m\u001b[38;5;28;43mself\u001b[39;49m\u001b[38;5;241;43m.\u001b[39;49m\u001b[43murl\u001b[49m\u001b[38;5;132;43;01m}\u001b[39;49;00m\u001b[38;5;124;43m/languages\u001b[39;49m\u001b[38;5;124;43m\"\u001b[39;49m\u001b[43m)\u001b[49m\n\u001b[1;32m   2974\u001b[0m     \u001b[38;5;28;01mreturn\u001b[39;00m data\n",
      "File \u001b[0;32m~/.local/lib/python3.11/site-packages/github/Requester.py:548\u001b[0m, in \u001b[0;36mRequester.requestJsonAndCheck\u001b[0;34m(self, verb, url, parameters, headers, input)\u001b[0m\n\u001b[1;32m    540\u001b[0m \u001b[38;5;28;01mdef\u001b[39;00m \u001b[38;5;21mrequestJsonAndCheck\u001b[39m(\n\u001b[1;32m    541\u001b[0m     \u001b[38;5;28mself\u001b[39m,\n\u001b[1;32m    542\u001b[0m     verb: \u001b[38;5;28mstr\u001b[39m,\n\u001b[0;32m   (...)\u001b[0m\n\u001b[1;32m    546\u001b[0m     \u001b[38;5;28minput\u001b[39m: Optional[Any] \u001b[38;5;241m=\u001b[39m \u001b[38;5;28;01mNone\u001b[39;00m,\n\u001b[1;32m    547\u001b[0m ) \u001b[38;5;241m-\u001b[39m\u001b[38;5;241m>\u001b[39m Tuple[Dict[\u001b[38;5;28mstr\u001b[39m, Any], Any]:\n\u001b[0;32m--> 548\u001b[0m     \u001b[38;5;28;01mreturn\u001b[39;00m \u001b[38;5;28mself\u001b[39m\u001b[38;5;241m.\u001b[39m__check(\u001b[38;5;241m*\u001b[39m\u001b[38;5;28;43mself\u001b[39;49m\u001b[38;5;241;43m.\u001b[39;49m\u001b[43mrequestJson\u001b[49m\u001b[43m(\u001b[49m\u001b[43mverb\u001b[49m\u001b[43m,\u001b[49m\u001b[43m \u001b[49m\u001b[43murl\u001b[49m\u001b[43m,\u001b[49m\u001b[43m \u001b[49m\u001b[43mparameters\u001b[49m\u001b[43m,\u001b[49m\u001b[43m \u001b[49m\u001b[43mheaders\u001b[49m\u001b[43m,\u001b[49m\u001b[43m \u001b[49m\u001b[38;5;28;43minput\u001b[39;49m\u001b[43m,\u001b[49m\u001b[43m \u001b[49m\u001b[38;5;28;43mself\u001b[39;49m\u001b[38;5;241;43m.\u001b[39;49m\u001b[43m__customConnection\u001b[49m\u001b[43m(\u001b[49m\u001b[43murl\u001b[49m\u001b[43m)\u001b[49m\u001b[43m)\u001b[49m)\n",
      "File \u001b[0;32m~/.local/lib/python3.11/site-packages/github/Requester.py:713\u001b[0m, in \u001b[0;36mRequester.requestJson\u001b[0;34m(self, verb, url, parameters, headers, input, cnx)\u001b[0m\n\u001b[1;32m    710\u001b[0m \u001b[38;5;28;01mdef\u001b[39;00m \u001b[38;5;21mencode\u001b[39m(\u001b[38;5;28minput\u001b[39m: Any) \u001b[38;5;241m-\u001b[39m\u001b[38;5;241m>\u001b[39m Tuple[\u001b[38;5;28mstr\u001b[39m, \u001b[38;5;28mstr\u001b[39m]:\n\u001b[1;32m    711\u001b[0m     \u001b[38;5;28;01mreturn\u001b[39;00m \u001b[38;5;124m\"\u001b[39m\u001b[38;5;124mapplication/json\u001b[39m\u001b[38;5;124m\"\u001b[39m, json\u001b[38;5;241m.\u001b[39mdumps(\u001b[38;5;28minput\u001b[39m)\n\u001b[0;32m--> 713\u001b[0m \u001b[38;5;28;01mreturn\u001b[39;00m \u001b[38;5;28;43mself\u001b[39;49m\u001b[38;5;241;43m.\u001b[39;49m\u001b[43m__requestEncode\u001b[49m\u001b[43m(\u001b[49m\u001b[43mcnx\u001b[49m\u001b[43m,\u001b[49m\u001b[43m \u001b[49m\u001b[43mverb\u001b[49m\u001b[43m,\u001b[49m\u001b[43m \u001b[49m\u001b[43murl\u001b[49m\u001b[43m,\u001b[49m\u001b[43m \u001b[49m\u001b[43mparameters\u001b[49m\u001b[43m,\u001b[49m\u001b[43m \u001b[49m\u001b[43mheaders\u001b[49m\u001b[43m,\u001b[49m\u001b[43m \u001b[49m\u001b[38;5;28;43minput\u001b[39;49m\u001b[43m,\u001b[49m\u001b[43m \u001b[49m\u001b[43mencode\u001b[49m\u001b[43m)\u001b[49m\n",
      "File \u001b[0;32m~/.local/lib/python3.11/site-packages/github/Requester.py:810\u001b[0m, in \u001b[0;36mRequester.__requestEncode\u001b[0;34m(self, cnx, verb, url, parameters, requestHeaders, input, encode)\u001b[0m\n\u001b[1;32m    806\u001b[0m     requestHeaders[\u001b[38;5;124m\"\u001b[39m\u001b[38;5;124mContent-Type\u001b[39m\u001b[38;5;124m\"\u001b[39m], encoded_input \u001b[38;5;241m=\u001b[39m encode(\u001b[38;5;28minput\u001b[39m)\n\u001b[1;32m    808\u001b[0m \u001b[38;5;28mself\u001b[39m\u001b[38;5;241m.\u001b[39mNEW_DEBUG_FRAME(requestHeaders)\n\u001b[0;32m--> 810\u001b[0m status, responseHeaders, output \u001b[38;5;241m=\u001b[39m \u001b[38;5;28;43mself\u001b[39;49m\u001b[38;5;241;43m.\u001b[39;49m\u001b[43m__requestRaw\u001b[49m\u001b[43m(\u001b[49m\u001b[43mcnx\u001b[49m\u001b[43m,\u001b[49m\u001b[43m \u001b[49m\u001b[43mverb\u001b[49m\u001b[43m,\u001b[49m\u001b[43m \u001b[49m\u001b[43murl\u001b[49m\u001b[43m,\u001b[49m\u001b[43m \u001b[49m\u001b[43mrequestHeaders\u001b[49m\u001b[43m,\u001b[49m\u001b[43m \u001b[49m\u001b[43mencoded_input\u001b[49m\u001b[43m)\u001b[49m\n\u001b[1;32m    812\u001b[0m \u001b[38;5;28;01mif\u001b[39;00m Consts\u001b[38;5;241m.\u001b[39mheaderRateRemaining \u001b[38;5;129;01min\u001b[39;00m responseHeaders \u001b[38;5;129;01mand\u001b[39;00m Consts\u001b[38;5;241m.\u001b[39mheaderRateLimit \u001b[38;5;129;01min\u001b[39;00m responseHeaders:\n\u001b[1;32m    813\u001b[0m     \u001b[38;5;28mself\u001b[39m\u001b[38;5;241m.\u001b[39mrate_limiting \u001b[38;5;241m=\u001b[39m (\n\u001b[1;32m    814\u001b[0m         \u001b[38;5;66;03m# ints expected but sometimes floats returned: https://github.com/PyGithub/PyGithub/pull/2697\u001b[39;00m\n\u001b[1;32m    815\u001b[0m         \u001b[38;5;28mint\u001b[39m(\u001b[38;5;28mfloat\u001b[39m(responseHeaders[Consts\u001b[38;5;241m.\u001b[39mheaderRateRemaining])),\n\u001b[1;32m    816\u001b[0m         \u001b[38;5;28mint\u001b[39m(\u001b[38;5;28mfloat\u001b[39m(responseHeaders[Consts\u001b[38;5;241m.\u001b[39mheaderRateLimit])),\n\u001b[1;32m    817\u001b[0m     )\n",
      "File \u001b[0;32m~/.local/lib/python3.11/site-packages/github/Requester.py:837\u001b[0m, in \u001b[0;36mRequester.__requestRaw\u001b[0;34m(self, cnx, verb, url, requestHeaders, input)\u001b[0m\n\u001b[1;32m    829\u001b[0m \u001b[38;5;28;01mdef\u001b[39;00m \u001b[38;5;21m__requestRaw\u001b[39m(\n\u001b[1;32m    830\u001b[0m     \u001b[38;5;28mself\u001b[39m,\n\u001b[1;32m    831\u001b[0m     cnx: Optional[Union[HTTPRequestsConnectionClass, HTTPSRequestsConnectionClass]],\n\u001b[0;32m   (...)\u001b[0m\n\u001b[1;32m    835\u001b[0m     \u001b[38;5;28minput\u001b[39m: Optional[Any],\n\u001b[1;32m    836\u001b[0m ) \u001b[38;5;241m-\u001b[39m\u001b[38;5;241m>\u001b[39m Tuple[\u001b[38;5;28mint\u001b[39m, Dict[\u001b[38;5;28mstr\u001b[39m, Any], \u001b[38;5;28mstr\u001b[39m]:\n\u001b[0;32m--> 837\u001b[0m     \u001b[38;5;28;43mself\u001b[39;49m\u001b[38;5;241;43m.\u001b[39;49m\u001b[43m__deferRequest\u001b[49m\u001b[43m(\u001b[49m\u001b[43mverb\u001b[49m\u001b[43m)\u001b[49m\n\u001b[1;32m    839\u001b[0m     \u001b[38;5;28;01mtry\u001b[39;00m:\n\u001b[1;32m    840\u001b[0m         original_cnx \u001b[38;5;241m=\u001b[39m cnx\n",
      "File \u001b[0;32m~/.local/lib/python3.11/site-packages/github/Requester.py:912\u001b[0m, in \u001b[0;36mRequester.__deferRequest\u001b[0;34m(self, verb)\u001b[0m\n\u001b[1;32m    910\u001b[0m     \u001b[38;5;28mself\u001b[39m\u001b[38;5;241m.\u001b[39m__logger \u001b[38;5;241m=\u001b[39m logging\u001b[38;5;241m.\u001b[39mgetLogger(\u001b[38;5;18m__name__\u001b[39m)\n\u001b[1;32m    911\u001b[0m \u001b[38;5;28mself\u001b[39m\u001b[38;5;241m.\u001b[39m__logger\u001b[38;5;241m.\u001b[39mdebug(\u001b[38;5;124mf\u001b[39m\u001b[38;5;124m\"\u001b[39m\u001b[38;5;124msleeping \u001b[39m\u001b[38;5;132;01m{\u001b[39;00mdefer\u001b[38;5;132;01m}\u001b[39;00m\u001b[38;5;124ms before next GitHub request\u001b[39m\u001b[38;5;124m\"\u001b[39m)\n\u001b[0;32m--> 912\u001b[0m time\u001b[38;5;241m.\u001b[39msleep(defer)\n",
      "\u001b[0;31mKeyboardInterrupt\u001b[0m: "
     ]
    }
   ],
   "source": [
    "dataframe = generate_metrics_csv()\n",
    "dataframe"
   ]
  },
  {
   "cell_type": "code",
   "execution_count": null,
   "metadata": {},
   "outputs": [],
   "source": [
    "dataframeLanguages = calculate_language_usage(dataframe)\n",
    "dataframeLanguages"
   ]
  }
 ],
 "metadata": {
  "kernelspec": {
   "display_name": "Python 3",
   "language": "python",
   "name": "python3"
  },
  "language_info": {
   "codemirror_mode": {
    "name": "ipython",
    "version": 3
   },
   "file_extension": ".py",
   "mimetype": "text/x-python",
   "name": "python",
   "nbconvert_exporter": "python",
   "pygments_lexer": "ipython3",
   "version": "3.11.0rc1"
  }
 },
 "nbformat": 4,
 "nbformat_minor": 2
}
