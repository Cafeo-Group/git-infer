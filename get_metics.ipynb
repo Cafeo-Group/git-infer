{
 "cells": [
  {
   "cell_type": "code",
   "execution_count": null,
   "metadata": {},
   "outputs": [],
   "source": [
    "%pip install PyGithub python-dotenv pandas tqdm matplotlib seaborn"
   ]
  },
  {
   "cell_type": "code",
   "execution_count": null,
   "metadata": {},
   "outputs": [],
   "source": [
    "from github import Github\n",
    "import pandas as pd\n",
    "from dotenv import load_dotenv\n",
    "from os import getenv\n",
    "from tqdm import tqdm\n",
    "import matplotlib.pyplot as plt\n",
    "import seaborn as sns\n"
   ]
  },
  {
   "cell_type": "code",
   "execution_count": null,
   "metadata": {},
   "outputs": [],
   "source": [
    "# ORGANIZATIONS = [\"googlesamples\", \"aws-samples\", \"Azure-Samples\", \"spring-guides\", \"googlearchive\", \"spring-cloud-samples\"]\n",
    "ORGANIZATIONS = [\"googlesamples\"]\n",
    "EXCLUDED_REPOS = [\n",
    "    \"googlearchive/digits-migration-helper-android\",\n",
    "    \"googlearchive/play-apk-expansion\",\n",
    "    \"googlearchive/tiger\",\n",
    "    \"googlearchive/two-token-sw\",\n",
    "    \"googlearchive/Abelana-Android\",\n",
    "    \"googlearchive/solutions-mobile-backend-starter-java\"\n",
    "]"
   ]
  },
  {
   "cell_type": "code",
   "execution_count": null,
   "metadata": {},
   "outputs": [],
   "source": [
    "load_dotenv()\n",
    "github_client = Github(getenv('GITHUB_TOKEN'))"
   ]
  },
  {
   "cell_type": "code",
   "execution_count": null,
   "metadata": {},
   "outputs": [],
   "source": [
    "def fetch_organization_repositories(organization_name, language=None):\n",
    "    organization = github_client.get_organization(organization_name)\n",
    "    repositories = organization.get_repos(\"all\")\n",
    "    total_repositories = repositories.totalCount\n",
    "    repo_data = []\n",
    "\n",
    "    conut = 0\n",
    "\n",
    "    for repo in tqdm(repositories, desc=organization_name, unit=\" repos\", total=total_repositories, ncols=100):\n",
    "        if repo.full_name in EXCLUDED_REPOS:\n",
    "            continue\n",
    "\n",
    "        # if language and repo.language != language:\n",
    "        #     continue\n",
    "\n",
    "        if organization_name == \"googlearchive\" and not is_valid_googlearchive_repo(repo):\n",
    "            continue\n",
    "        elif organization_name == \"SAP-samples\" and not is_valid_sap_sample_repo(repo):\n",
    "            continue\n",
    "\n",
    "        repo_languages = repo.get_languages()\n",
    "        total_lines = sum(repo_languages.values())\n",
    "        language_percentages = {lang: f'{(lines/total_lines):.2%}' for lang, lines in repo_languages.items()}\n",
    "        repo_data.append({\n",
    "            \"full_name\": repo.full_name,\n",
    "            \"name\": repo.name,\n",
    "            \"owner\": repo.owner.login,\n",
    "            \"html_url\": repo.html_url,\n",
    "            \"description\": repo.description,\n",
    "            \"language\": repo.language,\n",
    "            \"created_at\": repo.created_at,\n",
    "            \"updated_at\": repo.updated_at,\n",
    "            \"pushed_at\": repo.pushed_at,\n",
    "            \"size\": repo.size,\n",
    "            \"stargazers_count\": repo.stargazers_count,\n",
    "            \"watchers_count\": repo.watchers_count,\n",
    "            \"forks_count\": repo.forks_count,\n",
    "            \"open_issues_count\": repo.open_issues_count,\n",
    "            \"subscribers_count\": repo.subscribers_count,\n",
    "            \"network_count\": repo.network_count,\n",
    "            \"archived\": repo.archived,\n",
    "            \"total_lines\": total_lines,\n",
    "            \"langs_percentage\": language_percentages\n",
    "        })\n",
    "        conut += 1\n",
    "        \n",
    "        # if conut == 3:\n",
    "        #     break\n",
    "\n",
    "    return pd.DataFrame(repo_data)\n",
    "\n",
    "def is_valid_googlearchive_repo(repo):\n",
    "    if not repo.description:\n",
    "        return False\n",
    "    keywords = [\"example\", \"sample\", \"migrated\"]\n",
    "    return any(keyword in repo.description.lower() for keyword in keywords) or any(keyword in repo.full_name.lower() for keyword in keywords)\n",
    "\n",
    "def is_valid_sap_sample_repo(repo):\n",
    "    if not repo.description:\n",
    "        return False\n",
    "    keywords = [\"cloud\"]\n",
    "    return any(keyword in repo.description.lower() for keyword in keywords) or any(keyword in repo.full_name.lower() for keyword in keywords)\n"
   ]
  },
  {
   "cell_type": "code",
   "execution_count": null,
   "metadata": {},
   "outputs": [],
   "source": [
    "def generate_metrics_csv():\n",
    "    all_repos_data = pd.DataFrame()\n",
    "    language_filter = None\n",
    "\n",
    "    for organization in ORGANIZATIONS:\n",
    "        print(f'Retrieving repos from {organization}...')\n",
    "        organization_repos_data = fetch_organization_repositories(organization, language_filter)\n",
    "        all_repos_data = pd.concat([all_repos_data, organization_repos_data], ignore_index=True)\n",
    "        print(f'Done with {organization}')\n",
    "\n",
    "    file_path = f\"results/codesamples.csv\"\n",
    "\n",
    "    all_repos_data.to_csv(file_path, index=False)\n",
    "\n",
    "    return all_repos_data"
   ]
  },
  {
   "cell_type": "code",
   "execution_count": null,
   "metadata": {},
   "outputs": [],
   "source": [
    "def calculate_language_usage(dataframe):\n",
    "    language_usage = {}\n",
    "\n",
    "    for repo in dataframe.itertuples():\n",
    "        repo_languages = repo.langs_percentage\n",
    "        total_lines = repo.total_lines\n",
    "\n",
    "        for language, percentage in repo_languages.items():\n",
    "            lines = total_lines * (float(percentage.strip('%')) / 100)\n",
    "            language_usage[language] = language_usage.get(language, 0) + lines\n",
    "\n",
    "    total_lines_of_code = sum(language_usage.values())\n",
    "\n",
    "    formatted_languages = sorted(\n",
    "        [(language, f'{(lines / total_lines_of_code):.2%}', int(lines)) for language, lines in language_usage.items()],\n",
    "        key=lambda item: float(item[1].strip('%')),\n",
    "        reverse=True\n",
    "    )\n",
    "\n",
    "    file_path = f\"results/languages_usage.csv\"\n",
    "    dataframeLanguages = pd.DataFrame(formatted_languages, columns=[\"Language\", \"Usage Percentage\", \"Lines\"])\n",
    "    dataframeLanguages.to_csv(file_path, index=False)\n",
    "    return dataframeLanguages\n"
   ]
  },
  {
   "cell_type": "code",
   "execution_count": null,
   "metadata": {},
   "outputs": [],
   "source": [
    "def generate_statistics(dataframe):    \n",
    "    statistics = dataframe[METRICS].describe().transpose()\n",
    "    \n",
    "    statistics['median'] = dataframe[METRICS].median()\n",
    "    statistics['mode'] = dataframe[METRICS].mode().iloc[0]\n",
    "    \n",
    "    file_path = f\"results/statistics.csv\"\n",
    "    statistics.to_csv(file_path)\n",
    "    \n",
    "    return statistics"
   ]
  },
  {
   "cell_type": "markdown",
   "metadata": {},
   "source": [
    "# Results"
   ]
  },
  {
   "cell_type": "code",
   "execution_count": null,
   "metadata": {},
   "outputs": [],
   "source": [
    "METRICS = [\n",
    "    'size', \n",
    "    'stargazers_count', \n",
    "    'watchers_count', \n",
    "    'forks_count', \n",
    "    'open_issues_count', \n",
    "    'subscribers_count', \n",
    "    'network_count', \n",
    "    'total_lines'\n",
    "]"
   ]
  },
  {
   "cell_type": "code",
   "execution_count": null,
   "metadata": {},
   "outputs": [],
   "source": [
    "dataframe = generate_metrics_csv()\n",
    "dataframe"
   ]
  },
  {
   "cell_type": "code",
   "execution_count": null,
   "metadata": {},
   "outputs": [],
   "source": [
    "dataframeLanguages = calculate_language_usage(dataframe)\n",
    "dataframeLanguages"
   ]
  },
  {
   "cell_type": "code",
   "execution_count": null,
   "metadata": {},
   "outputs": [],
   "source": [
    "dataframe_statistics = generate_statistics(dataframe)\n",
    "dataframe_statistics"
   ]
  }
 ],
 "metadata": {
  "kernelspec": {
   "display_name": "Python 3",
   "language": "python",
   "name": "python3"
  },
  "language_info": {
   "codemirror_mode": {
    "name": "ipython",
    "version": 3
   },
   "file_extension": ".py",
   "mimetype": "text/x-python",
   "name": "python",
   "nbconvert_exporter": "python",
   "pygments_lexer": "ipython3",
   "version": "3.11.0rc1"
  }
 },
 "nbformat": 4,
 "nbformat_minor": 2
}
