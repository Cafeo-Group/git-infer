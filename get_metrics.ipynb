{
 "cells": [
  {
   "cell_type": "markdown",
   "metadata": {},
   "source": [
    "# Code"
   ]
  },
  {
   "cell_type": "code",
   "execution_count": 1,
   "metadata": {},
   "outputs": [
    {
     "name": "stdout",
     "output_type": "stream",
     "text": [
      "Defaulting to user installation because normal site-packages is not writeable\n",
      "Requirement already satisfied: PyGithub in c:\\users\\oheit\\appdata\\local\\packages\\pythonsoftwarefoundation.python.3.12_qbz5n2kfra8p0\\localcache\\local-packages\\python312\\site-packages (2.3.0)\n",
      "Requirement already satisfied: python-dotenv in c:\\users\\oheit\\appdata\\local\\packages\\pythonsoftwarefoundation.python.3.12_qbz5n2kfra8p0\\localcache\\local-packages\\python312\\site-packages (1.0.1)\n",
      "Requirement already satisfied: pandas in c:\\users\\oheit\\appdata\\local\\packages\\pythonsoftwarefoundation.python.3.12_qbz5n2kfra8p0\\localcache\\local-packages\\python312\\site-packages (2.2.2)\n",
      "Requirement already satisfied: tqdm in c:\\users\\oheit\\appdata\\local\\packages\\pythonsoftwarefoundation.python.3.12_qbz5n2kfra8p0\\localcache\\local-packages\\python312\\site-packages (4.66.4)\n",
      "Requirement already satisfied: matplotlib in c:\\users\\oheit\\appdata\\local\\packages\\pythonsoftwarefoundation.python.3.12_qbz5n2kfra8p0\\localcache\\local-packages\\python312\\site-packages (3.9.1.post1)\n",
      "Requirement already satisfied: seaborn in c:\\users\\oheit\\appdata\\local\\packages\\pythonsoftwarefoundation.python.3.12_qbz5n2kfra8p0\\localcache\\local-packages\\python312\\site-packages (0.13.2)\n",
      "Requirement already satisfied: pynacl>=1.4.0 in c:\\users\\oheit\\appdata\\local\\packages\\pythonsoftwarefoundation.python.3.12_qbz5n2kfra8p0\\localcache\\local-packages\\python312\\site-packages (from PyGithub) (1.5.0)\n",
      "Requirement already satisfied: requests>=2.14.0 in c:\\users\\oheit\\appdata\\local\\packages\\pythonsoftwarefoundation.python.3.12_qbz5n2kfra8p0\\localcache\\local-packages\\python312\\site-packages (from PyGithub) (2.32.3)\n",
      "Requirement already satisfied: pyjwt>=2.4.0 in c:\\users\\oheit\\appdata\\local\\packages\\pythonsoftwarefoundation.python.3.12_qbz5n2kfra8p0\\localcache\\local-packages\\python312\\site-packages (from pyjwt[crypto]>=2.4.0->PyGithub) (2.8.0)\n",
      "Requirement already satisfied: typing-extensions>=4.0.0 in c:\\users\\oheit\\appdata\\local\\packages\\pythonsoftwarefoundation.python.3.12_qbz5n2kfra8p0\\localcache\\local-packages\\python312\\site-packages (from PyGithub) (4.12.2)\n",
      "Requirement already satisfied: urllib3>=1.26.0 in c:\\users\\oheit\\appdata\\local\\packages\\pythonsoftwarefoundation.python.3.12_qbz5n2kfra8p0\\localcache\\local-packages\\python312\\site-packages (from PyGithub) (2.2.1)\n",
      "Requirement already satisfied: Deprecated in c:\\users\\oheit\\appdata\\local\\packages\\pythonsoftwarefoundation.python.3.12_qbz5n2kfra8p0\\localcache\\local-packages\\python312\\site-packages (from PyGithub) (1.2.14)\n",
      "Requirement already satisfied: numpy>=1.26.0 in c:\\users\\oheit\\appdata\\local\\packages\\pythonsoftwarefoundation.python.3.12_qbz5n2kfra8p0\\localcache\\local-packages\\python312\\site-packages (from pandas) (1.26.4)\n",
      "Requirement already satisfied: python-dateutil>=2.8.2 in c:\\users\\oheit\\appdata\\local\\packages\\pythonsoftwarefoundation.python.3.12_qbz5n2kfra8p0\\localcache\\local-packages\\python312\\site-packages (from pandas) (2.9.0.post0)\n",
      "Requirement already satisfied: pytz>=2020.1 in c:\\users\\oheit\\appdata\\local\\packages\\pythonsoftwarefoundation.python.3.12_qbz5n2kfra8p0\\localcache\\local-packages\\python312\\site-packages (from pandas) (2024.1)\n",
      "Requirement already satisfied: tzdata>=2022.7 in c:\\users\\oheit\\appdata\\local\\packages\\pythonsoftwarefoundation.python.3.12_qbz5n2kfra8p0\\localcache\\local-packages\\python312\\site-packages (from pandas) (2024.1)\n",
      "Requirement already satisfied: colorama in c:\\users\\oheit\\appdata\\local\\packages\\pythonsoftwarefoundation.python.3.12_qbz5n2kfra8p0\\localcache\\local-packages\\python312\\site-packages (from tqdm) (0.4.6)\n",
      "Requirement already satisfied: contourpy>=1.0.1 in c:\\users\\oheit\\appdata\\local\\packages\\pythonsoftwarefoundation.python.3.12_qbz5n2kfra8p0\\localcache\\local-packages\\python312\\site-packages (from matplotlib) (1.2.1)\n",
      "Requirement already satisfied: cycler>=0.10 in c:\\users\\oheit\\appdata\\local\\packages\\pythonsoftwarefoundation.python.3.12_qbz5n2kfra8p0\\localcache\\local-packages\\python312\\site-packages (from matplotlib) (0.12.1)\n",
      "Requirement already satisfied: fonttools>=4.22.0 in c:\\users\\oheit\\appdata\\local\\packages\\pythonsoftwarefoundation.python.3.12_qbz5n2kfra8p0\\localcache\\local-packages\\python312\\site-packages (from matplotlib) (4.53.1)\n",
      "Requirement already satisfied: kiwisolver>=1.3.1 in c:\\users\\oheit\\appdata\\local\\packages\\pythonsoftwarefoundation.python.3.12_qbz5n2kfra8p0\\localcache\\local-packages\\python312\\site-packages (from matplotlib) (1.4.5)\n",
      "Requirement already satisfied: packaging>=20.0 in c:\\users\\oheit\\appdata\\local\\packages\\pythonsoftwarefoundation.python.3.12_qbz5n2kfra8p0\\localcache\\local-packages\\python312\\site-packages (from matplotlib) (24.0)\n",
      "Requirement already satisfied: pillow>=8 in c:\\users\\oheit\\appdata\\local\\packages\\pythonsoftwarefoundation.python.3.12_qbz5n2kfra8p0\\localcache\\local-packages\\python312\\site-packages (from matplotlib) (10.3.0)\n",
      "Requirement already satisfied: pyparsing>=2.3.1 in c:\\users\\oheit\\appdata\\local\\packages\\pythonsoftwarefoundation.python.3.12_qbz5n2kfra8p0\\localcache\\local-packages\\python312\\site-packages (from matplotlib) (3.1.2)\n",
      "Requirement already satisfied: cryptography>=3.4.0 in c:\\users\\oheit\\appdata\\local\\packages\\pythonsoftwarefoundation.python.3.12_qbz5n2kfra8p0\\localcache\\local-packages\\python312\\site-packages (from pyjwt[crypto]>=2.4.0->PyGithub) (42.0.8)\n",
      "Requirement already satisfied: cffi>=1.4.1 in c:\\users\\oheit\\appdata\\local\\packages\\pythonsoftwarefoundation.python.3.12_qbz5n2kfra8p0\\localcache\\local-packages\\python312\\site-packages (from pynacl>=1.4.0->PyGithub) (1.16.0)\n",
      "Requirement already satisfied: six>=1.5 in c:\\users\\oheit\\appdata\\local\\packages\\pythonsoftwarefoundation.python.3.12_qbz5n2kfra8p0\\localcache\\local-packages\\python312\\site-packages (from python-dateutil>=2.8.2->pandas) (1.16.0)\n",
      "Requirement already satisfied: charset-normalizer<4,>=2 in c:\\users\\oheit\\appdata\\local\\packages\\pythonsoftwarefoundation.python.3.12_qbz5n2kfra8p0\\localcache\\local-packages\\python312\\site-packages (from requests>=2.14.0->PyGithub) (3.3.2)\n",
      "Requirement already satisfied: idna<4,>=2.5 in c:\\users\\oheit\\appdata\\local\\packages\\pythonsoftwarefoundation.python.3.12_qbz5n2kfra8p0\\localcache\\local-packages\\python312\\site-packages (from requests>=2.14.0->PyGithub) (3.7)\n",
      "Requirement already satisfied: certifi>=2017.4.17 in c:\\users\\oheit\\appdata\\local\\packages\\pythonsoftwarefoundation.python.3.12_qbz5n2kfra8p0\\localcache\\local-packages\\python312\\site-packages (from requests>=2.14.0->PyGithub) (2024.6.2)\n",
      "Requirement already satisfied: wrapt<2,>=1.10 in c:\\users\\oheit\\appdata\\local\\packages\\pythonsoftwarefoundation.python.3.12_qbz5n2kfra8p0\\localcache\\local-packages\\python312\\site-packages (from Deprecated->PyGithub) (1.16.0)\n",
      "Requirement already satisfied: pycparser in c:\\users\\oheit\\appdata\\local\\packages\\pythonsoftwarefoundation.python.3.12_qbz5n2kfra8p0\\localcache\\local-packages\\python312\\site-packages (from cffi>=1.4.1->pynacl>=1.4.0->PyGithub) (2.22)\n",
      "Note: you may need to restart the kernel to use updated packages.\n"
     ]
    }
   ],
   "source": [
    "%pip install PyGithub python-dotenv pandas tqdm matplotlib seaborn"
   ]
  },
  {
   "cell_type": "code",
   "execution_count": 2,
   "metadata": {},
   "outputs": [],
   "source": [
    "from github import Github\n",
    "import pandas as pd\n",
    "from dotenv import load_dotenv\n",
    "from os import getenv\n",
    "from tqdm import tqdm\n",
    "import matplotlib.pyplot as plt\n",
    "import seaborn as sns\n",
    "from concurrent.futures import ThreadPoolExecutor, as_completed\n",
    "import datetime\n"
   ]
  },
  {
   "cell_type": "code",
   "execution_count": 3,
   "metadata": {},
   "outputs": [],
   "source": [
    "ORGANIZATIONS = [\"googlesamples\", \"aws-samples\", \"Azure-Samples\", \"spring-guides\", \"googlearchive\", \"spring-cloud-samples\"]\n",
    "# ORGANIZATIONS = [\"googlesamples\"]\n",
    "EXCLUDED_REPOS = [\n",
    "    \"googlearchive/digits-migration-helper-android\",\n",
    "    \"googlearchive/play-apk-expansion\",\n",
    "    \"googlearchive/tiger\",\n",
    "    \"googlearchive/two-token-sw\",\n",
    "    \"googlearchive/Abelana-Android\",\n",
    "    \"googlearchive/solutions-mobile-backend-starter-java\"\n",
    "]"
   ]
  },
  {
   "cell_type": "code",
   "execution_count": 4,
   "metadata": {},
   "outputs": [],
   "source": [
    "load_dotenv()\n",
    "github_client = Github(getenv('GITHUB_TOKEN'), per_page=100)"
   ]
  },
  {
   "cell_type": "code",
   "execution_count": 5,
   "metadata": {},
   "outputs": [],
   "source": [
    "def fetch_organization_repositories(organization_name, language=None):\n",
    "    organization = github_client.get_organization(organization_name)\n",
    "    repositories = organization.get_repos(\"all\")\n",
    "    total_repositories = repositories.totalCount\n",
    "    repo_data = []\n",
    "\n",
    "    def process_repo(repo):\n",
    "        if repo.full_name in EXCLUDED_REPOS:\n",
    "            return None\n",
    "\n",
    "        if organization_name == \"googlearchive\" and not is_valid_googlearchive_repo(repo):\n",
    "            return None\n",
    "        elif organization_name == \"SAP-samples\" and not is_valid_sap_sample_repo(repo):\n",
    "            return None\n",
    "\n",
    "        repo_languages = repo.get_languages()\n",
    "        total_lines = sum(repo_languages.values())\n",
    "        language_percentages = {lang: f'{(lines/total_lines):.2%}' for lang, lines in repo_languages.items()}\n",
    "        return {\n",
    "            \"full_name\": repo.full_name,\n",
    "            \"name\": repo.name,\n",
    "            \"owner\": repo.owner.login,\n",
    "            \"html_url\": repo.html_url,\n",
    "            \"description\": repo.description,\n",
    "            \"language\": repo.language,\n",
    "            \"created_at\": repo.created_at,\n",
    "            \"updated_at\": repo.updated_at,\n",
    "            \"pushed_at\": repo.pushed_at,\n",
    "            \"size\": repo.size,\n",
    "            \"stargazers_count\": repo.stargazers_count,\n",
    "            \"watchers_count\": repo.watchers_count,\n",
    "            \"forks_count\": repo.forks_count,\n",
    "            \"open_issues_count\": repo.open_issues_count,\n",
    "            \"subscribers_count\": repo.subscribers_count,\n",
    "            \"network_count\": repo.network_count,\n",
    "            \"archived\": repo.archived,\n",
    "            \"total_lines\": total_lines,\n",
    "            \"langs_percentage\": language_percentages\n",
    "        }\n",
    "\n",
    "    with ThreadPoolExecutor() as executor:\n",
    "        futures = [executor.submit(process_repo, repo) for repo in repositories]\n",
    "        for future in tqdm(as_completed(futures), desc=organization_name, unit=\" repos\", total=total_repositories, ncols=100):\n",
    "            result = future.result()\n",
    "            if result:\n",
    "                repo_data.append(result)\n",
    "                \n",
    "    return pd.DataFrame(repo_data)\n",
    "\n",
    "def is_valid_googlearchive_repo(repo):\n",
    "    if not repo.description:\n",
    "        return False\n",
    "    keywords = [\"example\", \"sample\", \"migrated\"]\n",
    "    return any(keyword in repo.description.lower() for keyword in keywords) or any(keyword in repo.full_name.lower() for keyword in keywords)\n",
    "\n",
    "def is_valid_sap_sample_repo(repo):\n",
    "    if not repo.description:\n",
    "        return False\n",
    "    keywords = [\"cloud\"]\n",
    "    return any(keyword in repo.description.lower() for keyword in keywords) or any(keyword in repo.full_name.lower() for keyword in keywords)\n"
   ]
  },
  {
   "cell_type": "code",
   "execution_count": 6,
   "metadata": {},
   "outputs": [],
   "source": [
    "def generate_metrics_csv():\n",
    "    all_repos_data = []\n",
    "    \n",
    "    def fetch_data_for_organization(organization):\n",
    "        print(f'Retrieving repos from {organization}...')\n",
    "        organization_repos_data = fetch_organization_repositories(organization)\n",
    "        if not organization_repos_data.empty:\n",
    "            return organization_repos_data\n",
    "        else:\n",
    "            return pd.DataFrame()\n",
    "\n",
    "    with ThreadPoolExecutor() as executor:\n",
    "        futures = [executor.submit(fetch_data_for_organization, org) for org in ORGANIZATIONS]\n",
    "        for future in tqdm(as_completed(futures), desc=\"Processing organizations\", unit=\" orgs\"):\n",
    "            org_data = future.result()\n",
    "            if not org_data.empty:\n",
    "                all_repos_data.append(org_data)\n",
    "\n",
    "    all_repos_data_df = pd.concat(all_repos_data, ignore_index=True) if all_repos_data else pd.DataFrame()\n",
    "    timestamp = datetime.datetime.now().strftime(\"%Y%m%d_%H%M%S\")\n",
    "    file_path = f\"results/codesamples_{timestamp}.csv\"\n",
    "    all_repos_data_df.to_csv(file_path, index=False)\n",
    "\n",
    "    return all_repos_data_df"
   ]
  },
  {
   "cell_type": "code",
   "execution_count": 7,
   "metadata": {},
   "outputs": [],
   "source": [
    "def calculate_language_usage(dataframe):\n",
    "    language_usage = {}\n",
    "\n",
    "    for repo in dataframe.itertuples():\n",
    "        repo_languages = repo.langs_percentage\n",
    "        total_lines = repo.total_lines\n",
    "\n",
    "        for language, percentage in repo_languages.items():\n",
    "            lines = total_lines * (float(percentage.strip('%')) / 100)\n",
    "            language_usage[language] = language_usage.get(language, 0) + lines\n",
    "\n",
    "    total_lines_of_code = sum(language_usage.values())\n",
    "\n",
    "    formatted_languages = sorted(\n",
    "        [(language, f'{(lines / total_lines_of_code):.2%}', int(lines)) for language, lines in language_usage.items()],\n",
    "        key=lambda item: float(item[1].strip('%')),\n",
    "        reverse=True\n",
    "    )\n",
    "\n",
    "    file_path = f\"results/languages_usage.csv\"\n",
    "    dataframeLanguages = pd.DataFrame(formatted_languages, columns=[\"Language\", \"Usage Percentage\", \"Lines\"])\n",
    "    dataframeLanguages.to_csv(file_path, index=False)\n",
    "    return dataframeLanguages\n"
   ]
  },
  {
   "cell_type": "code",
   "execution_count": 8,
   "metadata": {},
   "outputs": [],
   "source": [
    "def generate_statistics(dataframe):\n",
    "    numeric_metrics = dataframe[METRICS].select_dtypes(include='number')\n",
    "    \n",
    "    statistics = numeric_metrics.describe().transpose()\n",
    "    \n",
    "    statistics['median'] = numeric_metrics.median()\n",
    "    statistics['mode'] = numeric_metrics.mode().iloc[0]\n",
    "    \n",
    "    file_path = f\"results/statistics.csv\"\n",
    "    statistics.to_csv(file_path)\n",
    "    \n",
    "    return statistics"
   ]
  },
  {
   "cell_type": "code",
   "execution_count": 9,
   "metadata": {},
   "outputs": [],
   "source": [
    "def plot_metrics_distribution(metricts):\n",
    "    plt.figure(figsize=(16, 12))\n",
    "\n",
    "    for i, metric in enumerate(metricts):\n",
    "        plt.subplot(3, 3, i + 1)\n",
    "        sns.histplot(dataframe[metric], kde=True, bins=30, color='blue', alpha=0.6)\n",
    "        plt.axvline(dataframe[metric].mean(), color='r', linestyle='dashed', linewidth=1, label='Mean')\n",
    "        plt.axvline(dataframe[metric].median(), color='g', linestyle='dashed', linewidth=1, label='Median')\n",
    "        plt.title(f'Distribution of {metric}')\n",
    "        plt.xlabel(metric)\n",
    "        plt.ylabel('Frequency')\n",
    "        plt.legend()\n",
    "\n",
    "    plt.tight_layout()\n",
    "    plt.savefig('results/distribution_metrics.png')\n",
    "    plt.show()"
   ]
  },
  {
   "cell_type": "code",
   "execution_count": 10,
   "metadata": {},
   "outputs": [],
   "source": [
    "def plot_metrics_boxplot(metricts):\n",
    "    numeric_metrics = dataframe[metricts].select_dtypes(include='number')\n",
    "    \n",
    "    plt.figure(figsize=(16, 12))\n",
    "    for i, metric in enumerate(numeric_metrics.columns):\n",
    "        plt.subplot(3, 3, i + 1)\n",
    "        sns.boxplot(x=numeric_metrics[metric], color='lightblue')\n",
    "        plt.title(f'Boxplot of {metric}')\n",
    "        plt.xlabel(metric)\n",
    "    \n",
    "    plt.tight_layout()\n",
    "    plt.savefig('results/boxplot_metrics.png')\n",
    "    plt.show()"
   ]
  },
  {
   "cell_type": "code",
   "execution_count": 11,
   "metadata": {},
   "outputs": [],
   "source": [
    "def plot_metrics_statistics(metricts):\n",
    "    desc_stats = dataframe[metricts].describe().T[['mean', '50%', 'std']]\n",
    "    desc_stats.columns = ['Mean', 'Median', 'Standard Deviation']\n",
    "    desc_stats.plot(kind='bar', figsize=(12, 6))\n",
    "    plt.title('Descriptive Statistics of Repository Metrics')\n",
    "    plt.ylabel('Values')\n",
    "    plt.xticks(rotation=0)\n",
    "    plt.savefig('results/metrics_statistics.png')\n",
    "    plt.show()"
   ]
  },
  {
   "cell_type": "markdown",
   "metadata": {},
   "source": [
    "# Results"
   ]
  },
  {
   "cell_type": "code",
   "execution_count": 12,
   "metadata": {},
   "outputs": [],
   "source": [
    "METRICS = [\n",
    "    'size', \n",
    "    'stargazers_count', \n",
    "    'watchers_count', \n",
    "    'forks_count', \n",
    "    'open_issues_count', \n",
    "    'subscribers_count', \n",
    "    'network_count',\n",
    "    'total_lines'\n",
    "]"
   ]
  },
  {
   "cell_type": "code",
   "execution_count": 13,
   "metadata": {},
   "outputs": [
    {
     "name": "stdout",
     "output_type": "stream",
     "text": [
      "Retrieving repos from googlesamples...\n",
      "Retrieving repos from aws-samples...\n",
      "Retrieving repos from Azure-Samples...\n",
      "Retrieving repos from spring-guides...\n",
      "Retrieving repos from googlearchive...\n",
      "Retrieving repos from spring-cloud-samples...\n"
     ]
    },
    {
     "name": "stderr",
     "output_type": "stream",
     "text": [
      "Processing organizations: 0 orgs [00:00, ? orgs/s]Request GET /orgs/Azure-Samples failed with 403: Forbidden\n",
      "Setting next backoff to 2503.767303s\n",
      "Request GET /orgs/spring-cloud-samples failed with 403: Forbidden\n",
      "Request GET /orgs/googlesamples failed with 403: Forbidden\n",
      "Request GET /orgs/spring-guides failed with 403: Forbidden\n",
      "Setting next backoff to 2503.763277s\n",
      "Setting next backoff to 2503.761725s\n",
      "Setting next backoff to 2503.761725s\n",
      "Request GET /orgs/googlearchive failed with 403: Forbidden\n",
      "Request GET /orgs/aws-samples failed with 403: Forbidden\n",
      "Setting next backoff to 2503.692118s\n",
      "Setting next backoff to 2503.688594s\n"
     ]
    }
   ],
   "source": [
    "dataframe = generate_metrics_csv()\n",
    "dataframe"
   ]
  },
  {
   "cell_type": "code",
   "execution_count": null,
   "metadata": {},
   "outputs": [],
   "source": [
    "dataframeLanguages = calculate_language_usage(dataframe)\n",
    "dataframeLanguages"
   ]
  },
  {
   "cell_type": "code",
   "execution_count": null,
   "metadata": {},
   "outputs": [],
   "source": [
    "dataframe_statistics = generate_statistics(dataframe)\n",
    "dataframe_statistics"
   ]
  },
  {
   "cell_type": "code",
   "execution_count": null,
   "metadata": {},
   "outputs": [],
   "source": [
    "metricts = [\n",
    "    'size', \n",
    "    'stargazers_count', \n",
    "    'watchers_count', \n",
    "    'forks_count', \n",
    "    'open_issues_count', \n",
    "    'subscribers_count', \n",
    "    'network_count',\n",
    "    'total_lines'\n",
    "]\n",
    "plot_metrics_distribution(metricts)"
   ]
  },
  {
   "cell_type": "code",
   "execution_count": null,
   "metadata": {},
   "outputs": [],
   "source": [
    "metricts = [\n",
    "    'size', \n",
    "    'stargazers_count', \n",
    "    'watchers_count', \n",
    "    'forks_count', \n",
    "    'open_issues_count', \n",
    "    'subscribers_count', \n",
    "    'network_count',\n",
    "    'total_lines'\n",
    "]\n",
    "plot_metrics_boxplot(metricts)"
   ]
  },
  {
   "cell_type": "code",
   "execution_count": null,
   "metadata": {},
   "outputs": [],
   "source": [
    "metricts = [\n",
    "    'stargazers_count', \n",
    "    'watchers_count', \n",
    "    'forks_count', \n",
    "    'open_issues_count', \n",
    "    'subscribers_count', \n",
    "    'network_count',\n",
    "]\n",
    "plot_metrics_statistics(metricts)"
   ]
  }
 ],
 "metadata": {
  "kernelspec": {
   "display_name": "Python 3",
   "language": "python",
   "name": "python3"
  },
  "language_info": {
   "codemirror_mode": {
    "name": "ipython",
    "version": 3
   },
   "file_extension": ".py",
   "mimetype": "text/x-python",
   "name": "python",
   "nbconvert_exporter": "python",
   "pygments_lexer": "ipython3",
   "version": "3.12.5"
  }
 },
 "nbformat": 4,
 "nbformat_minor": 2
}
