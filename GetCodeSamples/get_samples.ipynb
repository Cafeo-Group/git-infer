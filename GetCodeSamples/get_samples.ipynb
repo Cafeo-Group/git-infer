{
 "cells": [
  {
   "cell_type": "code",
   "execution_count": 25,
   "metadata": {},
   "outputs": [
    {
     "name": "stdout",
     "output_type": "stream",
     "text": [
      "Defaulting to user installation because normal site-packages is not writeable\n",
      "Requirement already satisfied: PyGithub in c:\\users\\oheit\\appdata\\local\\packages\\pythonsoftwarefoundation.python.3.12_qbz5n2kfra8p0\\localcache\\local-packages\\python312\\site-packages (2.3.0)\n",
      "Requirement already satisfied: pynacl>=1.4.0 in c:\\users\\oheit\\appdata\\local\\packages\\pythonsoftwarefoundation.python.3.12_qbz5n2kfra8p0\\localcache\\local-packages\\python312\\site-packages (from PyGithub) (1.5.0)\n",
      "Requirement already satisfied: requests>=2.14.0 in c:\\users\\oheit\\appdata\\local\\packages\\pythonsoftwarefoundation.python.3.12_qbz5n2kfra8p0\\localcache\\local-packages\\python312\\site-packages (from PyGithub) (2.32.3)\n",
      "Requirement already satisfied: pyjwt>=2.4.0 in c:\\users\\oheit\\appdata\\local\\packages\\pythonsoftwarefoundation.python.3.12_qbz5n2kfra8p0\\localcache\\local-packages\\python312\\site-packages (from pyjwt[crypto]>=2.4.0->PyGithub) (2.8.0)\n",
      "Requirement already satisfied: typing-extensions>=4.0.0 in c:\\users\\oheit\\appdata\\local\\packages\\pythonsoftwarefoundation.python.3.12_qbz5n2kfra8p0\\localcache\\local-packages\\python312\\site-packages (from PyGithub) (4.12.2)\n",
      "Requirement already satisfied: urllib3>=1.26.0 in c:\\users\\oheit\\appdata\\local\\packages\\pythonsoftwarefoundation.python.3.12_qbz5n2kfra8p0\\localcache\\local-packages\\python312\\site-packages (from PyGithub) (2.2.1)\n",
      "Requirement already satisfied: Deprecated in c:\\users\\oheit\\appdata\\local\\packages\\pythonsoftwarefoundation.python.3.12_qbz5n2kfra8p0\\localcache\\local-packages\\python312\\site-packages (from PyGithub) (1.2.14)\n",
      "Requirement already satisfied: cryptography>=3.4.0 in c:\\users\\oheit\\appdata\\local\\packages\\pythonsoftwarefoundation.python.3.12_qbz5n2kfra8p0\\localcache\\local-packages\\python312\\site-packages (from pyjwt[crypto]>=2.4.0->PyGithub) (42.0.8)\n",
      "Requirement already satisfied: cffi>=1.4.1 in c:\\users\\oheit\\appdata\\local\\packages\\pythonsoftwarefoundation.python.3.12_qbz5n2kfra8p0\\localcache\\local-packages\\python312\\site-packages (from pynacl>=1.4.0->PyGithub) (1.16.0)\n",
      "Requirement already satisfied: charset-normalizer<4,>=2 in c:\\users\\oheit\\appdata\\local\\packages\\pythonsoftwarefoundation.python.3.12_qbz5n2kfra8p0\\localcache\\local-packages\\python312\\site-packages (from requests>=2.14.0->PyGithub) (3.3.2)\n",
      "Requirement already satisfied: idna<4,>=2.5 in c:\\users\\oheit\\appdata\\local\\packages\\pythonsoftwarefoundation.python.3.12_qbz5n2kfra8p0\\localcache\\local-packages\\python312\\site-packages (from requests>=2.14.0->PyGithub) (3.7)\n",
      "Requirement already satisfied: certifi>=2017.4.17 in c:\\users\\oheit\\appdata\\local\\packages\\pythonsoftwarefoundation.python.3.12_qbz5n2kfra8p0\\localcache\\local-packages\\python312\\site-packages (from requests>=2.14.0->PyGithub) (2024.6.2)\n",
      "Requirement already satisfied: wrapt<2,>=1.10 in c:\\users\\oheit\\appdata\\local\\packages\\pythonsoftwarefoundation.python.3.12_qbz5n2kfra8p0\\localcache\\local-packages\\python312\\site-packages (from Deprecated->PyGithub) (1.16.0)\n",
      "Requirement already satisfied: pycparser in c:\\users\\oheit\\appdata\\local\\packages\\pythonsoftwarefoundation.python.3.12_qbz5n2kfra8p0\\localcache\\local-packages\\python312\\site-packages (from cffi>=1.4.1->pynacl>=1.4.0->PyGithub) (2.22)\n",
      "Defaulting to user installation because normal site-packages is not writeable\n",
      "Requirement already satisfied: python-dotenv in c:\\users\\oheit\\appdata\\local\\packages\\pythonsoftwarefoundation.python.3.12_qbz5n2kfra8p0\\localcache\\local-packages\\python312\\site-packages (1.0.1)\n"
     ]
    }
   ],
   "source": [
    "!pip install PyGithub\n",
    "!pip install python-dotenv"
   ]
  },
  {
   "cell_type": "code",
   "execution_count": 26,
   "metadata": {},
   "outputs": [
    {
     "data": {
      "text/plain": [
       "True"
      ]
     },
     "execution_count": 26,
     "metadata": {},
     "output_type": "execute_result"
    }
   ],
   "source": [
    "from github import Github\n",
    "import pandas as pd\n",
    "from dotenv import load_dotenv\n",
    "from os import getenv\n",
    "from concurrent.futures import ThreadPoolExecutor, as_completed"
   ]
  },
  {
   "cell_type": "code",
   "execution_count": 31,
   "metadata": {},
   "outputs": [
    {
     "ename": "",
     "evalue": "",
     "output_type": "error",
     "traceback": [
      "\u001b[1;31mThe Kernel crashed while executing code in the current cell or a previous cell. \n",
      "\u001b[1;31mPlease review the code in the cell(s) to identify a possible cause of the failure. \n",
      "\u001b[1;31mClick <a href='https://aka.ms/vscodeJupyterKernelCrash'>here</a> for more info. \n",
      "\u001b[1;31mView Jupyter <a href='command:jupyter.viewOutput'>log</a> for further details."
     ]
    }
   ],
   "source": [
    "load_dotenv()\n",
    "g = Github(getenv('GITHUB_TOKEN'))"
   ]
  },
  {
   "cell_type": "code",
   "execution_count": 28,
   "metadata": {},
   "outputs": [],
   "source": [
    "def get_repos(organization_name):\n",
    "    non_samples = [\"googlearchive/digits-migration-helper-android\", \"googlearchive/play-apk-expansion\", \"googlearchive/tiger\", \"googlearchive/two-token-sw\", \"googlearchive/Abelana-Android\", \"googlearchive/solutions-mobile-backend-starter-java\"]\n",
    "    organization = g.get_organization(organization_name)\n",
    "    repos = organization.get_repos(\"all\")\n",
    "    dataframe = pd.DataFrame(columns=[\"full_name\", \"created_at\", \"description\", \"forks_count\", \"language\", \"open_issues_count\", \"size\", \"stargazers_count\", \"subscribers_count\", \"updated_at\", \"watchers_count\"])\n",
    "    for repo in repos:\n",
    "        if repo.full_name in non_samples:\n",
    "            continue\n",
    "        if(repo.language == \"Java\"):\n",
    "            if(organization_name == \"googlearchive\"):\n",
    "                if(not repo.description == None and not (\"example\" in repo.description.lower() or \"sample\" in repo.description.lower() or \"example\" in repo.full_name.lower() or \"sample\" in repo.full_name.lower() or \"migrated\" in repo.description.lower())):\n",
    "                    continue\n",
    "            elif(organization_name == \"SAP-samples\"):\n",
    "                if(not repo.description == None and not (\"cloud\" in repo.description.lower() or \"cloud\" in repo.full_name.lower())):\n",
    "                    continue\n",
    "        else:\n",
    "            continue\n",
    "        \n",
    "        dataframe = pd.concat([dataframe, pd.DataFrame(data={\"framework\": [organization_name],\"full_name\": [repo.full_name], \"created_at\": [repo.created_at], \"description\": [repo.description], \"forks_count\": [repo.forks_count], \"language\": [repo.language], \"open_issues_count\": [repo.open_issues_count], \"size\": [repo.size], \"stargazers_count\": [repo.stargazers_count], \"subscribers_count\": [repo.subscribers_count], \"updated_at\": [repo.updated_at], \"watchers_count\": [repo.watchers_count]})])\n",
    "        # print(g.get_rate_limit())\n",
    "    return dataframe"
   ]
  },
  {
   "cell_type": "code",
   "execution_count": 29,
   "metadata": {},
   "outputs": [],
   "source": [
    "frameworks = [\"googlesamples\", \"aws-samples\" #, \"Azure-Samples\", \"spring-guides\", \"googlearchive\", \"spring-cloud-samples\"\n",
    "              ]"
   ]
  },
  {
   "cell_type": "code",
   "execution_count": 30,
   "metadata": {},
   "outputs": [
    {
     "name": "stderr",
     "output_type": "stream",
     "text": [
      "C:\\Users\\oheit\\AppData\\Local\\Temp\\ipykernel_42000\\1961481205.py:19: FutureWarning: The behavior of DataFrame concatenation with empty or all-NA entries is deprecated. In a future version, this will no longer exclude empty or all-NA columns when determining the result dtypes. To retain the old behavior, exclude the relevant entries before the concat operation.\n",
      "  dataframe = pd.concat([dataframe, pd.DataFrame(data={\"framework\": [organization_name],\"full_name\": [repo.full_name], \"created_at\": [repo.created_at], \"description\": [repo.description], \"forks_count\": [repo.forks_count], \"language\": [repo.language], \"open_issues_count\": [repo.open_issues_count], \"size\": [repo.size], \"stargazers_count\": [repo.stargazers_count], \"subscribers_count\": [repo.subscribers_count], \"updated_at\": [repo.updated_at], \"watchers_count\": [repo.watchers_count]})])\n",
      "C:\\Users\\oheit\\AppData\\Local\\Temp\\ipykernel_42000\\1961481205.py:19: FutureWarning: The behavior of DataFrame concatenation with empty or all-NA entries is deprecated. In a future version, this will no longer exclude empty or all-NA columns when determining the result dtypes. To retain the old behavior, exclude the relevant entries before the concat operation.\n",
      "  dataframe = pd.concat([dataframe, pd.DataFrame(data={\"framework\": [organization_name],\"full_name\": [repo.full_name], \"created_at\": [repo.created_at], \"description\": [repo.description], \"forks_count\": [repo.forks_count], \"language\": [repo.language], \"open_issues_count\": [repo.open_issues_count], \"size\": [repo.size], \"stargazers_count\": [repo.stargazers_count], \"subscribers_count\": [repo.subscribers_count], \"updated_at\": [repo.updated_at], \"watchers_count\": [repo.watchers_count]})])\n"
     ]
    },
    {
     "name": "stdout",
     "output_type": "stream",
     "text": [
      "done with googlesamples\n"
     ]
    },
    {
     "name": "stderr",
     "output_type": "stream",
     "text": [
      "C:\\Users\\oheit\\AppData\\Local\\Temp\\ipykernel_42000\\1961481205.py:19: FutureWarning: The behavior of DataFrame concatenation with empty or all-NA entries is deprecated. In a future version, this will no longer exclude empty or all-NA columns when determining the result dtypes. To retain the old behavior, exclude the relevant entries before the concat operation.\n",
      "  dataframe = pd.concat([dataframe, pd.DataFrame(data={\"framework\": [organization_name],\"full_name\": [repo.full_name], \"created_at\": [repo.created_at], \"description\": [repo.description], \"forks_count\": [repo.forks_count], \"language\": [repo.language], \"open_issues_count\": [repo.open_issues_count], \"size\": [repo.size], \"stargazers_count\": [repo.stargazers_count], \"subscribers_count\": [repo.subscribers_count], \"updated_at\": [repo.updated_at], \"watchers_count\": [repo.watchers_count]})])\n",
      "C:\\Users\\oheit\\AppData\\Local\\Temp\\ipykernel_42000\\1961481205.py:19: FutureWarning: The behavior of DataFrame concatenation with empty or all-NA entries is deprecated. In a future version, this will no longer exclude empty or all-NA columns when determining the result dtypes. To retain the old behavior, exclude the relevant entries before the concat operation.\n",
      "  dataframe = pd.concat([dataframe, pd.DataFrame(data={\"framework\": [organization_name],\"full_name\": [repo.full_name], \"created_at\": [repo.created_at], \"description\": [repo.description], \"forks_count\": [repo.forks_count], \"language\": [repo.language], \"open_issues_count\": [repo.open_issues_count], \"size\": [repo.size], \"stargazers_count\": [repo.stargazers_count], \"subscribers_count\": [repo.subscribers_count], \"updated_at\": [repo.updated_at], \"watchers_count\": [repo.watchers_count]})])\n"
     ]
    },
    {
     "name": "stdout",
     "output_type": "stream",
     "text": [
      "done with aws-samples\n"
     ]
    }
   ],
   "source": [
    "dataframe = pd.DataFrame()\n",
    "for framework in frameworks:\n",
    "    get_repos(framework)\n",
    "    dataframe = pd.concat([dataframe, get_repos(framework)])\n",
    "    print(f'done with {framework}')\n",
    "dataframe.to_csv(\"codesamples.csv\", index=False)"
   ]
  },
  {
   "cell_type": "code",
   "execution_count": null,
   "metadata": {},
   "outputs": [],
   "source": []
  }
 ],
 "metadata": {
  "kernelspec": {
   "display_name": "Python 3",
   "language": "python",
   "name": "python3"
  },
  "language_info": {
   "codemirror_mode": {
    "name": "ipython",
    "version": 3
   },
   "file_extension": ".py",
   "mimetype": "text/x-python",
   "name": "python",
   "nbconvert_exporter": "python",
   "pygments_lexer": "ipython3",
   "version": "3.12.4"
  }
 },
 "nbformat": 4,
 "nbformat_minor": 2
}
