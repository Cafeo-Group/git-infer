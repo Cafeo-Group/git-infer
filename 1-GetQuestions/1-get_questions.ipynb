{
 "cells": [
  {
   "cell_type": "code",
   "execution_count": 3,
   "id": "f1aebe35",
   "metadata": {},
   "outputs": [
    {
     "name": "stdout",
     "output_type": "stream",
     "text": [
      "Defaulting to user installation because normal site-packages is not writeable\n",
      "Requirement already satisfied: requests in c:\\users\\oheit\\appdata\\local\\packages\\pythonsoftwarefoundation.python.3.12_qbz5n2kfra8p0\\localcache\\local-packages\\python312\\site-packages (2.32.3)\n",
      "Requirement already satisfied: charset-normalizer<4,>=2 in c:\\users\\oheit\\appdata\\local\\packages\\pythonsoftwarefoundation.python.3.12_qbz5n2kfra8p0\\localcache\\local-packages\\python312\\site-packages (from requests) (3.3.2)\n",
      "Requirement already satisfied: idna<4,>=2.5 in c:\\users\\oheit\\appdata\\local\\packages\\pythonsoftwarefoundation.python.3.12_qbz5n2kfra8p0\\localcache\\local-packages\\python312\\site-packages (from requests) (3.7)\n",
      "Requirement already satisfied: urllib3<3,>=1.21.1 in c:\\users\\oheit\\appdata\\local\\packages\\pythonsoftwarefoundation.python.3.12_qbz5n2kfra8p0\\localcache\\local-packages\\python312\\site-packages (from requests) (2.2.1)\n",
      "Requirement already satisfied: certifi>=2017.4.17 in c:\\users\\oheit\\appdata\\local\\packages\\pythonsoftwarefoundation.python.3.12_qbz5n2kfra8p0\\localcache\\local-packages\\python312\\site-packages (from requests) (2024.6.2)\n",
      "Note: you may need to restart the kernel to use updated packages.\n"
     ]
    },
    {
     "name": "stderr",
     "output_type": "stream",
     "text": [
      "\n",
      "[notice] A new release of pip is available: 24.0 -> 24.1.2\n",
      "[notice] To update, run: C:\\Users\\oheit\\AppData\\Local\\Microsoft\\WindowsApps\\PythonSoftwareFoundation.Python.3.12_qbz5n2kfra8p0\\python.exe -m pip install --upgrade pip\n"
     ]
    },
    {
     "name": "stdout",
     "output_type": "stream",
     "text": [
      "Defaulting to user installation because normal site-packages is not writeable\n",
      "Requirement already satisfied: beautifulsoup4 in c:\\users\\oheit\\appdata\\local\\packages\\pythonsoftwarefoundation.python.3.12_qbz5n2kfra8p0\\localcache\\local-packages\\python312\\site-packages (4.12.3)\n",
      "Requirement already satisfied: soupsieve>1.2 in c:\\users\\oheit\\appdata\\local\\packages\\pythonsoftwarefoundation.python.3.12_qbz5n2kfra8p0\\localcache\\local-packages\\python312\\site-packages (from beautifulsoup4) (2.5)\n",
      "Note: you may need to restart the kernel to use updated packages.\n"
     ]
    },
    {
     "name": "stderr",
     "output_type": "stream",
     "text": [
      "\n",
      "[notice] A new release of pip is available: 24.0 -> 24.1.2\n",
      "[notice] To update, run: C:\\Users\\oheit\\AppData\\Local\\Microsoft\\WindowsApps\\PythonSoftwareFoundation.Python.3.12_qbz5n2kfra8p0\\python.exe -m pip install --upgrade pip\n"
     ]
    }
   ],
   "source": [
    "%pip install requests\n",
    "%pip install beautifulsoup4"
   ]
  },
  {
   "cell_type": "code",
   "execution_count": 4,
   "id": "fdeab6e4",
   "metadata": {},
   "outputs": [
    {
     "name": "stdout",
     "output_type": "stream",
     "text": [
      "Defaulting to user installation because normal site-packages is not writeable\n",
      "Requirement already satisfied: tqdm in c:\\users\\oheit\\appdata\\local\\packages\\pythonsoftwarefoundation.python.3.12_qbz5n2kfra8p0\\localcache\\local-packages\\python312\\site-packages (4.66.4)\n",
      "Requirement already satisfied: colorama in c:\\users\\oheit\\appdata\\local\\packages\\pythonsoftwarefoundation.python.3.12_qbz5n2kfra8p0\\localcache\\local-packages\\python312\\site-packages (from tqdm) (0.4.6)\n",
      "Note: you may need to restart the kernel to use updated packages.\n"
     ]
    },
    {
     "name": "stderr",
     "output_type": "stream",
     "text": [
      "\n",
      "[notice] A new release of pip is available: 24.0 -> 24.1.2\n",
      "[notice] To update, run: C:\\Users\\oheit\\AppData\\Local\\Microsoft\\WindowsApps\\PythonSoftwareFoundation.Python.3.12_qbz5n2kfra8p0\\python.exe -m pip install --upgrade pip\n"
     ]
    },
    {
     "name": "stdout",
     "output_type": "stream",
     "text": [
      "Note: you may need to restart the kernel to use updated packages.Defaulting to user installation because normal site-packages is not writeable\n",
      "Requirement already satisfied: py7zr in c:\\users\\oheit\\appdata\\local\\packages\\pythonsoftwarefoundation.python.3.12_qbz5n2kfra8p0\\localcache\\local-packages\\python312\\site-packages (0.21.0)\n",
      "Requirement already satisfied: texttable in c:\\users\\oheit\\appdata\\local\\packages\\pythonsoftwarefoundation.python.3.12_qbz5n2kfra8p0\\localcache\\local-packages\\python312\\site-packages (from py7zr) (1.7.0)\n",
      "Requirement already satisfied: pycryptodomex>=3.16.0 in c:\\users\\oheit\\appdata\\local\\packages\\pythonsoftwarefoundation.python.3.12_qbz5n2kfra8p0\\localcache\\local-packages\\python312\\site-packages (from py7zr) (3.20.0)\n",
      "Requirement already satisfied: pyzstd>=0.15.9 in c:\\users\\oheit\\appdata\\local\\packages\\pythonsoftwarefoundation.python.3.12_qbz5n2kfra8p0\\localcache\\local-packages\\python312\\site-packages (from py7zr) (0.16.0)\n",
      "Requirement already satisfied: pyppmd<1.2.0,>=1.1.0 in c:\\users\\oheit\\appdata\\local\\packages\\pythonsoftwarefoundation.python.3.12_qbz5n2kfra8p0\\localcache\\local-packages\\python312\\site-packages (from py7zr) (1.1.0)\n",
      "Requirement already satisfied: pybcj<1.1.0,>=1.0.0 in c:\\users\\oheit\\appdata\\local\\packages\\pythonsoftwarefoundation.python.3.12_qbz5n2kfra8p0\\localcache\\local-packages\\python312\\site-packages (from py7zr) (1.0.2)\n",
      "Requirement already satisfied: multivolumefile>=0.2.3 in c:\\users\\oheit\\appdata\\local\\packages\\pythonsoftwarefoundation.python.3.12_qbz5n2kfra8p0\\localcache\\local-packages\\python312\\site-packages (from py7zr) (0.2.3)\n",
      "Requirement already satisfied: inflate64<1.1.0,>=1.0.0 in c:\\users\\oheit\\appdata\\local\\packages\\pythonsoftwarefoundation.python.3.12_qbz5n2kfra8p0\\localcache\\local-packages\\python312\\site-packages (from py7zr) (1.0.0)\n",
      "Requirement already satisfied: brotli>=1.1.0 in c:\\users\\oheit\\appdata\\local\\packages\\pythonsoftwarefoundation.python.3.12_qbz5n2kfra8p0\\localcache\\local-packages\\python312\\site-packages (from py7zr) (1.1.0)\n",
      "Requirement already satisfied: psutil in c:\\users\\oheit\\appdata\\local\\packages\\pythonsoftwarefoundation.python.3.12_qbz5n2kfra8p0\\localcache\\local-packages\\python312\\site-packages (from py7zr) (5.9.8)\n",
      "\n"
     ]
    },
    {
     "name": "stderr",
     "output_type": "stream",
     "text": [
      "\n",
      "[notice] A new release of pip is available: 24.0 -> 24.1.2\n",
      "[notice] To update, run: C:\\Users\\oheit\\AppData\\Local\\Microsoft\\WindowsApps\\PythonSoftwareFoundation.Python.3.12_qbz5n2kfra8p0\\python.exe -m pip install --upgrade pip\n"
     ]
    }
   ],
   "source": [
    "%pip install tqdm\n",
    "%pip install py7zr"
   ]
  },
  {
   "cell_type": "code",
   "execution_count": 5,
   "id": "b2e050f3",
   "metadata": {},
   "outputs": [],
   "source": [
    "import xml.etree.ElementTree as et\n",
    "import pandas as pd\n",
    "import wget\n",
    "import py7zr\n",
    "import requests\n",
    "from tqdm import tqdm"
   ]
  },
  {
   "cell_type": "code",
   "execution_count": 6,
   "id": "31b76d6b",
   "metadata": {},
   "outputs": [],
   "source": [
    "def download_file(url, local_filename):\n",
    "    response = requests.get(url, stream=True)\n",
    "    total_size = int(response.headers.get('content-length', 0))\n",
    "    \n",
    "    with tqdm(total=total_size, unit='B', unit_scale=True, unit_divisor=1024) as bar:\n",
    "        with open(local_filename, 'wb') as f:\n",
    "            for chunk in response.iter_content(chunk_size=1024):\n",
    "                f.write(chunk)\n",
    "                bar.update(len(chunk))"
   ]
  },
  {
   "cell_type": "code",
   "execution_count": 7,
   "id": "5409b4ee",
   "metadata": {},
   "outputs": [
    {
     "name": "stderr",
     "output_type": "stream",
     "text": [
      "100%|██████████| 21.4G/21.4G [30:25<00:00, 12.6MB/s]  \n"
     ]
    }
   ],
   "source": [
    "download_file('https://archive.org/download/stackexchange/stackoverflow.com-Posts.7z', 'stackoverflow.com-Posts.7z')"
   ]
  },
  {
   "cell_type": "code",
   "execution_count": 11,
   "id": "9737cfbd",
   "metadata": {},
   "outputs": [],
   "source": [
    "def extract_with_progress(archive_path, extract_to):\n",
    "    # Create a py7zr archive object\n",
    "    with py7zr.SevenZipFile(archive_path, mode='r') as archive:\n",
    "        # List files to be extracted\n",
    "        file_list = archive.getnames()\n",
    "\n",
    "        # Create a tqdm progress bar with the total number of files\n",
    "        with tqdm(total=len(file_list), desc='Extracting files', unit='file') as pbar:\n",
    "            \n",
    "            # Extract all files and update progress bar\n",
    "            for file_name in file_list:\n",
    "                archive.extract(path=extract_to, targets=[file_name])\n",
    "                # Update progress bar\n",
    "                pbar.update(1)"
   ]
  },
  {
   "cell_type": "code",
   "execution_count": 13,
   "id": "dc860962",
   "metadata": {},
   "outputs": [
    {
     "name": "stderr",
     "output_type": "stream",
     "text": [
      "Extracting files:   0%|          | 0/1 [00:00<?, ?file/s]\n"
     ]
    },
    {
     "ename": "FileExistsError",
     "evalue": "[WinError 183] Cannot create a file when that file already exists: 'c:\\\\Users\\\\oheit\\\\OneDrive\\\\Desktop\\\\UNICAMP\\\\IC code samples\\\\git-infer\\\\1-GetQuestions\\\\Posts.xml'",
     "output_type": "error",
     "traceback": [
      "\u001b[1;31m---------------------------------------------------------------------------\u001b[0m",
      "\u001b[1;31mFileExistsError\u001b[0m                           Traceback (most recent call last)",
      "Cell \u001b[1;32mIn[13], line 1\u001b[0m\n\u001b[1;32m----> 1\u001b[0m \u001b[43mextract_with_progress\u001b[49m\u001b[43m(\u001b[49m\u001b[38;5;124;43m'\u001b[39;49m\u001b[38;5;124;43mstackoverflow.com-Posts.7z\u001b[39;49m\u001b[38;5;124;43m'\u001b[39;49m\u001b[43m,\u001b[49m\u001b[43m \u001b[49m\u001b[38;5;124;43m'\u001b[39;49m\u001b[38;5;124;43mPosts.xml\u001b[39;49m\u001b[38;5;124;43m'\u001b[39;49m\u001b[43m)\u001b[49m\n",
      "Cell \u001b[1;32mIn[11], line 12\u001b[0m, in \u001b[0;36mextract_with_progress\u001b[1;34m(archive_path, extract_to)\u001b[0m\n\u001b[0;32m      8\u001b[0m \u001b[38;5;28;01mwith\u001b[39;00m tqdm(total\u001b[38;5;241m=\u001b[39m\u001b[38;5;28mlen\u001b[39m(file_list), desc\u001b[38;5;241m=\u001b[39m\u001b[38;5;124m'\u001b[39m\u001b[38;5;124mExtracting files\u001b[39m\u001b[38;5;124m'\u001b[39m, unit\u001b[38;5;241m=\u001b[39m\u001b[38;5;124m'\u001b[39m\u001b[38;5;124mfile\u001b[39m\u001b[38;5;124m'\u001b[39m) \u001b[38;5;28;01mas\u001b[39;00m pbar:\n\u001b[0;32m      9\u001b[0m     \n\u001b[0;32m     10\u001b[0m     \u001b[38;5;66;03m# Extract all files and update progress bar\u001b[39;00m\n\u001b[0;32m     11\u001b[0m     \u001b[38;5;28;01mfor\u001b[39;00m file_name \u001b[38;5;129;01min\u001b[39;00m file_list:\n\u001b[1;32m---> 12\u001b[0m         \u001b[43marchive\u001b[49m\u001b[38;5;241;43m.\u001b[39;49m\u001b[43mextract\u001b[49m\u001b[43m(\u001b[49m\u001b[43mpath\u001b[49m\u001b[38;5;241;43m=\u001b[39;49m\u001b[43mextract_to\u001b[49m\u001b[43m,\u001b[49m\u001b[43m \u001b[49m\u001b[43mtargets\u001b[49m\u001b[38;5;241;43m=\u001b[39;49m\u001b[43m[\u001b[49m\u001b[43mfile_name\u001b[49m\u001b[43m]\u001b[49m\u001b[43m)\u001b[49m\n\u001b[0;32m     13\u001b[0m         \u001b[38;5;66;03m# Update progress bar\u001b[39;00m\n\u001b[0;32m     14\u001b[0m         pbar\u001b[38;5;241m.\u001b[39mupdate(\u001b[38;5;241m1\u001b[39m)\n",
      "File \u001b[1;32m~\\AppData\\Local\\Packages\\PythonSoftwareFoundation.Python.3.12_qbz5n2kfra8p0\\LocalCache\\local-packages\\Python312\\site-packages\\py7zr\\py7zr.py:988\u001b[0m, in \u001b[0;36mSevenZipFile.extract\u001b[1;34m(self, path, targets)\u001b[0m\n\u001b[0;32m    987\u001b[0m \u001b[38;5;28;01mdef\u001b[39;00m \u001b[38;5;21mextract\u001b[39m(\u001b[38;5;28mself\u001b[39m, path: Optional[Any] \u001b[38;5;241m=\u001b[39m \u001b[38;5;28;01mNone\u001b[39;00m, targets: Optional[Collection[\u001b[38;5;28mstr\u001b[39m]] \u001b[38;5;241m=\u001b[39m \u001b[38;5;28;01mNone\u001b[39;00m) \u001b[38;5;241m-\u001b[39m\u001b[38;5;241m>\u001b[39m \u001b[38;5;28;01mNone\u001b[39;00m:\n\u001b[1;32m--> 988\u001b[0m     \u001b[38;5;28;43mself\u001b[39;49m\u001b[38;5;241;43m.\u001b[39;49m\u001b[43m_extract\u001b[49m\u001b[43m(\u001b[49m\u001b[43mpath\u001b[49m\u001b[43m,\u001b[49m\u001b[43m \u001b[49m\u001b[43mtargets\u001b[49m\u001b[43m,\u001b[49m\u001b[43m \u001b[49m\u001b[43mreturn_dict\u001b[49m\u001b[38;5;241;43m=\u001b[39;49m\u001b[38;5;28;43;01mFalse\u001b[39;49;00m\u001b[43m)\u001b[49m\n",
      "File \u001b[1;32m~\\AppData\\Local\\Packages\\PythonSoftwareFoundation.Python.3.12_qbz5n2kfra8p0\\LocalCache\\local-packages\\Python312\\site-packages\\py7zr\\py7zr.py:622\u001b[0m, in \u001b[0;36mSevenZipFile._extract\u001b[1;34m(self, path, targets, return_dict, callback)\u001b[0m\n\u001b[0;32m    615\u001b[0m     \u001b[38;5;28mself\u001b[39m\u001b[38;5;241m.\u001b[39mworker\u001b[38;5;241m.\u001b[39mextract(\n\u001b[0;32m    616\u001b[0m         \u001b[38;5;28mself\u001b[39m\u001b[38;5;241m.\u001b[39mfp,\n\u001b[0;32m    617\u001b[0m         path,\n\u001b[0;32m    618\u001b[0m         parallel\u001b[38;5;241m=\u001b[39m(\u001b[38;5;129;01mnot\u001b[39;00m \u001b[38;5;28mself\u001b[39m\u001b[38;5;241m.\u001b[39mpassword_protected \u001b[38;5;129;01mand\u001b[39;00m \u001b[38;5;129;01mnot\u001b[39;00m \u001b[38;5;28mself\u001b[39m\u001b[38;5;241m.\u001b[39m_filePassed),\n\u001b[0;32m    619\u001b[0m         q\u001b[38;5;241m=\u001b[39m\u001b[38;5;28mself\u001b[39m\u001b[38;5;241m.\u001b[39mq,\n\u001b[0;32m    620\u001b[0m     )\n\u001b[0;32m    621\u001b[0m \u001b[38;5;28;01melse\u001b[39;00m:\n\u001b[1;32m--> 622\u001b[0m     \u001b[38;5;28;43mself\u001b[39;49m\u001b[38;5;241;43m.\u001b[39;49m\u001b[43mworker\u001b[49m\u001b[38;5;241;43m.\u001b[39;49m\u001b[43mextract\u001b[49m\u001b[43m(\u001b[49m\n\u001b[0;32m    623\u001b[0m \u001b[43m        \u001b[49m\u001b[38;5;28;43mself\u001b[39;49m\u001b[38;5;241;43m.\u001b[39;49m\u001b[43mfp\u001b[49m\u001b[43m,\u001b[49m\n\u001b[0;32m    624\u001b[0m \u001b[43m        \u001b[49m\u001b[43mpath\u001b[49m\u001b[43m,\u001b[49m\n\u001b[0;32m    625\u001b[0m \u001b[43m        \u001b[49m\u001b[43mparallel\u001b[49m\u001b[38;5;241;43m=\u001b[39;49m\u001b[43m(\u001b[49m\u001b[38;5;129;43;01mnot\u001b[39;49;00m\u001b[43m \u001b[49m\u001b[38;5;28;43mself\u001b[39;49m\u001b[38;5;241;43m.\u001b[39;49m\u001b[43mpassword_protected\u001b[49m\u001b[43m \u001b[49m\u001b[38;5;129;43;01mand\u001b[39;49;00m\u001b[43m \u001b[49m\u001b[38;5;129;43;01mnot\u001b[39;49;00m\u001b[43m \u001b[49m\u001b[38;5;28;43mself\u001b[39;49m\u001b[38;5;241;43m.\u001b[39;49m\u001b[43m_filePassed\u001b[49m\u001b[43m)\u001b[49m\u001b[43m,\u001b[49m\n\u001b[0;32m    626\u001b[0m \u001b[43m    \u001b[49m\u001b[43m)\u001b[49m\n\u001b[0;32m    628\u001b[0m \u001b[38;5;28mself\u001b[39m\u001b[38;5;241m.\u001b[39mq\u001b[38;5;241m.\u001b[39mput((\u001b[38;5;124m\"\u001b[39m\u001b[38;5;124mpost\u001b[39m\u001b[38;5;124m\"\u001b[39m, \u001b[38;5;28;01mNone\u001b[39;00m, \u001b[38;5;28;01mNone\u001b[39;00m))\n\u001b[0;32m    629\u001b[0m \u001b[38;5;66;03m# early return when dict specified\u001b[39;00m\n",
      "File \u001b[1;32m~\\AppData\\Local\\Packages\\PythonSoftwareFoundation.Python.3.12_qbz5n2kfra8p0\\LocalCache\\local-packages\\Python312\\site-packages\\py7zr\\py7zr.py:1228\u001b[0m, in \u001b[0;36mWorker.extract\u001b[1;34m(self, fp, path, parallel, skip_notarget, q)\u001b[0m\n\u001b[0;32m   1226\u001b[0m numfolders \u001b[38;5;241m=\u001b[39m \u001b[38;5;28mself\u001b[39m\u001b[38;5;241m.\u001b[39mheader\u001b[38;5;241m.\u001b[39mmain_streams\u001b[38;5;241m.\u001b[39munpackinfo\u001b[38;5;241m.\u001b[39mnumfolders\n\u001b[0;32m   1227\u001b[0m \u001b[38;5;28;01mif\u001b[39;00m numfolders \u001b[38;5;241m==\u001b[39m \u001b[38;5;241m1\u001b[39m:\n\u001b[1;32m-> 1228\u001b[0m     \u001b[38;5;28;43mself\u001b[39;49m\u001b[38;5;241;43m.\u001b[39;49m\u001b[43mextract_single\u001b[49m\u001b[43m(\u001b[49m\n\u001b[0;32m   1229\u001b[0m \u001b[43m        \u001b[49m\u001b[43mfp\u001b[49m\u001b[43m,\u001b[49m\n\u001b[0;32m   1230\u001b[0m \u001b[43m        \u001b[49m\u001b[38;5;28;43mself\u001b[39;49m\u001b[38;5;241;43m.\u001b[39;49m\u001b[43mfiles\u001b[49m\u001b[43m,\u001b[49m\n\u001b[0;32m   1231\u001b[0m \u001b[43m        \u001b[49m\u001b[43mpath\u001b[49m\u001b[43m,\u001b[49m\n\u001b[0;32m   1232\u001b[0m \u001b[43m        \u001b[49m\u001b[38;5;28;43mself\u001b[39;49m\u001b[38;5;241;43m.\u001b[39;49m\u001b[43msrc_start\u001b[49m\u001b[43m,\u001b[49m\n\u001b[0;32m   1233\u001b[0m \u001b[43m        \u001b[49m\u001b[43msrc_end\u001b[49m\u001b[43m,\u001b[49m\n\u001b[0;32m   1234\u001b[0m \u001b[43m        \u001b[49m\u001b[43mq\u001b[49m\u001b[43m,\u001b[49m\n\u001b[0;32m   1235\u001b[0m \u001b[43m        \u001b[49m\u001b[43mskip_notarget\u001b[49m\u001b[38;5;241;43m=\u001b[39;49m\u001b[43mskip_notarget\u001b[49m\u001b[43m,\u001b[49m\n\u001b[0;32m   1236\u001b[0m \u001b[43m    \u001b[49m\u001b[43m)\u001b[49m\n\u001b[0;32m   1237\u001b[0m \u001b[38;5;28;01melse\u001b[39;00m:\n\u001b[0;32m   1238\u001b[0m     folders \u001b[38;5;241m=\u001b[39m \u001b[38;5;28mself\u001b[39m\u001b[38;5;241m.\u001b[39mheader\u001b[38;5;241m.\u001b[39mmain_streams\u001b[38;5;241m.\u001b[39munpackinfo\u001b[38;5;241m.\u001b[39mfolders\n",
      "File \u001b[1;32m~\\AppData\\Local\\Packages\\PythonSoftwareFoundation.Python.3.12_qbz5n2kfra8p0\\LocalCache\\local-packages\\Python312\\site-packages\\py7zr\\py7zr.py:1316\u001b[0m, in \u001b[0;36mWorker.extract_single\u001b[1;34m(self, fp, files, path, src_start, src_end, q, exc_q, skip_notarget)\u001b[0m\n\u001b[0;32m   1314\u001b[0m \u001b[38;5;28;01mexcept\u001b[39;00m \u001b[38;5;167;01mException\u001b[39;00m \u001b[38;5;28;01mas\u001b[39;00m e:\n\u001b[0;32m   1315\u001b[0m     \u001b[38;5;28;01mif\u001b[39;00m exc_q \u001b[38;5;129;01mis\u001b[39;00m \u001b[38;5;28;01mNone\u001b[39;00m:\n\u001b[1;32m-> 1316\u001b[0m         \u001b[38;5;28;01mraise\u001b[39;00m e\n\u001b[0;32m   1317\u001b[0m     \u001b[38;5;28;01melse\u001b[39;00m:\n\u001b[0;32m   1318\u001b[0m         exc_tuple \u001b[38;5;241m=\u001b[39m sys\u001b[38;5;241m.\u001b[39mexc_info()\n",
      "File \u001b[1;32m~\\AppData\\Local\\Packages\\PythonSoftwareFoundation.Python.3.12_qbz5n2kfra8p0\\LocalCache\\local-packages\\Python312\\site-packages\\py7zr\\py7zr.py:1313\u001b[0m, in \u001b[0;36mWorker.extract_single\u001b[1;34m(self, fp, files, path, src_start, src_end, q, exc_q, skip_notarget)\u001b[0m\n\u001b[0;32m   1311\u001b[0m         fp \u001b[38;5;241m=\u001b[39m \u001b[38;5;28mopen\u001b[39m(fp, \u001b[38;5;124m\"\u001b[39m\u001b[38;5;124mrb\u001b[39m\u001b[38;5;124m\"\u001b[39m)\n\u001b[0;32m   1312\u001b[0m     fp\u001b[38;5;241m.\u001b[39mseek(src_start)\n\u001b[1;32m-> 1313\u001b[0m     \u001b[38;5;28;43mself\u001b[39;49m\u001b[38;5;241;43m.\u001b[39;49m\u001b[43m_extract_single\u001b[49m\u001b[43m(\u001b[49m\u001b[43mfp\u001b[49m\u001b[43m,\u001b[49m\u001b[43m \u001b[49m\u001b[43mfiles\u001b[49m\u001b[43m,\u001b[49m\u001b[43m \u001b[49m\u001b[43mpath\u001b[49m\u001b[43m,\u001b[49m\u001b[43m \u001b[49m\u001b[43msrc_end\u001b[49m\u001b[43m,\u001b[49m\u001b[43m \u001b[49m\u001b[43mq\u001b[49m\u001b[43m,\u001b[49m\u001b[43m \u001b[49m\u001b[43mskip_notarget\u001b[49m\u001b[43m)\u001b[49m\n\u001b[0;32m   1314\u001b[0m \u001b[38;5;28;01mexcept\u001b[39;00m \u001b[38;5;167;01mException\u001b[39;00m \u001b[38;5;28;01mas\u001b[39;00m e:\n\u001b[0;32m   1315\u001b[0m     \u001b[38;5;28;01mif\u001b[39;00m exc_q \u001b[38;5;129;01mis\u001b[39;00m \u001b[38;5;28;01mNone\u001b[39;00m:\n",
      "File \u001b[1;32m~\\AppData\\Local\\Packages\\PythonSoftwareFoundation.Python.3.12_qbz5n2kfra8p0\\LocalCache\\local-packages\\Python312\\site-packages\\py7zr\\py7zr.py:1352\u001b[0m, in \u001b[0;36mWorker._extract_single\u001b[1;34m(self, fp, files, path, src_end, q, skip_notarget)\u001b[0m\n\u001b[0;32m   1350\u001b[0m \u001b[38;5;28mself\u001b[39m\u001b[38;5;241m.\u001b[39m_check(fp, just_check, src_end)\n\u001b[0;32m   1351\u001b[0m just_check \u001b[38;5;241m=\u001b[39m []\n\u001b[1;32m-> 1352\u001b[0m \u001b[43mfileish\u001b[49m\u001b[38;5;241;43m.\u001b[39;49m\u001b[43mparent\u001b[49m\u001b[38;5;241;43m.\u001b[39;49m\u001b[43mmkdir\u001b[49m\u001b[43m(\u001b[49m\u001b[43mparents\u001b[49m\u001b[38;5;241;43m=\u001b[39;49m\u001b[38;5;28;43;01mTrue\u001b[39;49;00m\u001b[43m,\u001b[49m\u001b[43m \u001b[49m\u001b[43mexist_ok\u001b[49m\u001b[38;5;241;43m=\u001b[39;49m\u001b[38;5;28;43;01mTrue\u001b[39;49;00m\u001b[43m)\u001b[49m\n\u001b[0;32m   1353\u001b[0m \u001b[38;5;28;01mif\u001b[39;00m \u001b[38;5;129;01mnot\u001b[39;00m f\u001b[38;5;241m.\u001b[39memptystream:\n\u001b[0;32m   1354\u001b[0m     \u001b[38;5;28;01mif\u001b[39;00m f\u001b[38;5;241m.\u001b[39mis_junction \u001b[38;5;129;01mand\u001b[39;00m \u001b[38;5;129;01mnot\u001b[39;00m \u001b[38;5;28misinstance\u001b[39m(fileish, MemIO) \u001b[38;5;129;01mand\u001b[39;00m sys\u001b[38;5;241m.\u001b[39mplatform \u001b[38;5;241m==\u001b[39m \u001b[38;5;124m\"\u001b[39m\u001b[38;5;124mwin32\u001b[39m\u001b[38;5;124m\"\u001b[39m:\n",
      "File \u001b[1;32mC:\\Program Files\\WindowsApps\\PythonSoftwareFoundation.Python.3.12_3.12.1264.0_x64__qbz5n2kfra8p0\\Lib\\pathlib.py:1311\u001b[0m, in \u001b[0;36mPath.mkdir\u001b[1;34m(self, mode, parents, exist_ok)\u001b[0m\n\u001b[0;32m   1307\u001b[0m \u001b[38;5;250m\u001b[39m\u001b[38;5;124;03m\"\"\"\u001b[39;00m\n\u001b[0;32m   1308\u001b[0m \u001b[38;5;124;03mCreate a new directory at this given path.\u001b[39;00m\n\u001b[0;32m   1309\u001b[0m \u001b[38;5;124;03m\"\"\"\u001b[39;00m\n\u001b[0;32m   1310\u001b[0m \u001b[38;5;28;01mtry\u001b[39;00m:\n\u001b[1;32m-> 1311\u001b[0m     \u001b[43mos\u001b[49m\u001b[38;5;241;43m.\u001b[39;49m\u001b[43mmkdir\u001b[49m\u001b[43m(\u001b[49m\u001b[38;5;28;43mself\u001b[39;49m\u001b[43m,\u001b[49m\u001b[43m \u001b[49m\u001b[43mmode\u001b[49m\u001b[43m)\u001b[49m\n\u001b[0;32m   1312\u001b[0m \u001b[38;5;28;01mexcept\u001b[39;00m \u001b[38;5;167;01mFileNotFoundError\u001b[39;00m:\n\u001b[0;32m   1313\u001b[0m     \u001b[38;5;28;01mif\u001b[39;00m \u001b[38;5;129;01mnot\u001b[39;00m parents \u001b[38;5;129;01mor\u001b[39;00m \u001b[38;5;28mself\u001b[39m\u001b[38;5;241m.\u001b[39mparent \u001b[38;5;241m==\u001b[39m \u001b[38;5;28mself\u001b[39m:\n",
      "\u001b[1;31mFileExistsError\u001b[0m: [WinError 183] Cannot create a file when that file already exists: 'c:\\\\Users\\\\oheit\\\\OneDrive\\\\Desktop\\\\UNICAMP\\\\IC code samples\\\\git-infer\\\\1-GetQuestions\\\\Posts.xml'"
     ]
    }
   ],
   "source": [
    "extract_with_progress('stackoverflow.com-Posts.7z', 'Posts.xml')"
   ]
  },
  {
   "cell_type": "code",
   "execution_count": 14,
   "id": "27acac04",
   "metadata": {},
   "outputs": [],
   "source": [
    "postPath = \"Posts.xml\"\n",
    "questions = []\n"
   ]
  },
  {
   "cell_type": "code",
   "execution_count": 15,
   "id": "d5a16496",
   "metadata": {},
   "outputs": [
    {
     "name": "stdout",
     "output_type": "stream",
     "text": [
      "1000000\n",
      "1200000\n",
      "1500000\n",
      "1600000\n",
      "2300000\n"
     ]
    },
    {
     "ename": "",
     "evalue": "",
     "output_type": "error",
     "traceback": [
      "\u001b[1;31mThe Kernel crashed while executing code in the current cell or a previous cell. \n",
      "\u001b[1;31mPlease review the code in the cell(s) to identify a possible cause of the failure. \n",
      "\u001b[1;31mClick <a href='https://aka.ms/vscodeJupyterKernelCrash'>here</a> for more info. \n",
      "\u001b[1;31mView Jupyter <a href='command:jupyter.viewOutput'>log</a> for further details."
     ]
    }
   ],
   "source": [
    "with open(postPath, encoding='utf-8') as posts:\n",
    "    for line in posts:\n",
    "        if \"<?xml\" in line or \"<posts>\" in line:\n",
    "            continue\n",
    "        try:\n",
    "            parsed = et.fromstring(line)\n",
    "        except:\n",
    "            continue\n",
    "        if parsed.get(\"PostTypeId\") != \"1\":\n",
    "            continue\n",
    "        id = int(parsed.get(\"Id\"))\n",
    "        if id % 100000 == 0:\n",
    "            print(id)\n",
    "            \n",
    "        if \"github.com/android/android-test\" in parsed.get(\"Body\") or \\\n",
    "           \"github.com/android/compose-samples\" in parsed.get(\"Body\") or \\\n",
    "           \"github.com/android/nowinandroid\" in parsed.get(\"Body\") or \\\n",
    "           \"github.com/android/snippets\" in parsed.get(\"Body\") or \\\n",
    "           \"github.com/android/gradle-recipes\" in parsed.get(\"Body\") or \\\n",
    "           \"github.com/android/wear-os-samples\" in parsed.get(\"Body\") or \\\n",
    "           \"github.com/android/security-certification-resources\" in parsed.get(\"Body\") or \\\n",
    "           \"github.com/android/ndk-samples\" in parsed.get(\"Body\") or \\\n",
    "           \"github.com/android/user-interface-samples\" in parsed.get(\"Body\") or \\\n",
    "           \"github.com/android/camera-samples\" in parsed.get(\"Body\") or \\\n",
    "           \"github.com/android/codelab-android-compose\" in parsed.get(\"Body\") or \\\n",
    "           \"github.com/android/play-billing-samples\" in parsed.get(\"Body\") or \\\n",
    "           \"github.com/android/architecture-samples\" in parsed.get(\"Body\") or \\\n",
    "           \"github.com/android/animation-samples\" in parsed.get(\"Body\") or \\\n",
    "           \"github.com/android/socialite\" in parsed.get(\"Body\") or \\\n",
    "           \"github.com/android/architecture-templates\" in parsed.get(\"Body\") or \\\n",
    "           \"github.com/android/health-samples\" in parsed.get(\"Body\") or \\\n",
    "           \"github.com/android/platform-samples\" in parsed.get(\"Body\") or \\\n",
    "           \"github.com/android/identity-samples\" in parsed.get(\"Body\") or \\\n",
    "           \"github.com/android/ndk\" in parsed.get(\"Body\") or \\\n",
    "           \"github.com/android/testing-samples\" in parsed.get(\"Body\") or \\\n",
    "           \"github.com/android/codelab-android-performance\" in parsed.get(\"Body\") or \\\n",
    "           \"github.com/android/sunflower\" in parsed.get(\"Body\") or \\\n",
    "           \"github.com/android/performance-samples\" in parsed.get(\"Body\") or \\\n",
    "           \"github.com/android/codelab-android-paging\" in parsed.get(\"Body\") or \\\n",
    "           \"github.com/android/midi-samples\" in parsed.get(\"Body\") or \\\n",
    "           \"github.com/android/connectivity-samples\" in parsed.get(\"Body\") or \\\n",
    "           \"github.com/android/tv-samples\" in parsed.get(\"Body\") or \\\n",
    "           \"github.com/android/security-samples\" in parsed.get(\"Body\") or \\\n",
    "           \"github.com/android/privacy-sandbox-samples\" in parsed.get(\"Body\") or \\\n",
    "           \"github.com/android/uamp\" in parsed.get(\"Body\") or \\\n",
    "           \"github.com/android/adpf-game-adaptability-codelab\" in parsed.get(\"Body\") or \\\n",
    "           \"github.com/android/games-samples\" in parsed.get(\"Body\") or \\\n",
    "           \"github.com/android/car-samples\" in parsed.get(\"Body\") or \\\n",
    "           \"github.com/android/large-screen-codelabs\" in parsed.get(\"Body\") or \\\n",
    "           \"github.com/android/architecture-components-samples\" in parsed.get(\"Body\") or \\\n",
    "           \"github.com/android/codelab-ongoing-activity\" in parsed.get(\"Body\") or \\\n",
    "           \"github.com/android/media-samples\" in parsed.get(\"Body\") or \\\n",
    "           \"github.com/android/codelab-android-camera2-preview\" in parsed.get(\"Body\") or \\\n",
    "           \"github.com/android/app-bundle-samples\" in parsed.get(\"Body\") or \\\n",
    "           \"github.com/android/storage-samples\" in parsed.get(\"Body\") or \\\n",
    "           \"github.com/android/views-widgets-samples\" in parsed.get(\"Body\") or \\\n",
    "           \"github.com/android/cose-lib\" in parsed.get(\"Body\") or \\\n",
    "           \"github.com/android/graphics-samples\" in parsed.get(\"Body\") or \\\n",
    "           \"github.com/android/input-samples\" in parsed.get(\"Body\") or \\\n",
    "           \"github.com/android/tuningfork\" in parsed.get(\"Body\") or \\\n",
    "           \"github.com/android/codelab-android-dagger\" in parsed.get(\"Body\") or \\\n",
    "           \"github.com/android/codelab-fido2\" in parsed.get(\"Body\") or \\\n",
    "           \"github.com/android/gradle-declarative\" in parsed.get(\"Body\") or \\\n",
    "           \"github.com/android/kotlin-multiplatform-samples\" in parsed.get(\"Body\") or \\\n",
    "           \"github.com/android/codelab-android-workmanager\" in parsed.get(\"Body\") or \\\n",
    "           \"github.com/android/renderscript-intrinsics-replacement-toolkit\" in parsed.get(\"Body\") or \\\n",
    "           \"github.com/android/renderscript-samples\" in parsed.get(\"Body\") or \\\n",
    "           \"github.com/android/android-health-connect-codelab\" in parsed.get(\"Body\") or \\\n",
    "           \"github.com/android/android.github.io\" in parsed.get(\"Body\") or \\\n",
    "           \"github.com/android/search-samples\" in parsed.get(\"Body\") or \\\n",
    "           \"github.com/android/location-samples\" in parsed.get(\"Body\") or \\\n",
    "           \"github.com/android/codelab-compose-for-wear-os\" in parsed.get(\"Body\") or \\\n",
    "           \"github.com/android/enterprise-samples\" in parsed.get(\"Body\") or \\\n",
    "           \"github.com/android/codelab-android-sleep\" in parsed.get(\"Body\") or \\\n",
    "           \"github.com/android/codelab-android-room-with-a-view\" in parsed.get(\"Body\") or \\\n",
    "           \"github.com/android/codelab-android-datastore\" in parsed.get(\"Body\") or \\\n",
    "           \"github.com/android/tv-codelabs\" in parsed.get(\"Body\") or \\\n",
    "           \"github.com/android/rr\" in parsed.get(\"Body\") or \\\n",
    "           \"github.com/android/people-messaging-codelab\" in parsed.get(\"Body\") or \\\n",
    "           \"github.com/android/codelab-exoplayer-intro\" in parsed.get(\"Body\") or \\\n",
    "           \"github.com/android/add-play-integrity-codelab\" in parsed.get(\"Body\") or \\\n",
    "           \"github.com/android/permissions-samples\" in parsed.get(\"Body\") or \\\n",
    "           \"github.com/android/privacy-codelab\" in parsed.get(\"Body\") or \\\n",
    "           \"github.com/android/car-codelabs\" in parsed.get(\"Body\") or \\\n",
    "           \"github.com/android/deep-links\" in parsed.get(\"Body\") or \\\n",
    "           \"github.com/android/codelab-java-friendly-kotlin\" in parsed.get(\"Body\") or \\\n",
    "           \"github.com/android/app-actions-samples\" in parsed.get(\"Body\") or \\\n",
    "           \"github.com/android/databinding-samples\" in parsed.get(\"Body\") or \\\n",
    "           \"github.com/android/codelab-handling-back-navigation\" in parsed.get(\"Body\") or \\\n",
    "           \"github.com/android/android-studio-poet\" in parsed.get(\"Body\") or \\\n",
    "           \"github.com/android/.allstar\" in parsed.get(\"Body\") or \\\n",
    "           \"github.com/android/codelab-android-accessibility\" in parsed.get(\"Body\") or \\\n",
    "           \"github.com/android/project-replicator\" in parsed.get(\"Body\") or \\\n",
    "           \"github.com/android/trackr\" in parsed.get(\"Body\") or \\\n",
    "           \"github.com/android/android-dev-challenge-compose\" in parsed.get(\"Body\") or \\\n",
    "           \"github.com/android/codelab-android-hilt\" in parsed.get(\"Body\") or \\\n",
    "           \"github.com/android/codelab-wear-tiles\" in parsed.get(\"Body\") or \\\n",
    "           \"github.com/android/codelab-cronet-basics\" in parsed.get(\"Body\") or \\\n",
    "           \"github.com/android/codelab-android-wavemaker\" in parsed.get(\"Body\") or \\\n",
    "           \"github.com/android/add-adaptive-layouts\" in parsed.get(\"Body\") or \\\n",
    "           \"github.com/android/codelab-while-in-use-location\" in parsed.get(\"Body\") or \\\n",
    "           \"github.com/android/codelab-kotlin-coroutines\" in parsed.get(\"Body\") or \\\n",
    "           \"github.com/android/codelab-slices-basic-codelab\" in parsed.get(\"Body\") or \\\n",
    "           \"github.com/android/codelab-android-people\" in parsed.get(\"Body\") or \\\n",
    "           \"github.com/android/neural-networks-samples\" in parsed.get(\"Body\") or \\\n",
    "           \"github.com/android/codelab-activity_transitionapi\" in parsed.get(\"Body\") or \\\n",
    "           \"github.com/android/codelab-android-dagger-to-hilt\" in parsed.get(\"Body\") or \\\n",
    "           \"github.com/android/codelab-android-gestural-navigation\" in parsed.get(\"Body\") or \\\n",
    "           \"github.com/android/codelab-android-lifecycles\" in parsed.get(\"Body\") or \\\n",
    "           \"github.com/android/codelab-android-navigation\" in parsed.get(\"Body\") or \\\n",
    "           \"github.com/android/codelab-constraint-layout\" in parsed.get(\"Body\") or \\\n",
    "           \"github.com/android/codelab-android-databinding\" in parsed.get(\"Body\") or \\\n",
    "           \"github.com/android/codelab-biometric-login\" in parsed.get(\"Body\") or \\\n",
    "           \"github.com/android/codelab-android-wavemaker2\" in parsed.get(\"Body\") or \\\n",
    "           \"github.com/android/codelab-android-foldable\" in parsed.get(\"Body\") or \\\n",
    "           \"github.com/android/codelab-android-direct-share\" in parsed.get(\"Body\") or \\\n",
    "           \"github.com/android/codelab-android-network-security-config\" in parsed.get(\"Body\") or \\\n",
    "           \"github.com/android/codelab-android-dynamic-features\" in parsed.get(\"Body\") or \\\n",
    "           \"github.com/android/codelab-complications-data-source\" in parsed.get(\"Body\") or \\\n",
    "           \"github.com/android/packager-manager-samples\" in parsed.get(\"Body\") or \\\n",
    "           \"github.com/android/remote-provisioning-cbor\" in parsed.get(\"Body\") or \\\n",
    "           \"github.com/android/codelab-android-stamp-collector-app\" in parsed.get(\"Body\") or \\\n",
    "           \"github.com/android/codelab-permissions\" in parsed.get(\"Body\") or \\\n",
    "           \"github.com/android/codelab-watchnext-for-movie-tv-episodes\" in parsed.get(\"Body\") or \\\n",
    "           \"github.com/android/codelab-tv-recommendations-kotlin\" in parsed.get(\"Body\") or \\\n",
    "           \"github.com/android/codelab-mlkit-android\" in parsed.get(\"Body\") or \\\n",
    "           \"github.com/android/fit-samples\" in parsed.get(\"Body\") or \\\n",
    "           \"github.com/android/topeka\" in parsed.get(\"Body\") or \\\n",
    "           \"github.com/android/sensors-samples\" in parsed.get(\"Body\") or \\\n",
    "           \"github.com/android/kotlin\" in parsed.get(\"Body\") or \\\n",
    "           \"github.com/android/.github\" in parsed.get(\"Body\") or \\\n",
    "           \"github.com/android/codelab-android-backup\" in parsed.get(\"Body\") or \\\n",
    "           \"github.com/android/codelab-android-using-kotlin\" in parsed.get(\"Body\") or \\\n",
    "           \"github.com/android/xAnd11\" in parsed.get(\"Body\"):\n",
    "            questions.append(parsed)\n"
   ]
  },
  {
   "cell_type": "code",
   "execution_count": null,
   "id": "03bf5768",
   "metadata": {},
   "outputs": [],
   "source": [
    "len(questions)"
   ]
  },
  {
   "cell_type": "code",
   "execution_count": null,
   "id": "ffbe0fd7",
   "metadata": {},
   "outputs": [],
   "source": [
    "def filterSamples(samplesPath, questions):\n",
    "    lines = []\n",
    "    for samplePath in samplesPath[\"link\"]:\n",
    "        owner = samplePath.split(\"/\")[0]\n",
    "        sample = samplePath.split(\"/android/\")[1]\n",
    "        for question in questions:\n",
    "            if sample in question.get(\"Body\"):\n",
    "                print(f\"{question.get('Id')}\")\n",
    "                lines.append([owner, sample, question.get(\"Id\"), question.get(\"CreationDate\"), question.get(\"OwnerUserId\"), question.get(\"PostTypeId\"), question.get(\"AcceptedAnswerId\")])\n",
    "    return lines"
   ]
  },
  {
   "cell_type": "code",
   "execution_count": null,
   "id": "84acfa7b",
   "metadata": {},
   "outputs": [],
   "source": [
    "def createDataFrame(lines):\n",
    "    columns = [\"framework\", \"path\", \"id\", \"creationDate\", \"ownerUserId\", \"postTypeId\", \"acceptedAnswerId\"]\n",
    "    df = pd.DataFrame(lines, columns=columns)\n",
    "    return df"
   ]
  },
  {
   "cell_type": "code",
   "execution_count": null,
   "id": "32b0ab64",
   "metadata": {},
   "outputs": [],
   "source": [
    "samplesPath = pd.read_csv(\"CodeSamples_Paths.csv\")"
   ]
  },
  {
   "cell_type": "code",
   "execution_count": null,
   "id": "92ebe4c5",
   "metadata": {},
   "outputs": [],
   "source": [
    "samplesDF = createDataFrame(filterSamples(samplesPath, questions))\n",
    "samplesDF.to_csv(\"sampleQuestions.csv\", index=False)\n",
    "samplesDF[\"path\"].drop_duplicates().to_csv(\"sampleWithQuestions.csv\", index=False)"
   ]
  }
 ],
 "metadata": {
  "kernelspec": {
   "display_name": "Python 3 (ipykernel)",
   "language": "python",
   "name": "python3"
  },
  "language_info": {
   "codemirror_mode": {
    "name": "ipython",
    "version": 3
   },
   "file_extension": ".py",
   "mimetype": "text/x-python",
   "name": "python",
   "nbconvert_exporter": "python",
   "pygments_lexer": "ipython3",
   "version": "3.12.4"
  }
 },
 "nbformat": 4,
 "nbformat_minor": 5
}
